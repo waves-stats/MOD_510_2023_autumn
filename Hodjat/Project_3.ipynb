{
 "cells": [
  {
   "cell_type": "code",
   "execution_count": 102,
   "id": "290d48e7-0730-41db-993e-a3d64b08ec3a",
   "metadata": {},
   "outputs": [],
   "source": [
    "import numpy as np\n",
    "import matplotlib.pyplot as plt\n",
    "import ast\n",
    "import math"
   ]
  },
  {
   "cell_type": "code",
   "execution_count": 154,
   "id": "e93b2ae8-cbb9-4ba8-8314-ca6dcd85684a",
   "metadata": {},
   "outputs": [],
   "source": [
    "class ODE_Solver:\n",
    "    ''' Class to solve ODE: dy/dt = f(y, t). The predefined function, f(y, t), is e^t.\n",
    "    The function can is an input argument and should be string containing Python expretion as a function of t only.\n",
    "    Three methods are available: Euler, Runge Kutta 2snd order and Runge Kutta 4th order\n",
    "    Parameters: \n",
    "    t0 : staring time\n",
    "    tf : final simulation time\n",
    "    f  : math function f(y, t), string\n",
    "    y0 : initial condition at t0\n",
    "    dt : time step'''\n",
    "\n",
    "    def __init__(self, t0=0, tf=5, y0=1, dt=1, function = 'math.exp(t)'):\n",
    "        self.t0 = t0\n",
    "        self.tf = tf\n",
    "        self.function = function\n",
    "        self.y0 = y0\n",
    "        self.dt = dt\n",
    "        \n",
    "    def evaluate_equation(self, equation, t):\n",
    "        '''Takes the equation, f(y, t), as an argument and calculates the equation with the input value for t'''\n",
    "        try:\n",
    "            result = eval(equation)\n",
    "            return result\n",
    "        except Exception as e:\n",
    "            print(f\"\\nError: {e}. The input function for f(y, t) should be a string containing a valid Python expression and a function of t only.\")\n",
    "            return f\"\\nError: {e}\"\n",
    "\n",
    "    def solve(self,  method='Euler'):\n",
    "        '''select the solver'''\n",
    "        match method:\n",
    "            case 'Euler':\n",
    "                return self.euler_method()\n",
    "            case 'RK2':\n",
    "                return self.runge_kutta_2nd()\n",
    "            case 'RK4':\n",
    "                return self.runge_kutta_4th()\n",
    "            case other:\n",
    "                print(\"Invalid method specified. valid methods are: 'Euler', 'RK2', 'RK4'\")\n",
    "\n",
    "    def euler_method(self):\n",
    "        ''' solving the ODE with Euler method'''\n",
    "        print(f\" Euler method is used to solve dy/dt = {self.function}.\")\n",
    "        # List of time steps and results used and calculated.\n",
    "        time = [self.t0]\n",
    "        results = [self.y0]\n",
    "\n",
    "        # start of the method\n",
    "        t = self.t0\n",
    "        self.y = self.y0\n",
    "\n",
    "        while t < self.tf:\n",
    "            #  approximate the next value usin Euler's method\n",
    "            self.y += self.dt * self.evaluate_equation(self.function, t)\n",
    "            # Increment time by dt\n",
    "            t += self.dt\n",
    "            #  Append the time-step and approximate to the lists\n",
    "            time.append(t)\n",
    "            results.append(self.y)\n",
    "\n",
    "        return time, results\n",
    "\n",
    "    def runge_kutta_2nd(self):\n",
    "        ''' solving the ODE with runge_kutta 2nd order'''\n",
    "        print(f\" Runge_Kutta 2nd order method is used to solve dy/dt = {self.function}.\")\n",
    "                # List of time steps and results used and calculated.\n",
    "        time = [self.t0]\n",
    "        results = [self.y0]\n",
    "\n",
    "        # start of the method\n",
    "        t = self.t0\n",
    "        self.y = self.y0\n",
    "\n",
    "        while t < self.tf:\n",
    "            # calculate the k values and approximate the next value \n",
    "            self.k1 = self.dt * self.evaluate_equation(self.function, t)\n",
    "            k2 = self.dt * self.evaluate_equation(self.function + ' + 0.5 * self.k1', t + 0.5 * self.dt)\n",
    "            self.y += k2\n",
    "            #  increment time by dt\n",
    "            t += self.dt\n",
    "            #  Append the time-step and approximate to the lists\n",
    "            time.append(t)\n",
    "            results.append(self.y)\n",
    "            \n",
    "        return time, results\n",
    "\n",
    "    def runge_kutta_4th(self):\n",
    "        ''' solving the ODE with runge_kutta 4th order'''\n",
    "        print(f\" Runge_Kutta 4th order method is used to solve dy/dt = {self.function}.\")\n",
    "                # List of time steps and results used and calculated.\n",
    "        time = [self.t0]\n",
    "        results = [self.y0]\n",
    "\n",
    "        # start of the method\n",
    "        t = self.t0\n",
    "        self.y = self.y0\n",
    "\n",
    "        while t < self.tf:\n",
    "            # calculate the k values and approximate the next value \n",
    "            self.k1 = self.dt * self.evaluate_equation(self.function, t)\n",
    "            self.k2 = self.dt * self.evaluate_equation(self.function + ' + 0.5 * self.k1', t + 0.5 * self.dt)\n",
    "            self.k3 = self.dt * self.evaluate_equation(self.function + ' + 0.5 * self.k2', t + 0.5 * self.dt)\n",
    "            k4 = self.dt * self.evaluate_equation(self.function + ' + self.k3', t + self.dt)\n",
    "            self.y += (self.k1 + 2 * self.k2 + 2 * self.k3 + k4) / 6\n",
    "            #  increment time by dt\n",
    "            t += self.dt\n",
    "            #  Append the time-step and approximate to the lists\n",
    "            time.append(t)\n",
    "            results.append(self.y)\n",
    "            \n",
    "        return time, results\n",
    "\n"
   ]
  },
  {
   "cell_type": "code",
   "execution_count": 157,
   "id": "952f765a-4518-4aee-9fdd-aae5554453e2",
   "metadata": {},
   "outputs": [
    {
     "name": "stdout",
     "output_type": "stream",
     "text": [
      " Runge_Kutta 4th order method is used to solve dy/dt = -self.y/2.\n",
      " Runge_Kutta 2nd order method is used to solve dy/dt = -self.y/2.\n",
      " Euler method is used to solve dy/dt = -self.y/2.\n"
     ]
    }
   ],
   "source": [
    "m = ODE_Solver(dt = 0.5, tf = 20, y0 = 1, function = '-self.y/2')\n",
    "timeRK4 , resultRK4 = m.solve('RK4')\n",
    "timeRK2 , resultRK2 = m.solve('RK2')\n",
    "timeE , resultE = m.solve('Euler')"
   ]
  },
  {
   "cell_type": "code",
   "execution_count": 159,
   "id": "88714dc0-a328-4548-ab15-b56763009947",
   "metadata": {},
   "outputs": [
    {
     "data": {
      "image/png": "[encoded data removed]",
      "text/plain": [
       "<Figure size 1500x500 with 1 Axes>"
      ]
     },
     "metadata": {},
     "output_type": "display_data"
    }
   ],
   "source": [
    "plt.figure(figsize=(15, 5))\n",
    "# Plot RK4 results\n",
    "plt.plot(timeRK4, resultRK4, label=\"RK4\", color=\"blue\")\n",
    "\n",
    "# Plot RK2 results\n",
    "plt.plot(timeRK2, resultRK2, label=\"RK2\", color=\"green\")\n",
    "\n",
    "# Plot Euler results\n",
    "plt.plot(timeE, resultE, label=\"Euler\", color=\"red\")\n",
    "plt.xlabel(\"Time\")\n",
    "plt.ylabel(\"Result\")\n",
    "plt.title(\"ODE Solvers Comparison\")\n",
    "plt.legend()\n",
    "plt.grid()\n",
    "plt.show()"
   ]
  },
  {
   "cell_type": "code",
   "execution_count": 133,
   "id": "c24a897f-54fb-4a20-bc07-e1904181c8ad",
   "metadata": {},
   "outputs": [
    {
     "ename": "SyntaxError",
     "evalue": "closing parenthesis ']' does not match opening parenthesis '(' (2281481920.py, line 63)",
     "output_type": "error",
     "traceback": [
      "\u001b[1;36m  Cell \u001b[1;32mIn[133], line 63\u001b[1;36m\u001b[0m\n\u001b[1;33m    [y += self.dt * self.evaluate_equation(self.function, t) for i in range(len(y)]\u001b[0m\n\u001b[1;37m                                                                                  ^\u001b[0m\n\u001b[1;31mSyntaxError\u001b[0m\u001b[1;31m:\u001b[0m closing parenthesis ']' does not match opening parenthesis '('\n"
     ]
    }
   ],
   "source": [
    "class ODE_Vsolver:\n",
    "    ''' Class to solve ODE: dy/dt = f(y, t). This solver takes y as a vector. The predefined function, f(y, t), is e^t.\n",
    "    The function can is an input argument and should be string containing Python expretion as a function of t only.\n",
    "    Three methods are available: Euler, Runge Kutta 2snd order and Runge Kutta 4th order\n",
    "    Parameters: \n",
    "    t0 : staring time\n",
    "    tf : final simulation time\n",
    "    f  : math function f(y, t), string\n",
    "    y0 : initial condition at t0\n",
    "    dt : time step'''\n",
    "\n",
    "    def __init__(self, t0=0, tf=5, y0=[1], dt=1, function = 'math.exp(t)'):\n",
    "        self.t0 = t0\n",
    "        self.tf = tf\n",
    "        self.function = function\n",
    "        self.y0 = y0\n",
    "        self.dt = dt\n",
    "        \n",
    "    def evaluate_equation(self, equation, t):\n",
    "        '''Takes the equation, f(y, t), as an argument and calculates the equation with the input value for t'''\n",
    "        try:\n",
    "            result = [eval(equation, {\"t\": t, \"y\": y}) for y in self.y0]\n",
    "            return result\n",
    "        except Exception as e:\n",
    "            print(f\"\\nError: {e}. The input function for f(y, t) should be a string containing a valid Python expression and a function of t only.\")\n",
    "            return [f\"\\nError: {e}\"]\n",
    "\n",
    "    def solve(self,  method='Euler'):\n",
    "        '''select the solver'''\n",
    "        match method:\n",
    "            case 'euler':\n",
    "                return self.euler_method()\n",
    "            case 'rk2':\n",
    "                return self.runge_kutta_2nd()\n",
    "            case 'rk4':\n",
    "                return self.runge_kutta_4th()\n",
    "            case other:\n",
    "                print(\"Invalid method specified. valid methods are: 'Euler', 'RK2', 'RK4'\")\n",
    " \n",
    "    def euler_method(self):\n",
    "        ''' solving the ODE with Euler method'''\n",
    "        print(f\" Euler method is used to solve dy/dt = {self.function}.\")\n",
    "        # List of time steps and results used and calculated.\n",
    "        time = [self.t0]\n",
    "        results = [self.y0[:]]\n",
    "\n",
    "        # start of the method\n",
    "        t = self.t0\n",
    "        y = self.y0[:]\n",
    "\n",
    "        while t < self.tf:\n",
    "            #  approximate the next value usin Euler's method\n",
    "            [y += self.dt * self.evaluate_equation(self.function, t) for i in range(len(y)]\n",
    "            # Increment time by dt\n",
    "            t += self.dt\n",
    "            #  Append the time-step and approximate to the lists\n",
    "            time.append(t)\n",
    "            results.append(y[:])\n",
    "\n",
    "        return time, results\n",
    "\n",
    "    def runge_kutta_2nd(self):\n",
    "        ''' solving the ODE with runge_kutta 2nd order'''\n",
    "        print(f\" Runge_Kutta 2nd order method is used to solve dy/dt = {self.function}.\")\n",
    "                # List of time steps and results used and calculated.\n",
    "        time = [self.t0]\n",
    "        results = [self.y0[:]]\n",
    "\n",
    "        # start of the method\n",
    "        t = self.t0\n",
    "        y = self.y0[:]\n",
    "\n",
    "        while t < self.tf:\n",
    "            # calculate the k values and approximate the next value \n",
    "            self.k1 = self.dt * self.evaluate_equation(self.function, t)\n",
    "            k2 = self.dt * self.evaluate_equation(self.function + ' + 0.5 * self.k1', t + 0.5 * self.dt)\n",
    "            y += k2\n",
    "            #  increment time by dt\n",
    "            t += self.dt\n",
    "            #  Append the time-step and approximate to the lists\n",
    "            time.append(t)\n",
    "            results.append(y)\n",
    "            \n",
    "        return time, results\n",
    "\n",
    "    def runge_kutta_4th(self):\n",
    "        ''' solving the ODE with runge_kutta 4th order'''\n",
    "        print(f\" Runge_Kutta 4th order method is used to solve dy/dt = {self.function}.\")\n",
    "                # List of time steps and results used and calculated.\n",
    "        time = [self.t0]\n",
    "        results = [self.y0]\n",
    "\n",
    "        # start of the method\n",
    "        t = self.t0\n",
    "        y = self.y0\n",
    "\n",
    "        while t < self.tf:\n",
    "            # calculate the k values and approximate the next value \n",
    "            self.k1 = self.dt * self.evaluate_equation(self.function, t)\n",
    "            self.k2 = self.dt * self.evaluate_equation(self.function + ' + 0.5 * self.k1', t + 0.5 * self.dt)\n",
    "            self.k3 = self.dt * self.evaluate_equation(self.function + ' + 0.5 * self.k2', t + 0.5 * self.dt)\n",
    "            k4 = self.dt * self.evaluate_equation(self.function + ' + self.k3', t + self.dt)\n",
    "            y += (self.k1 + 2 * self.k2 + 2 * self.k3 + k4) / 6\n",
    "            #  increment time by dt\n",
    "            t += self.dt\n",
    "            #  Append the time-step and approximate to the lists\n",
    "            time.append(t)\n",
    "            results.append(y)\n",
    "            \n",
    "        return time, results\n",
    "\n"
   ]
  },
  {
   "cell_type": "code",
   "execution_count": 144,
   "id": "0207a99e-e956-44a5-813b-2e586ce74a58",
   "metadata": {},
   "outputs": [],
   "source": [
    "c = ODE_Solver(dt = 1, tf = 20, y0 = 1, function = '-self.y/2')"
   ]
  },
  {
   "cell_type": "code",
   "execution_count": 145,
   "id": "cbb2e5ad-ec21-454e-9062-2a119731219d",
   "metadata": {},
   "outputs": [
    {
     "name": "stdout",
     "output_type": "stream",
     "text": [
      " Runge_Kutta 2nd order method is used to solve dy/dt = -self.y/2.\n"
     ]
    }
   ],
   "source": [
    "time, result = c.solve('RK2')"
   ]
  },
  {
   "cell_type": "code",
   "execution_count": 146,
   "id": "90a798ef-2d3b-4bfb-9d1c-ff1d6c0734d7",
   "metadata": {},
   "outputs": [
    {
     "data": {
      "text/plain": [
       "[0, 1, 2, 3, 4, 5, 6, 7, 8, 9, 10, 11, 12, 13, 14, 15, 16, 17, 18, 19, 20]"
      ]
     },
     "execution_count": 146,
     "metadata": {},
     "output_type": "execute_result"
    }
   ],
   "source": [
    "time"
   ]
  },
  {
   "cell_type": "code",
   "execution_count": 147,
   "id": "86fd621c-d58a-4d31-af88-cf7a87afc16f",
   "metadata": {},
   "outputs": [
    {
     "data": {
      "text/plain": [
       "[1,\n",
       " 0.25,\n",
       " 0.0625,\n",
       " 0.015625,\n",
       " 0.00390625,\n",
       " 0.0009765625,\n",
       " 0.000244140625,\n",
       " 6.103515625e-05,\n",
       " 1.52587890625e-05,\n",
       " 3.814697265625e-06,\n",
       " 9.5367431640625e-07,\n",
       " 2.384185791015625e-07,\n",
       " 5.960464477539063e-08,\n",
       " 1.4901161193847656e-08,\n",
       " 3.725290298461914e-09,\n",
       " 9.313225746154785e-10,\n",
       " 2.3283064365386963e-10,\n",
       " 5.820766091346741e-11,\n",
       " 1.4551915228366852e-11,\n",
       " 3.637978807091713e-12,\n",
       " 9.094947017729282e-13]"
      ]
     },
     "execution_count": 147,
     "metadata": {},
     "output_type": "execute_result"
    }
   ],
   "source": [
    "result"
   ]
  },
  {
   "cell_type": "code",
   "execution_count": null,
   "id": "8b3b7c96-6898-4c81-b262-c18e8407eb0d",
   "metadata": {},
   "outputs": [],
   "source": []
  }
 ],
 "metadata": {
  "kernelspec": {
   "display_name": "Python 3 (ipykernel)",
   "language": "python",
   "name": "python3"
  },
  "language_info": {
   "codemirror_mode": {
    "name": "ipython",
    "version": 3
   },
   "file_extension": ".py",
   "mimetype": "text/x-python",
   "name": "python",
   "nbconvert_exporter": "python",
   "pygments_lexer": "ipython3",
   "version": "3.11.5"
  }
 },
 "nbformat": 4,
 "nbformat_minor": 5
}
