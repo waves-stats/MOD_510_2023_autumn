{
 "cells": [
  {
   "cell_type": "markdown",
   "metadata": {},
   "source": [
    "# Can you hear the size of a reservoir?\n",
    "\n",
    "**MOD510 - Project 2 G05**   \n",
    "- Jing Hou\n",
    "- Parthasarathi Jena\n",
    "- Hodjdat Moradi\n",
    "\n",
    "Date: Oct.08.2023"
   ]
  },
  {
   "cell_type": "markdown",
   "metadata": {},
   "source": [
    "### Abstract :\n",
    "\n",
    "### Introduction :"
   ]
  },
  {
   "cell_type": "code",
   "execution_count": 156,
   "metadata": {},
   "outputs": [],
   "source": [
    "# load libraries\n",
    "import sys\n",
    "import numpy as np\n",
    "import pandas as pd\n",
    "import math\n",
    "import matplotlib.pyplot as plt\n",
    "import plotly.express as px\n",
    "import plotly.graph_objects as go\n",
    "\n",
    "#%matplotlib"
   ]
  },
  {
   "cell_type": "markdown",
   "metadata": {},
   "source": [
    "## Exercise 1: Steady-state solution\n",
    "\n",
    "**Part 1** Show that the analytical solution to equations"
   ]
  },
  {
   "cell_type": "code",
   "execution_count": null,
   "metadata": {},
   "outputs": [],
   "source": []
  },
  {
   "cell_type": "code",
   "execution_count": null,
   "metadata": {},
   "outputs": [],
   "source": []
  },
  {
   "cell_type": "markdown",
   "metadata": {},
   "source": [
    "**Part 2** To enforce a fixed pressure $p_e = p(y_e) = p_{init}$ at the edge of the reservoir, the \"lazy\" option for the exterior reservoir boundary is to simply set $p_N = p_e$ Figure 5 illustrates the unknown pressure values for the case N = 4.\n",
    "\n",
    "- Let N = 4. When using the \"lazy\" implementation of the boundary condition at $y = y_e$, derive the following matrix equation, starting from\n",
    "the general finite difference equations for any $N$"
   ]
  },
  {
   "cell_type": "markdown",
   "metadata": {},
   "source": [
    "**Part 3**. What is the truncation error for the finite difference approximation at interior grid points? (be as specific as you can!)"
   ]
  },
  {
   "cell_type": "markdown",
   "metadata": {},
   "source": [
    "**Part 4**. We want to investigate, theoretically, the error of the \"lazy\" approximation to the pressure boundary condition. Use Taylor’s formula to  \n",
    "<br>\n",
    "- Find how the order of the numerical error scales when using the \"lazy\" approximation.\n",
    "\n",
    "- Use Taylor’s formula to show that we can derive the following, \"not-so-lazy\" version of the boundary condition: $p_N = 2p_e − p_{N−1}$ (22)\n",
    "\n",
    "- Let N = 4. What is the matrix equation we now need to solve when using equation (22) for the outer boundary condition?"
   ]
  },
  {
   "cell_type": "markdown",
   "metadata": {},
   "source": [
    "**Part 5**\n",
    "- For both implementations of the boundary condition at $y = y_e$, solve the matrix equation multiple times by varying the number of grid points.\n",
    "\n",
    "- Based on your simulation results, make a scatter plot of the numerical error versus grid size. Ideally, you should evaluate the different solutions at the same physical point in space. Use the analytical formula given by equation (19) as the \"true solution\".\n",
    "\n",
    "- Does the error scale as you expect? Discuss."
   ]
  },
  {
   "cell_type": "markdown",
   "metadata": {},
   "source": [
    "## Exercise 2: Time-dependent solution\n",
    "\n",
    "**Part 1**\n",
    "- Show that for the special case N = 4, the matrix equation we need to solve each time step is:\n",
    "\n",
    "\n",
    "where we have defined "
   ]
  },
  {
   "cell_type": "markdown",
   "metadata": {},
   "source": [
    "**Part 2**\n",
    "\n",
    "Again let N = 4. Assume default model input parameters (see Appendix B), and that $\\Delta t = 0.01$ day\n",
    "\n",
    "- Show that the matrix is (in SI units):\n",
    "\n",
    "$ \\begin{pmatrix} 5.28702460e + 03 & −5.28602460e + 03 & 0.00000000e + 00 & 0.00000000e + 00 \\\\\n",
    "−9.42633218e + 01 & 1.89526644e + 02 & −9.42633218e + 01 & 0.00000000e + 00 \\\\\n",
    "0.00000000e + 00 & −1.68095582e + 00 &  4.36191165e + 00  & −1.68095582e + 00 \\\\\n",
    "0.00000000e + 00 & 0.00000000e + 00 & −2.99757363e − 02 & 1.08992721e + 00 \\\\ \\end{pmatrix}$\n"
   ]
  },
  {
   "cell_type": "markdown",
   "metadata": {},
   "source": [
    "**Part 3**\n",
    "- Implement a simulator that solves the time-dependent problem for any choice of input parameters."
   ]
  },
  {
   "cell_type": "code",
   "execution_count": 552,
   "metadata": {},
   "outputs": [],
   "source": [
    "class PressureSolver:\n",
    "    \"\"\"\n",
    "    A finite difference solver to solve pressure distribution in \n",
    "    a reservoir, logarithmic grid has been used, y = ln(r/rw) \n",
    "\n",
    "    The solver uses SI units internally, while \"practical field units\"\n",
    "    are required as input.\n",
    "\n",
    "    Input arguments:\n",
    "\n",
    "        name                                symbol      unit\n",
    "        --------------------------------------------------------------\n",
    "        Number of grid points                N          dimensionless\n",
    "        Constant time step                   dt         days\n",
    "        Well radius                          rw         ft\n",
    "        Outer reservoir boundary             re         ft\n",
    "        Height of reservoir                  h          ft\n",
    "        Absolute permeability                k          mD\n",
    "        Porosity                             phi        dimensionless\n",
    "        Fluid viscosity                      mu         mPas (cP)\n",
    "        Total (rock+fluid) compressibility   ct         1 / psi\n",
    "        Constant flow rate at well           Q          bbl / day\n",
    "        Initial reservoir pressure           pi         psi\n",
    "        -------------------------------------------------------------\n",
    "    \"\"\"\n",
    "\n",
    "    def __init__(self,\n",
    "                 N,\n",
    "                 dt,\n",
    "                 rw=0.318,\n",
    "                 # re=1000.0,\n",
    "                 re=5500,\n",
    "                 h=11.0,\n",
    "                 phi=0.25,\n",
    "                 mu=1.0,\n",
    "                 ct=7.8e-6,\n",
    "                 Q=1000.0,\n",
    "                 # k=500,\n",
    "                 k=357.9,\n",
    "                 pi=4120.0):\n",
    "\n",
    "        # Unit conversion factors (input units --> SI)\n",
    "        self.ft_to_m_ = 0.3048\n",
    "        self.psi_to_pa_ = 6894.75729\n",
    "        self.day_to_sec_ = 24.*60.*60.\n",
    "        self.bbl_to_m3_ = 0.1589873\n",
    "        self.mD_to_m2_ = 9.869233e-16\n",
    "\n",
    "        # Grid\n",
    "        self.N_ = N\n",
    "        self.rw_ = rw*self.ft_to_m_\n",
    "        self.re_ = re*self.ft_to_m_\n",
    "        self.h_ = h*self.ft_to_m_\n",
    "\n",
    "        # Rock and fluid properties\n",
    "        self.k_ = k * self.mD_to_m2_\n",
    "        self.phi_ = phi\n",
    "        self.mu_ = mu*1e-3 # from cP to Pas\n",
    "        self.ct_ = ct / self.psi_to_pa_\n",
    "\n",
    "        # Initial and boundary conditions\n",
    "        self.Q_ = Q*self.bbl_to_m3_ / self.day_to_sec_\n",
    "        self.pi_ = pi*self.psi_to_pa_\n",
    "\n",
    "        # Time control for simulation\n",
    "        self.dt_ = dt*self.day_to_sec_\n",
    "\n",
    "        # TO DO: Add more stuff below here....\n",
    "        # (grid coordinates, dy, eta, etc.)\n",
    "        self.dy_ = np.log(self.re_/self.rw_)/self.N_\n",
    "        self.eta_ = self.k_/(self.mu_*self.phi_*self.ct_)\n",
    "        self.beta_ = (self.Q_*self.mu_*self.dy_)/(2*np.pi*self.k_*self.h_)\n",
    "        self.grid_ = np.arange(self.N_)\n",
    "        self.y_ = self.grid_ * self.dy_ + self.dy_/2\n",
    "        self.xi_ = self.eta_ * np.exp(-2 * self.y_) * self.dt_/(self.rw_**2 * self.dy_**2)\n",
    "        \n",
    "    def coefficient_matrix(self):    \n",
    "        # creating zero matrix\n",
    "        self.matrix = np.zeros((self.N_, self.N_))\n",
    "        # filling the matrix\n",
    "        for i in range(self.N_ - 1):\n",
    "            self.matrix[i, i + 1] = - self.xi_[i]\n",
    "            self.matrix[i, i] = 1 + 2 * self.xi_[i]\n",
    "            self.matrix[i + 1, i] = - self.xi_[i + 1]\n",
    "            \n",
    "        self.matrix[0, 0] = 1 + self.xi_[0]\n",
    "        self.matrix[self.N_ - 1, self.N_ - 1] = 1 + 3 * self.xi_[self.N_ - 1]\n",
    "        return self.matrix\n",
    "\n",
    "    def initial_condition(self):\n",
    "        # initial pressure = Pi, which is the value at t = t0\n",
    "        self.ip = np.ones((self.N_, 1)) * self.pi_\n",
    "        return self.ip\n",
    "\n",
    "    def constants(self):\n",
    "        self.c = np.zeros((self.N_, 1))\n",
    "        self.c[0] = - self.beta_ * self.xi_[0]\n",
    "        self.c[self.N_ - 1] = 2 * self.pi_ * self.xi_[self.N_ - 1]\n",
    "        return self.c\n",
    "\n",
    "    def rhs_matrix(self, Pold, const):\n",
    "        self.rhs = Pold + const\n",
    "        return self.rhs\n",
    "\n",
    "    def solver(self, A, rhs):\n",
    "        # self.p = solve_banded((1, 1), self.coefficient_matrix(), self.rhs_matrix())\n",
    "        self.p = np.linalg.solve(A, rhs)\n",
    "        return self.p\n",
    "        \n",
    "    def time_advance(self):\n",
    "        A = self.coefficient_matrix()\n",
    "        const = self.constants()\n",
    "        Pold = self.initial_condition()\n",
    "        self.t = 0\n",
    "        condition = False\n",
    "        while condition == False:\n",
    "            rhs = self.rhs_matrix(Pold = Pold, const = const)\n",
    "            self.p = self.solver(A = A, rhs = rhs)\n",
    "            accuracy = 0.1\n",
    "            if np.abs(self.p - Pold).any() < accuracy:\n",
    "                condition = True\n",
    "            else:\n",
    "                Pold = self.p\n",
    "                self.t = self.t + self.dt_\n",
    "        return self.p / self.psi_to_pa_\n",
    "       "
   ]
  },
  {
   "cell_type": "code",
   "execution_count": 553,
   "metadata": {},
   "outputs": [],
   "source": [
    "p1 = PressureSolver(4,0.01)\n",
    "p2 = PressureSolver(8,0.01)\n",
    "p3 = PressureSolver(24,0.01)"
   ]
  },
  {
   "cell_type": "code",
   "execution_count": 554,
   "metadata": {},
   "outputs": [],
   "source": [
    "Pr1 = p1.time_advance()\n",
    "Pr2 = p2.time_advance()\n",
    "Pr3 = p3.time_advance()"
   ]
  },
  {
   "cell_type": "code",
   "execution_count": 5,
   "metadata": {},
   "outputs": [
    {
     "data": {
      "text/plain": [
       "[<matplotlib.lines.Line2D at 0x22e64d59ed0>]"
      ]
     },
     "execution_count": 5,
     "metadata": {},
     "output_type": "execute_result"
    },
    {
     "data": {
      "image/png": "[encoded data removed]",
      "text/plain": [
       "<Figure size 640x480 with 1 Axes>"
      ]
     },
     "metadata": {},
     "output_type": "display_data"
    }
   ],
   "source": [
    "plt.plot(p1.rw_*np.exp(p1.y_), Pr1)\n",
    "plt.plot(p2.rw_*np.exp(p2.y_), Pr2)\n",
    "plt.plot(p3.rw_*np.exp(p3.y_), Pr3)"
   ]
  },
  {
   "cell_type": "markdown",
   "metadata": {},
   "source": [
    "## Exercise 3: Accuracy and performance of timedependent solution"
   ]
  },
  {
   "cell_type": "markdown",
   "metadata": {},
   "source": [
    "**Part 1**\n",
    "- For several values of N, compare your numerical solver implementation to the line-source solution given by equation (27). To do the comparison, you need to plot your solution in terms of the *physical coordinates*, i.e.,\n",
    "$r(y) = r_we^y$."
   ]
  },
  {
   "cell_type": "markdown",
   "metadata": {},
   "source": [
    "**Part 2** Next, we want to take advantage of the symmetry of the problem. At run-time, the simulator should be able to choose between three different matrix\n",
    "solvers:\n",
    "1. Dense, using numpy.linalg.solve.  \n",
    "2. Sparse using, scipy.sparse.linalg.spsolve.  \n",
    "3. Sparse, using the Thomas algorithm). An implementation of the Thomas algorithm can be found in appendix D.  \n",
    "4. Use the %timeit option in Jupyter to compare the speed of each solver.  \n",
    "How large must N be in order to see a difference?  "
   ]
  },
  {
   "cell_type": "markdown",
   "metadata": {},
   "source": [
    "## Exercise 4: Match model to well test data\n",
    "\n",
    "**Part 1** So far, we have calculated the pressure distribution *inside the reservoir*. The actual observable well pressure is missing from our calculations, but we can estimate it by discretizing equation (13).\n",
    "- Use a first-order finite difference approximation to find a formula for the well pressure in terms of the well block pressure, $p_0$.\n",
    "- In your final delivery, make sure that your numerical simulator includes a function to calculate the well pressure as a function of the well-block pressure.\n",
    "Hint: Use Taylor’s formula with step-size $\\Delta y/2$."
   ]
  },
  {
   "cell_type": "markdown",
   "metadata": {},
   "source": [
    "From taylor polinomial for $p_N$ at well block: $$p_0 = p(y_w + \\Delta y/2) = p_w + \\frac{dp}{dy_{(y=y_w)}}\\Delta y/2 + \\cal O(\\Delta y^2)$$\n",
    "Taking the 1st order and applying equation (14) $$p_0 = p_w + \\frac{Q \\mu}{2\\pi hk}\\Delta y/2$$ \n",
    "Incorporating equation (34) $$\\begin{equation} p_0 = p_w + \\beta /2  \\end{equation} \\tag{100}$$\n",
    "By rearranging for $p_w$ $$\\begin{equation} p_w = p_0 - \\beta /2 \\end{equation} \\tag{101}$$\n",
    "\n",
    "In order to calculate the well pressure in the simulator, $p_0$ in 1st row of the matries in (34) for $i = 0$ could be subsituted with equation (100) $$ i = 0\\Rightarrow (1 + \\xi_0)p_0^{n+1} - \\xi_0 p_1^{n+1} = p_0^n - \\beta \\xi_0 $$\n",
    "$$ \\Rightarrow (1 + \\xi_0)(p_w^{n+1} + \\beta /2)- \\xi_0 p_1^{n+1} = (p_w^n + \\beta /2) - \\beta \\xi_0 $$\n",
    "$$\\begin{equation} \\Rightarrow (1 + \\xi_0)p_w^{n+1} - \\xi_0 p_1^{n+1} = p_w^n - \\frac{3}{2}\\beta \\xi_0 \\end{equation} \\tag{102} $$\n",
    "Consequantly the matrix equation (34) becomes \n",
    "$$\\underbrace{\n",
    "\\begin{pmatrix}\n",
    "1 + \\xi_0 & -\\xi_0 & 0 & 0 \\\\\n",
    "-\\xi_1 & 1 + 2\\xi_1 & -\\xi_1 & 0 \\\\\n",
    "0 & -\\xi_2 & 1 + 2\\xi_2 & -\\xi_2 \\\\\n",
    "0 & 0 & -\\xi_3 & 1 + 3\\xi_3 \n",
    "\\end{pmatrix}}_{A} \\underbrace{\\begin{pmatrix}\n",
    "p_w^{n+1} \\\\\n",
    "p_1^{n+1} \\\\\n",
    "p_2^{n+1} \\\\\n",
    "p_3^{n+1} \n",
    "\\end{pmatrix}}_{p^{n+1}} = \\underbrace{\\begin{pmatrix}\n",
    "p_w^{n} \\\\\n",
    "p_1^{n} \\\\\n",
    "p_2^{n} \\\\\n",
    "p_3^{n} \\\\\n",
    "\\end{pmatrix}}_{p^n} + \\underbrace{\\begin{pmatrix}\n",
    "-\\frac{3}{2}\\beta \\xi_0 \\\\\n",
    "0 \\\\\n",
    "0 \\\\\n",
    "2p_i \\xi_3\n",
    "\\end{pmatrix}}_{d} \\tag{103}$$"
   ]
  },
  {
   "cell_type": "code",
   "execution_count": null,
   "metadata": {},
   "outputs": [],
   "source": []
  },
  {
   "cell_type": "code",
   "execution_count": null,
   "metadata": {},
   "outputs": [],
   "source": []
  },
  {
   "cell_type": "markdown",
   "metadata": {},
   "source": [
    "**Part 2**  Well test data are available in the text file well_bhp.dat (located in the data folder).\n",
    "- Read the well test data into Python, and make a scatter plot of well pressures versus time."
   ]
  },
  {
   "cell_type": "markdown",
   "metadata": {},
   "source": [
    "Utilizing **Pandas** to read from the file to a data frame. Makes life much easier.  \n",
    "**Plotly** module in python is used to visualize the data interactively.  \n",
    "The modules could be installed with pip or conda. here is the link which shows how to use it whithin Jupyter lab/notebook:  \n",
    "[Plotly installation](https://plotly.com/python/getting-started/#installation)\n"
   ]
  },
  {
   "cell_type": "code",
   "execution_count": 474,
   "metadata": {},
   "outputs": [
    {
     "data": {
      "application/vnd.plotly.v1+json": {
       "config": {
        "plotlyServerURL": "https://plot.ly"
       },
       "data": [
        {
         "hovertemplate": "time=%{x}<br>well_pressure=%{y}<extra></extra>",
         "legendgroup": "",
         "marker": {
          "color": "#636efa",
          "symbol": "circle"
         },
         "mode": "markers",
         "name": "",
         "orientation": "v",
         "showlegend": false,
         "type": "scatter",
         "x": [
          1.000000032,
          4.99999992,
          9.99999984,
          15,
          19.99999944,
          30,
          39.9999984,
          49.9999992,
          60,
          70.0000008,
          79.9999992,
          90,
          99.999996,
          199.999992,
          300,
          500.000016,
          750,
          1000.000032,
          1500,
          1749.999936,
          2000.000064,
          2499.99984,
          2750.00016,
          3000
         ],
         "xaxis": "x",
         "y": [
          3775.204835,
          3740.94947,
          3728.708408,
          3721.164836,
          3715.811339,
          3708.776561,
          3703.638589,
          3699.627128,
          3696.35188,
          3693.591952,
          3691.210428,
          3689.119996,
          3687.257853,
          3676.25498,
          3670.226185,
          3664.257292,
          3660.883563,
          3659.345145,
          3658.432856,
          3658.224146,
          3658.128276,
          3658.071421,
          3658.058367,
          3658.052421
         ],
         "yaxis": "y"
        }
       ],
       "layout": {
        "autosize": true,
        "legend": {
         "tracegroupgap": 0
        },
        "margin": {
         "b": 20,
         "l": 10,
         "r": 20,
         "t": 30
        },
        "template": {
         "data": {
          "bar": [
           {
            "error_x": {
             "color": "#2a3f5f"
            },
            "error_y": {
             "color": "#2a3f5f"
            },
            "marker": {
             "line": {
              "color": "#E5ECF6",
              "width": 0.5
             },
             "pattern": {
              "fillmode": "overlay",
              "size": 10,
              "solidity": 0.2
             }
            },
            "type": "bar"
           }
          ],
          "barpolar": [
           {
            "marker": {
             "line": {
              "color": "#E5ECF6",
              "width": 0.5
             },
             "pattern": {
              "fillmode": "overlay",
              "size": 10,
              "solidity": 0.2
             }
            },
            "type": "barpolar"
           }
          ],
          "carpet": [
           {
            "aaxis": {
             "endlinecolor": "#2a3f5f",
             "gridcolor": "white",
             "linecolor": "white",
             "minorgridcolor": "white",
             "startlinecolor": "#2a3f5f"
            },
            "baxis": {
             "endlinecolor": "#2a3f5f",
             "gridcolor": "white",
             "linecolor": "white",
             "minorgridcolor": "white",
             "startlinecolor": "#2a3f5f"
            },
            "type": "carpet"
           }
          ],
          "choropleth": [
           {
            "colorbar": {
             "outlinewidth": 0,
             "ticks": ""
            },
            "type": "choropleth"
           }
          ],
          "contour": [
           {
            "colorbar": {
             "outlinewidth": 0,
             "ticks": ""
            },
            "colorscale": [
             [
              0,
              "#0d0887"
             ],
             [
              0.1111111111111111,
              "#46039f"
             ],
             [
              0.2222222222222222,
              "#7201a8"
             ],
             [
              0.3333333333333333,
              "#9c179e"
             ],
             [
              0.4444444444444444,
              "#bd3786"
             ],
             [
              0.5555555555555556,
              "#d8576b"
             ],
             [
              0.6666666666666666,
              "#ed7953"
             ],
             [
              0.7777777777777778,
              "#fb9f3a"
             ],
             [
              0.8888888888888888,
              "#fdca26"
             ],
             [
              1,
              "#f0f921"
             ]
            ],
            "type": "contour"
           }
          ],
          "contourcarpet": [
           {
            "colorbar": {
             "outlinewidth": 0,
             "ticks": ""
            },
            "type": "contourcarpet"
           }
          ],
          "heatmap": [
           {
            "colorbar": {
             "outlinewidth": 0,
             "ticks": ""
            },
            "colorscale": [
             [
              0,
              "#0d0887"
             ],
             [
              0.1111111111111111,
              "#46039f"
             ],
             [
              0.2222222222222222,
              "#7201a8"
             ],
             [
              0.3333333333333333,
              "#9c179e"
             ],
             [
              0.4444444444444444,
              "#bd3786"
             ],
             [
              0.5555555555555556,
              "#d8576b"
             ],
             [
              0.6666666666666666,
              "#ed7953"
             ],
             [
              0.7777777777777778,
              "#fb9f3a"
             ],
             [
              0.8888888888888888,
              "#fdca26"
             ],
             [
              1,
              "#f0f921"
             ]
            ],
            "type": "heatmap"
           }
          ],
          "heatmapgl": [
           {
            "colorbar": {
             "outlinewidth": 0,
             "ticks": ""
            },
            "colorscale": [
             [
              0,
              "#0d0887"
             ],
             [
              0.1111111111111111,
              "#46039f"
             ],
             [
              0.2222222222222222,
              "#7201a8"
             ],
             [
              0.3333333333333333,
              "#9c179e"
             ],
             [
              0.4444444444444444,
              "#bd3786"
             ],
             [
              0.5555555555555556,
              "#d8576b"
             ],
             [
              0.6666666666666666,
              "#ed7953"
             ],
             [
              0.7777777777777778,
              "#fb9f3a"
             ],
             [
              0.8888888888888888,
              "#fdca26"
             ],
             [
              1,
              "#f0f921"
             ]
            ],
            "type": "heatmapgl"
           }
          ],
          "histogram": [
           {
            "marker": {
             "pattern": {
              "fillmode": "overlay",
              "size": 10,
              "solidity": 0.2
             }
            },
            "type": "histogram"
           }
          ],
          "histogram2d": [
           {
            "colorbar": {
             "outlinewidth": 0,
             "ticks": ""
            },
            "colorscale": [
             [
              0,
              "#0d0887"
             ],
             [
              0.1111111111111111,
              "#46039f"
             ],
             [
              0.2222222222222222,
              "#7201a8"
             ],
             [
              0.3333333333333333,
              "#9c179e"
             ],
             [
              0.4444444444444444,
              "#bd3786"
             ],
             [
              0.5555555555555556,
              "#d8576b"
             ],
             [
              0.6666666666666666,
              "#ed7953"
             ],
             [
              0.7777777777777778,
              "#fb9f3a"
             ],
             [
              0.8888888888888888,
              "#fdca26"
             ],
             [
              1,
              "#f0f921"
             ]
            ],
            "type": "histogram2d"
           }
          ],
          "histogram2dcontour": [
           {
            "colorbar": {
             "outlinewidth": 0,
             "ticks": ""
            },
            "colorscale": [
             [
              0,
              "#0d0887"
             ],
             [
              0.1111111111111111,
              "#46039f"
             ],
             [
              0.2222222222222222,
              "#7201a8"
             ],
             [
              0.3333333333333333,
              "#9c179e"
             ],
             [
              0.4444444444444444,
              "#bd3786"
             ],
             [
              0.5555555555555556,
              "#d8576b"
             ],
             [
              0.6666666666666666,
              "#ed7953"
             ],
             [
              0.7777777777777778,
              "#fb9f3a"
             ],
             [
              0.8888888888888888,
              "#fdca26"
             ],
             [
              1,
              "#f0f921"
             ]
            ],
            "type": "histogram2dcontour"
           }
          ],
          "mesh3d": [
           {
            "colorbar": {
             "outlinewidth": 0,
             "ticks": ""
            },
            "type": "mesh3d"
           }
          ],
          "parcoords": [
           {
            "line": {
             "colorbar": {
              "outlinewidth": 0,
              "ticks": ""
             }
            },
            "type": "parcoords"
           }
          ],
          "pie": [
           {
            "automargin": true,
            "type": "pie"
           }
          ],
          "scatter": [
           {
            "fillpattern": {
             "fillmode": "overlay",
             "size": 10,
             "solidity": 0.2
            },
            "type": "scatter"
           }
          ],
          "scatter3d": [
           {
            "line": {
             "colorbar": {
              "outlinewidth": 0,
              "ticks": ""
             }
            },
            "marker": {
             "colorbar": {
              "outlinewidth": 0,
              "ticks": ""
             }
            },
            "type": "scatter3d"
           }
          ],
          "scattercarpet": [
           {
            "marker": {
             "colorbar": {
              "outlinewidth": 0,
              "ticks": ""
             }
            },
            "type": "scattercarpet"
           }
          ],
          "scattergeo": [
           {
            "marker": {
             "colorbar": {
              "outlinewidth": 0,
              "ticks": ""
             }
            },
            "type": "scattergeo"
           }
          ],
          "scattergl": [
           {
            "marker": {
             "colorbar": {
              "outlinewidth": 0,
              "ticks": ""
             }
            },
            "type": "scattergl"
           }
          ],
          "scattermapbox": [
           {
            "marker": {
             "colorbar": {
              "outlinewidth": 0,
              "ticks": ""
             }
            },
            "type": "scattermapbox"
           }
          ],
          "scatterpolar": [
           {
            "marker": {
             "colorbar": {
              "outlinewidth": 0,
              "ticks": ""
             }
            },
            "type": "scatterpolar"
           }
          ],
          "scatterpolargl": [
           {
            "marker": {
             "colorbar": {
              "outlinewidth": 0,
              "ticks": ""
             }
            },
            "type": "scatterpolargl"
           }
          ],
          "scatterternary": [
           {
            "marker": {
             "colorbar": {
              "outlinewidth": 0,
              "ticks": ""
             }
            },
            "type": "scatterternary"
           }
          ],
          "surface": [
           {
            "colorbar": {
             "outlinewidth": 0,
             "ticks": ""
            },
            "colorscale": [
             [
              0,
              "#0d0887"
             ],
             [
              0.1111111111111111,
              "#46039f"
             ],
             [
              0.2222222222222222,
              "#7201a8"
             ],
             [
              0.3333333333333333,
              "#9c179e"
             ],
             [
              0.4444444444444444,
              "#bd3786"
             ],
             [
              0.5555555555555556,
              "#d8576b"
             ],
             [
              0.6666666666666666,
              "#ed7953"
             ],
             [
              0.7777777777777778,
              "#fb9f3a"
             ],
             [
              0.8888888888888888,
              "#fdca26"
             ],
             [
              1,
              "#f0f921"
             ]
            ],
            "type": "surface"
           }
          ],
          "table": [
           {
            "cells": {
             "fill": {
              "color": "#EBF0F8"
             },
             "line": {
              "color": "white"
             }
            },
            "header": {
             "fill": {
              "color": "#C8D4E3"
             },
             "line": {
              "color": "white"
             }
            },
            "type": "table"
           }
          ]
         },
         "layout": {
          "annotationdefaults": {
           "arrowcolor": "#2a3f5f",
           "arrowhead": 0,
           "arrowwidth": 1
          },
          "autotypenumbers": "strict",
          "coloraxis": {
           "colorbar": {
            "outlinewidth": 0,
            "ticks": ""
           }
          },
          "colorscale": {
           "diverging": [
            [
             0,
             "#8e0152"
            ],
            [
             0.1,
             "#c51b7d"
            ],
            [
             0.2,
             "#de77ae"
            ],
            [
             0.3,
             "#f1b6da"
            ],
            [
             0.4,
             "#fde0ef"
            ],
            [
             0.5,
             "#f7f7f7"
            ],
            [
             0.6,
             "#e6f5d0"
            ],
            [
             0.7,
             "#b8e186"
            ],
            [
             0.8,
             "#7fbc41"
            ],
            [
             0.9,
             "#4d9221"
            ],
            [
             1,
             "#276419"
            ]
           ],
           "sequential": [
            [
             0,
             "#0d0887"
            ],
            [
             0.1111111111111111,
             "#46039f"
            ],
            [
             0.2222222222222222,
             "#7201a8"
            ],
            [
             0.3333333333333333,
             "#9c179e"
            ],
            [
             0.4444444444444444,
             "#bd3786"
            ],
            [
             0.5555555555555556,
             "#d8576b"
            ],
            [
             0.6666666666666666,
             "#ed7953"
            ],
            [
             0.7777777777777778,
             "#fb9f3a"
            ],
            [
             0.8888888888888888,
             "#fdca26"
            ],
            [
             1,
             "#f0f921"
            ]
           ],
           "sequentialminus": [
            [
             0,
             "#0d0887"
            ],
            [
             0.1111111111111111,
             "#46039f"
            ],
            [
             0.2222222222222222,
             "#7201a8"
            ],
            [
             0.3333333333333333,
             "#9c179e"
            ],
            [
             0.4444444444444444,
             "#bd3786"
            ],
            [
             0.5555555555555556,
             "#d8576b"
            ],
            [
             0.6666666666666666,
             "#ed7953"
            ],
            [
             0.7777777777777778,
             "#fb9f3a"
            ],
            [
             0.8888888888888888,
             "#fdca26"
            ],
            [
             1,
             "#f0f921"
            ]
           ]
          },
          "colorway": [
           "#636efa",
           "#EF553B",
           "#00cc96",
           "#ab63fa",
           "#FFA15A",
           "#19d3f3",
           "#FF6692",
           "#B6E880",
           "#FF97FF",
           "#FECB52"
          ],
          "font": {
           "color": "#2a3f5f"
          },
          "geo": {
           "bgcolor": "white",
           "lakecolor": "white",
           "landcolor": "#E5ECF6",
           "showlakes": true,
           "showland": true,
           "subunitcolor": "white"
          },
          "hoverlabel": {
           "align": "left"
          },
          "hovermode": "closest",
          "mapbox": {
           "style": "light"
          },
          "paper_bgcolor": "white",
          "plot_bgcolor": "#E5ECF6",
          "polar": {
           "angularaxis": {
            "gridcolor": "white",
            "linecolor": "white",
            "ticks": ""
           },
           "bgcolor": "#E5ECF6",
           "radialaxis": {
            "gridcolor": "white",
            "linecolor": "white",
            "ticks": ""
           }
          },
          "scene": {
           "xaxis": {
            "backgroundcolor": "#E5ECF6",
            "gridcolor": "white",
            "gridwidth": 2,
            "linecolor": "white",
            "showbackground": true,
            "ticks": "",
            "zerolinecolor": "white"
           },
           "yaxis": {
            "backgroundcolor": "#E5ECF6",
            "gridcolor": "white",
            "gridwidth": 2,
            "linecolor": "white",
            "showbackground": true,
            "ticks": "",
            "zerolinecolor": "white"
           },
           "zaxis": {
            "backgroundcolor": "#E5ECF6",
            "gridcolor": "white",
            "gridwidth": 2,
            "linecolor": "white",
            "showbackground": true,
            "ticks": "",
            "zerolinecolor": "white"
           }
          },
          "shapedefaults": {
           "line": {
            "color": "#2a3f5f"
           }
          },
          "ternary": {
           "aaxis": {
            "gridcolor": "white",
            "linecolor": "white",
            "ticks": ""
           },
           "baxis": {
            "gridcolor": "white",
            "linecolor": "white",
            "ticks": ""
           },
           "bgcolor": "#E5ECF6",
           "caxis": {
            "gridcolor": "white",
            "linecolor": "white",
            "ticks": ""
           }
          },
          "title": {
           "x": 0.05
          },
          "xaxis": {
           "automargin": true,
           "gridcolor": "white",
           "linecolor": "white",
           "ticks": "",
           "title": {
            "standoff": 15
           },
           "zerolinecolor": "white",
           "zerolinewidth": 2
          },
          "yaxis": {
           "automargin": true,
           "gridcolor": "white",
           "linecolor": "white",
           "ticks": "",
           "title": {
            "standoff": 15
           },
           "zerolinecolor": "white",
           "zerolinewidth": 2
          }
         }
        },
        "title": {
         "text": "Well test data"
        },
        "xaxis": {
         "anchor": "y",
         "autorange": true,
         "domain": [
          0,
          1
         ],
         "range": [
          -177.01345922333206,
          3178.0134592553322
         ],
         "title": {
          "text": "time"
         },
         "type": "linear"
        },
        "yaxis": {
         "anchor": "x",
         "autorange": true,
         "domain": [
          0,
          1
         ],
         "range": [
          3649.5326842587556,
          3783.7245717412443
         ],
         "title": {
          "text": "well_pressure"
         },
         "type": "linear"
        }
       }
      },
      "image/png": "[encoded data removed]",
      "text/html": [
       "<div>                            <div id=\"2ecd082b-79d8-4930-808e-1ecb0c9dd090\" class=\"plotly-graph-div\" style=\"height:525px; width:100%;\"></div>            <script type=\"text/javascript\">                require([\"plotly\"], function(Plotly) {                    window.PLOTLYENV=window.PLOTLYENV || {};                                    if (document.getElementById(\"2ecd082b-79d8-4930-808e-1ecb0c9dd090\")) {                    Plotly.newPlot(                        \"2ecd082b-79d8-4930-808e-1ecb0c9dd090\",                        [{\"hovertemplate\":\"time=%{x}\\u003cbr\\u003ewell_pressure=%{y}\\u003cextra\\u003e\\u003c\\u002fextra\\u003e\",\"legendgroup\":\"\",\"marker\":{\"color\":\"#636efa\",\"symbol\":\"circle\"},\"mode\":\"markers\",\"name\":\"\",\"orientation\":\"v\",\"showlegend\":false,\"x\":[1.000000032,4.99999992,9.99999984,15.0,19.99999944,30.0,39.9999984,49.9999992,60.0,70.0000008,79.9999992,90.0,99.999996,199.999992,300.0,500.000016,750.0,1000.000032,1500.0,1749.999936,2000.000064,2499.99984,2750.00016,3000.0],\"xaxis\":\"x\",\"y\":[3775.204835,3740.94947,3728.708408,3721.164836,3715.811339,3708.776561,3703.638589,3699.627128,3696.35188,3693.591952,3691.210428,3689.119996,3687.257853,3676.25498,3670.226185,3664.257292,3660.883563,3659.345145,3658.432856,3658.224146,3658.128276,3658.071421,3658.058367,3658.052421],\"yaxis\":\"y\",\"type\":\"scatter\"}],                        {\"template\":{\"data\":{\"histogram2dcontour\":[{\"type\":\"histogram2dcontour\",\"colorbar\":{\"outlinewidth\":0,\"ticks\":\"\"},\"colorscale\":[[0.0,\"#0d0887\"],[0.1111111111111111,\"#46039f\"],[0.2222222222222222,\"#7201a8\"],[0.3333333333333333,\"#9c179e\"],[0.4444444444444444,\"#bd3786\"],[0.5555555555555556,\"#d8576b\"],[0.6666666666666666,\"#ed7953\"],[0.7777777777777778,\"#fb9f3a\"],[0.8888888888888888,\"#fdca26\"],[1.0,\"#f0f921\"]]}],\"choropleth\":[{\"type\":\"choropleth\",\"colorbar\":{\"outlinewidth\":0,\"ticks\":\"\"}}],\"histogram2d\":[{\"type\":\"histogram2d\",\"colorbar\":{\"outlinewidth\":0,\"ticks\":\"\"},\"colorscale\":[[0.0,\"#0d0887\"],[0.1111111111111111,\"#46039f\"],[0.2222222222222222,\"#7201a8\"],[0.3333333333333333,\"#9c179e\"],[0.4444444444444444,\"#bd3786\"],[0.5555555555555556,\"#d8576b\"],[0.6666666666666666,\"#ed7953\"],[0.7777777777777778,\"#fb9f3a\"],[0.8888888888888888,\"#fdca26\"],[1.0,\"#f0f921\"]]}],\"heatmap\":[{\"type\":\"heatmap\",\"colorbar\":{\"outlinewidth\":0,\"ticks\":\"\"},\"colorscale\":[[0.0,\"#0d0887\"],[0.1111111111111111,\"#46039f\"],[0.2222222222222222,\"#7201a8\"],[0.3333333333333333,\"#9c179e\"],[0.4444444444444444,\"#bd3786\"],[0.5555555555555556,\"#d8576b\"],[0.6666666666666666,\"#ed7953\"],[0.7777777777777778,\"#fb9f3a\"],[0.8888888888888888,\"#fdca26\"],[1.0,\"#f0f921\"]]}],\"heatmapgl\":[{\"type\":\"heatmapgl\",\"colorbar\":{\"outlinewidth\":0,\"ticks\":\"\"},\"colorscale\":[[0.0,\"#0d0887\"],[0.1111111111111111,\"#46039f\"],[0.2222222222222222,\"#7201a8\"],[0.3333333333333333,\"#9c179e\"],[0.4444444444444444,\"#bd3786\"],[0.5555555555555556,\"#d8576b\"],[0.6666666666666666,\"#ed7953\"],[0.7777777777777778,\"#fb9f3a\"],[0.8888888888888888,\"#fdca26\"],[1.0,\"#f0f921\"]]}],\"contourcarpet\":[{\"type\":\"contourcarpet\",\"colorbar\":{\"outlinewidth\":0,\"ticks\":\"\"}}],\"contour\":[{\"type\":\"contour\",\"colorbar\":{\"outlinewidth\":0,\"ticks\":\"\"},\"colorscale\":[[0.0,\"#0d0887\"],[0.1111111111111111,\"#46039f\"],[0.2222222222222222,\"#7201a8\"],[0.3333333333333333,\"#9c179e\"],[0.4444444444444444,\"#bd3786\"],[0.5555555555555556,\"#d8576b\"],[0.6666666666666666,\"#ed7953\"],[0.7777777777777778,\"#fb9f3a\"],[0.8888888888888888,\"#fdca26\"],[1.0,\"#f0f921\"]]}],\"surface\":[{\"type\":\"surface\",\"colorbar\":{\"outlinewidth\":0,\"ticks\":\"\"},\"colorscale\":[[0.0,\"#0d0887\"],[0.1111111111111111,\"#46039f\"],[0.2222222222222222,\"#7201a8\"],[0.3333333333333333,\"#9c179e\"],[0.4444444444444444,\"#bd3786\"],[0.5555555555555556,\"#d8576b\"],[0.6666666666666666,\"#ed7953\"],[0.7777777777777778,\"#fb9f3a\"],[0.8888888888888888,\"#fdca26\"],[1.0,\"#f0f921\"]]}],\"mesh3d\":[{\"type\":\"mesh3d\",\"colorbar\":{\"outlinewidth\":0,\"ticks\":\"\"}}],\"scatter\":[{\"fillpattern\":{\"fillmode\":\"overlay\",\"size\":10,\"solidity\":0.2},\"type\":\"scatter\"}],\"parcoords\":[{\"type\":\"parcoords\",\"line\":{\"colorbar\":{\"outlinewidth\":0,\"ticks\":\"\"}}}],\"scatterpolargl\":[{\"type\":\"scatterpolargl\",\"marker\":{\"colorbar\":{\"outlinewidth\":0,\"ticks\":\"\"}}}],\"bar\":[{\"error_x\":{\"color\":\"#2a3f5f\"},\"error_y\":{\"color\":\"#2a3f5f\"},\"marker\":{\"line\":{\"color\":\"#E5ECF6\",\"width\":0.5},\"pattern\":{\"fillmode\":\"overlay\",\"size\":10,\"solidity\":0.2}},\"type\":\"bar\"}],\"scattergeo\":[{\"type\":\"scattergeo\",\"marker\":{\"colorbar\":{\"outlinewidth\":0,\"ticks\":\"\"}}}],\"scatterpolar\":[{\"type\":\"scatterpolar\",\"marker\":{\"colorbar\":{\"outlinewidth\":0,\"ticks\":\"\"}}}],\"histogram\":[{\"marker\":{\"pattern\":{\"fillmode\":\"overlay\",\"size\":10,\"solidity\":0.2}},\"type\":\"histogram\"}],\"scattergl\":[{\"type\":\"scattergl\",\"marker\":{\"colorbar\":{\"outlinewidth\":0,\"ticks\":\"\"}}}],\"scatter3d\":[{\"type\":\"scatter3d\",\"line\":{\"colorbar\":{\"outlinewidth\":0,\"ticks\":\"\"}},\"marker\":{\"colorbar\":{\"outlinewidth\":0,\"ticks\":\"\"}}}],\"scattermapbox\":[{\"type\":\"scattermapbox\",\"marker\":{\"colorbar\":{\"outlinewidth\":0,\"ticks\":\"\"}}}],\"scatterternary\":[{\"type\":\"scatterternary\",\"marker\":{\"colorbar\":{\"outlinewidth\":0,\"ticks\":\"\"}}}],\"scattercarpet\":[{\"type\":\"scattercarpet\",\"marker\":{\"colorbar\":{\"outlinewidth\":0,\"ticks\":\"\"}}}],\"carpet\":[{\"aaxis\":{\"endlinecolor\":\"#2a3f5f\",\"gridcolor\":\"white\",\"linecolor\":\"white\",\"minorgridcolor\":\"white\",\"startlinecolor\":\"#2a3f5f\"},\"baxis\":{\"endlinecolor\":\"#2a3f5f\",\"gridcolor\":\"white\",\"linecolor\":\"white\",\"minorgridcolor\":\"white\",\"startlinecolor\":\"#2a3f5f\"},\"type\":\"carpet\"}],\"table\":[{\"cells\":{\"fill\":{\"color\":\"#EBF0F8\"},\"line\":{\"color\":\"white\"}},\"header\":{\"fill\":{\"color\":\"#C8D4E3\"},\"line\":{\"color\":\"white\"}},\"type\":\"table\"}],\"barpolar\":[{\"marker\":{\"line\":{\"color\":\"#E5ECF6\",\"width\":0.5},\"pattern\":{\"fillmode\":\"overlay\",\"size\":10,\"solidity\":0.2}},\"type\":\"barpolar\"}],\"pie\":[{\"automargin\":true,\"type\":\"pie\"}]},\"layout\":{\"autotypenumbers\":\"strict\",\"colorway\":[\"#636efa\",\"#EF553B\",\"#00cc96\",\"#ab63fa\",\"#FFA15A\",\"#19d3f3\",\"#FF6692\",\"#B6E880\",\"#FF97FF\",\"#FECB52\"],\"font\":{\"color\":\"#2a3f5f\"},\"hovermode\":\"closest\",\"hoverlabel\":{\"align\":\"left\"},\"paper_bgcolor\":\"white\",\"plot_bgcolor\":\"#E5ECF6\",\"polar\":{\"bgcolor\":\"#E5ECF6\",\"angularaxis\":{\"gridcolor\":\"white\",\"linecolor\":\"white\",\"ticks\":\"\"},\"radialaxis\":{\"gridcolor\":\"white\",\"linecolor\":\"white\",\"ticks\":\"\"}},\"ternary\":{\"bgcolor\":\"#E5ECF6\",\"aaxis\":{\"gridcolor\":\"white\",\"linecolor\":\"white\",\"ticks\":\"\"},\"baxis\":{\"gridcolor\":\"white\",\"linecolor\":\"white\",\"ticks\":\"\"},\"caxis\":{\"gridcolor\":\"white\",\"linecolor\":\"white\",\"ticks\":\"\"}},\"coloraxis\":{\"colorbar\":{\"outlinewidth\":0,\"ticks\":\"\"}},\"colorscale\":{\"sequential\":[[0.0,\"#0d0887\"],[0.1111111111111111,\"#46039f\"],[0.2222222222222222,\"#7201a8\"],[0.3333333333333333,\"#9c179e\"],[0.4444444444444444,\"#bd3786\"],[0.5555555555555556,\"#d8576b\"],[0.6666666666666666,\"#ed7953\"],[0.7777777777777778,\"#fb9f3a\"],[0.8888888888888888,\"#fdca26\"],[1.0,\"#f0f921\"]],\"sequentialminus\":[[0.0,\"#0d0887\"],[0.1111111111111111,\"#46039f\"],[0.2222222222222222,\"#7201a8\"],[0.3333333333333333,\"#9c179e\"],[0.4444444444444444,\"#bd3786\"],[0.5555555555555556,\"#d8576b\"],[0.6666666666666666,\"#ed7953\"],[0.7777777777777778,\"#fb9f3a\"],[0.8888888888888888,\"#fdca26\"],[1.0,\"#f0f921\"]],\"diverging\":[[0,\"#8e0152\"],[0.1,\"#c51b7d\"],[0.2,\"#de77ae\"],[0.3,\"#f1b6da\"],[0.4,\"#fde0ef\"],[0.5,\"#f7f7f7\"],[0.6,\"#e6f5d0\"],[0.7,\"#b8e186\"],[0.8,\"#7fbc41\"],[0.9,\"#4d9221\"],[1,\"#276419\"]]},\"xaxis\":{\"gridcolor\":\"white\",\"linecolor\":\"white\",\"ticks\":\"\",\"title\":{\"standoff\":15},\"zerolinecolor\":\"white\",\"automargin\":true,\"zerolinewidth\":2},\"yaxis\":{\"gridcolor\":\"white\",\"linecolor\":\"white\",\"ticks\":\"\",\"title\":{\"standoff\":15},\"zerolinecolor\":\"white\",\"automargin\":true,\"zerolinewidth\":2},\"scene\":{\"xaxis\":{\"backgroundcolor\":\"#E5ECF6\",\"gridcolor\":\"white\",\"linecolor\":\"white\",\"showbackground\":true,\"ticks\":\"\",\"zerolinecolor\":\"white\",\"gridwidth\":2},\"yaxis\":{\"backgroundcolor\":\"#E5ECF6\",\"gridcolor\":\"white\",\"linecolor\":\"white\",\"showbackground\":true,\"ticks\":\"\",\"zerolinecolor\":\"white\",\"gridwidth\":2},\"zaxis\":{\"backgroundcolor\":\"#E5ECF6\",\"gridcolor\":\"white\",\"linecolor\":\"white\",\"showbackground\":true,\"ticks\":\"\",\"zerolinecolor\":\"white\",\"gridwidth\":2}},\"shapedefaults\":{\"line\":{\"color\":\"#2a3f5f\"}},\"annotationdefaults\":{\"arrowcolor\":\"#2a3f5f\",\"arrowhead\":0,\"arrowwidth\":1},\"geo\":{\"bgcolor\":\"white\",\"landcolor\":\"#E5ECF6\",\"subunitcolor\":\"white\",\"showland\":true,\"showlakes\":true,\"lakecolor\":\"white\"},\"title\":{\"x\":0.05},\"mapbox\":{\"style\":\"light\"}}},\"xaxis\":{\"anchor\":\"y\",\"domain\":[0.0,1.0],\"title\":{\"text\":\"time\"}},\"yaxis\":{\"anchor\":\"x\",\"domain\":[0.0,1.0],\"title\":{\"text\":\"well_pressure\"}},\"legend\":{\"tracegroupgap\":0},\"title\":{\"text\":\"Well test data\"},\"margin\":{\"l\":10,\"r\":20,\"t\":30,\"b\":20}},                        {\"responsive\": true}                    ).then(function(){\n",
       "                            \n",
       "var gd = document.getElementById('2ecd082b-79d8-4930-808e-1ecb0c9dd090');\n",
       "var x = new MutationObserver(function (mutations, observer) {{\n",
       "        var display = window.getComputedStyle(gd).display;\n",
       "        if (!display || display === 'none') {{\n",
       "            console.log([gd, 'removed!']);\n",
       "            Plotly.purge(gd);\n",
       "            observer.disconnect();\n",
       "        }}\n",
       "}});\n",
       "\n",
       "// Listen for the removal of the full notebook cells\n",
       "var notebookContainer = gd.closest('#notebook-container');\n",
       "if (notebookContainer) {{\n",
       "    x.observe(notebookContainer, {childList: true});\n",
       "}}\n",
       "\n",
       "// Listen for the clearing of the current output cell\n",
       "var outputEl = gd.closest('.output');\n",
       "if (outputEl) {{\n",
       "    x.observe(outputEl, {childList: true});\n",
       "}}\n",
       "\n",
       "                        })                };                });            </script>        </div>"
      ]
     },
     "metadata": {},
     "output_type": "display_data"
    }
   ],
   "source": [
    "data = pd.read_csv('data/well_bhp.dat', sep='\\t', header=0, index_col=False)\n",
    "fig = px.scatter(data, x=\"time\", y=\"well_pressure\", title='Well test data')\n",
    "fig.update_layout(margin=dict(l=10, r=20, t=30, b=20))\n",
    "fig.show()"
   ]
  },
  {
   "cell_type": "code",
   "execution_count": 409,
   "metadata": {},
   "outputs": [
    {
     "data": {
      "text/plain": [
       "<Axes: xlabel='time', ylabel='well_pressure'>"
      ]
     },
     "execution_count": 409,
     "metadata": {},
     "output_type": "execute_result"
    },
    {
     "data": {
      "image/png": "[encoded data removed]",
      "text/plain": [
       "<Figure size 640x480 with 1 Axes>"
      ]
     },
     "metadata": {},
     "output_type": "display_data"
    }
   ],
   "source": [
    "data.plot('time', 'well_pressure', kind='scatter')"
   ]
  },
  {
   "cell_type": "markdown",
   "metadata": {},
   "source": [
    "**Part 3** Towards the end of the test, we see that the well pressure stabilizes towards a constant value. This indicates that the pressure wave has reached the edge of the reservoir. For this part you may assume default model input (Appendix B) for all parameters except the following three: $k, p_i,$ and $r_e$\n",
    "\n",
    "- Fit your numerical model to the well test data by changing the values of $k, p_i,$ and $r_e$\n",
    "- Make a plot in which you compare 1) the well test data, 2) your numerical well pressure solution, and 3) the corresponding line-source solution.\n",
    "- Use a logarithmic scale on the x-axis.\n",
    "\n",
    "Hints: You may try to match the well test curve manually, but it might be easier to use automated curve-fitting."
   ]
  },
  {
   "cell_type": "code",
   "execution_count": 555,
   "metadata": {},
   "outputs": [],
   "source": [
    "class PressureSolver_Pw(PressureSolver):\n",
    "    \"\"\"\n",
    "    The same solver as the one for the question 2. The only difference is the introduction of Pw in the matrices.\n",
    "    \"\"\"\n",
    "    def constants(self):\n",
    "        self.c = np.zeros((self.N_, 1))\n",
    "        self.c[0] = - 3/2 * self.beta_ * self.xi_[0]\n",
    "        self.c[self.N_ - 1] = 2 * self.pi_ * self.xi_[self.N_ - 1]\n",
    "        return self.c\n",
    "    def time_advance(self):\n",
    "        A = self.coefficient_matrix()\n",
    "        const = self.constants()\n",
    "        Pold = self.initial_condition()\n",
    "        t = self.dt_\n",
    "        accuracy = 1\n",
    "        Pw_t = np.empty((0, 2))\n",
    "        condition = False\n",
    "        while not condition:\n",
    "            rhs = self.rhs_matrix(Pold = Pold, const = const)\n",
    "            p = self.solver(A = A, rhs = rhs)\n",
    "            Pw_t = np.vstack((Pw_t, np.array([t/3600, p[0, 0]/self.psi_to_pa_])))\n",
    "            # yield (p[0], t)\n",
    "            if t/3600 > 3000:\n",
    "                condition = True\n",
    "            else:\n",
    "                Pold = p\n",
    "                t = t + self.dt_\n",
    "        return Pw_t"
   ]
  },
  {
   "cell_type": "code",
   "execution_count": 556,
   "metadata": {},
   "outputs": [],
   "source": [
    "Pw = PressureSolver_Pw(4, 0.01)\n",
    "Pw_t = Pw.time_advance()"
   ]
  },
  {
   "cell_type": "code",
   "execution_count": 557,
   "metadata": {},
   "outputs": [
    {
     "data": {
      "image/png": "[encoded data removed]",
      "text/plain": [
       "<Figure size 640x480 with 1 Axes>"
      ]
     },
     "metadata": {},
     "output_type": "display_data"
    }
   ],
   "source": [
    "plt.scatter(Pw_t[:,0], Pw_t[:,1], color='red', s=10)\n",
    "plt.scatter(data['time'], data['well_pressure'], s=10)\n",
    "plt.show()"
   ]
  },
  {
   "cell_type": "code",
   "execution_count": 562,
   "metadata": {},
   "outputs": [],
   "source": [
    "# import scipy.special as sc\n",
    "from scipy.optimize import curve_fit\n",
    "\n",
    "# define the function to fit the bserved well test data.\n",
    "def func_fa(t, m, b):\n",
    "    return  m * np.log10(t) + b\n",
    "    "
   ]
  },
  {
   "cell_type": "code",
   "execution_count": 567,
   "metadata": {},
   "outputs": [],
   "source": [
    "rw=0.318\n",
    "h=11.0\n",
    "phi=0.25\n",
    "mu=1.0\n",
    "ct=7.8e-6\n",
    "Q=1000.0"
   ]
  },
  {
   "cell_type": "code",
   "execution_count": 563,
   "metadata": {},
   "outputs": [],
   "source": [
    "xdata_fa = data.loc[1:12, 'time']\n",
    "ydata_fa = data.loc[1:12,'well_pressure']\n",
    "params_fa, pcov_fa = curve_fit(func_fa, xdata_fa, ydata_fa)"
   ]
  },
  {
   "cell_type": "code",
   "execution_count": 569,
   "metadata": {},
   "outputs": [],
   "source": [
    "# par = PressureSolver(1,1)\n",
    "k = 162.6*Q*mu/(-params_fa[0]*h)"
   ]
  },
  {
   "cell_type": "code",
   "execution_count": 577,
   "metadata": {},
   "outputs": [
    {
     "data": {
      "text/plain": [
       "4018.8074422763916"
      ]
     },
     "execution_count": 577,
     "metadata": {},
     "output_type": "execute_result"
    }
   ],
   "source": [
    "p1h = params_fa[1]\n",
    "pi = p1h - params_fa[0]*(np.log10(k/(phi*mu*ct*rw**2)) - 3.23)\n",
    "pi"
   ]
  },
  {
   "cell_type": "markdown",
   "metadata": {},
   "source": [
    "Note the change in the slope of the data in semi-log plot of both curves above. The 1st slope is transient part which is used to find the permeability and initial pressure and the second one is when the pressure effect reaches the boundry. Later part will guid us to find the external reduce of the reservoir.\n",
    "Refering to equation 2.4 in refference 8, $$k=162.6Q\\mu/mh$$ (field unit) with $m=41.03 psi/bll/cycle \\Rightarrow k=357.9 mD$  \n",
    "The intercept calculated by curve fit is $P_{1h} = 3769.8 psi$  \n",
    "From refference [Amant U. Chaudhry Equation 4-9] initial pressure could be calculated. No skin factor is reported so $s=0$.  \n",
    "$$p_i=4019$$"
   ]
  },
  {
   "attachments": {
    "15bfbe15-f7db-4d2a-ada7-aafdef80fe93.png": {
     "image/png": "[encoded data removed]"
    }
   },
   "cell_type": "markdown",
   "metadata": {},
   "source": [
    "using the second section of the curve (psudo stady state) where the line emerges in cartesian system. \n",
    "![image.png](attachment:15bfbe15-f7db-4d2a-ada7-aafdef80fe93.png)"
   ]
  },
  {
   "cell_type": "code",
   "execution_count": 501,
   "metadata": {},
   "outputs": [],
   "source": [
    "# define the function to fit the bserved well test data.\n",
    "def func_pss(t, m, b):\n",
    "    return  m * t + b"
   ]
  },
  {
   "cell_type": "code",
   "execution_count": 589,
   "metadata": {},
   "outputs": [],
   "source": [
    "xdata_pss = data.loc[14:, 'time']\n",
    "ydata_pss = data.loc[14:,'well_pressure']\n",
    "params_pss, pcov_pss = curve_fit(func_pss, xdata_pss, ydata_pss)"
   ]
  },
  {
   "cell_type": "code",
   "execution_count": 590,
   "metadata": {},
   "outputs": [
    {
     "data": {
      "text/plain": [
       "array([-3.13370851e-03,  3.66539757e+03])"
      ]
     },
     "execution_count": 590,
     "metadata": {},
     "output_type": "execute_result"
    }
   ],
   "source": [
    "params_pss"
   ]
  },
  {
   "cell_type": "code",
   "execution_count": 591,
   "metadata": {},
   "outputs": [
    {
     "data": {
      "text/plain": [
       "2302.419801872864"
      ]
     },
     "execution_count": 591,
     "metadata": {},
     "output_type": "execute_result"
    }
   ],
   "source": [
    "re = -0.0168*k/(phi*mu*1*params_pss[0])\n",
    "re*.3"
   ]
  },
  {
   "cell_type": "markdown",
   "metadata": {},
   "source": [
    "**Part 4**\n",
    "- Based on the value you found for $r_e$, what is the total volume of water in the reservoir?"
   ]
  },
  {
   "cell_type": "markdown",
   "metadata": {},
   "source": [
    "------------------------------------\n",
    "### **Reflections**:\n",
    "- Jing:\n",
    "\n",
    "\n",
    "- Partha:\n",
    "\n",
    "\n",
    "\n",
    "- Hodjdat: \n",
    "\n",
    "### **Conclusion**: \n",
    "\n"
   ]
  },
  {
   "cell_type": "markdown",
   "metadata": {},
   "source": [
    "\n",
    "### **References**: \n",
    "\n",
    "[1]  Laurence Patrick Dake. Fundamentals of Reservoir Engineering. Elsevier, 1983.\n",
    "[2]  \n",
    "[3]\n",
    "[4] \n",
    "[5] Aksel Hiorth. *Computational Engineering and Modeling*. https://github.com/ahiorth/CompEngineering, 2023  \n",
    "[6] Robert Edwin Wengert. A simple automatic derivative evaluation program. Communications of the ACM, 7(8):463–464, 1964."
   ]
  }
 ],
 "metadata": {
  "kernelspec": {
   "display_name": "Python 3 (ipykernel)",
   "language": "python",
   "name": "python3"
  },
  "language_info": {
   "codemirror_mode": {
    "name": "ipython",
    "version": 3
   },
   "file_extension": ".py",
   "mimetype": "text/x-python",
   "name": "python",
   "nbconvert_exporter": "python",
   "pygments_lexer": "ipython3",
   "version": "3.11.5"
  }
 },
 "nbformat": 4,
 "nbformat_minor": 4
}
