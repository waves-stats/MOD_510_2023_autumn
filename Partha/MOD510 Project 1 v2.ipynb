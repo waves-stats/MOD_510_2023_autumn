{
 "cells": [
  {
   "cell_type": "code",
   "execution_count": 22,
   "id": "1357e5f1",
   "metadata": {
    "ExecuteTime": {
     "end_time": "2023-09-01T12:53:54.226558Z",
     "start_time": "2023-09-01T12:53:52.518123Z"
    }
   },
   "outputs": [],
   "source": [
    "import matplotlib.pyplot as plt"
   ]
  },
  {
   "cell_type": "code",
   "execution_count": 21,
   "id": "5f43d35e",
   "metadata": {
    "ExecuteTime": {
     "end_time": "2023-09-01T12:53:52.011733Z",
     "start_time": "2023-09-01T12:53:51.078007Z"
    }
   },
   "outputs": [],
   "source": [
    "import numpy as np"
   ]
  },
  {
   "cell_type": "markdown",
   "id": "ab62c4f2",
   "metadata": {},
   "source": [
    "# Exercise 1: Finite-precision arithmetic\n",
    "\n",
    "## Part 1.  Explain the output of sys.float_info.\n",
    "\n",
    "\n",
    "Run the following code snippet:"
   ]
  },
  {
   "cell_type": "code",
   "execution_count": 1,
   "id": "6e75f400",
   "metadata": {},
   "outputs": [
    {
     "data": {
      "text/plain": [
       "sys.float_info(max=1.7976931348623157e+308, max_exp=1024, max_10_exp=308, min=2.2250738585072014e-308, min_exp=-1021, min_10_exp=-307, dig=15, mant_dig=53, epsilon=2.220446049250313e-16, radix=2, rounds=1)"
      ]
     },
     "execution_count": 1,
     "metadata": {},
     "output_type": "execute_result"
    }
   ],
   "source": [
    "import sys\n",
    "sys.float_info"
   ]
  },
  {
   "cell_type": "markdown",
   "id": "cbc457e9",
   "metadata": {},
   "source": [
    "The float_info attribute outputs the following information about floating point representation in a single byte on a 64 bit computer:\n",
    "1. `max / min`: the maximum(positive)/minimum(negative) floating point number that can be represented by a single byte\n",
    "1. `max_exp/max_10_exp` : an integer x that can produce the maximum number that can be represented by a normalized float in the following manner : radix**(1-x) or 10**(x) respectively. Note radix is 2.\n",
    "1. `min_exp/min_10_exp` : an integer x that can produce the minimum number that can be represented by a normalized float in the following manner : radix**(1-x) or 10**(x) respectively. Note radix is 2.\n",
    "1. `dig/mant_dig` : The maximum number of decimal digits that can be faithfully represented in a float.\n",
    "1. `mant_dig` : the number of base-radix(2) digits in the significand of a float.\n",
    "1. `radix` : the base used for representing the float\n",
    "1. `round` : flag for how python tries to round a floating number (nearest in this case)\n",
    "1. `epsilon` : smallest value which can be added or subtracted to 1 such that the sum is faithfully representable by the float"
   ]
  },
  {
   "attachments": {
    "64bitrepr.png": {
     "image/png": "[encoded data removed]"
    }
   },
   "cell_type": "markdown",
   "id": "f7fe3cd3",
   "metadata": {},
   "source": [
    "## part 2:  Show how you can calculate the printed-out values max, min, epsilon yourself\n",
    "\n",
    "According to the IEEE 754-1985 standard for a 64bit computer \n",
    "1. 1 bit is reserved for the sign of the float (sign bit), say a\n",
    "1. 52 bits are used to represent the fraction of the float, say b\n",
    "1. 11 bits are used to represent exponenet  of the float, say c\n",
    "1. in addition float is represented in the normalized fashion, that is to say 1. is always assumed to be the first digit of the fraction\n",
    "![figure 64bit allocation](attachment:64bitrepr.png)\n",
    "\n",
    "Each bit can either be 0 or 1.\n",
    "\n"
   ]
  },
  {
   "cell_type": "markdown",
   "id": "83fa68b1",
   "metadata": {},
   "source": [
    "For calculating the decimal number from the bit values the following formula can be used\n",
    "\n",
    "$\\pm M\\cdot2^{E-e}$\n",
    "\n",
    "$M=1.F$\n",
    "\n",
    "where M is the mantissa E is the exponent and e is the bias. Bias, e, has a fixed value $(2^{11-1}-1=1023), 0<E<2^{2^{11}-2}$. Ehe exponenet $E$ has two less possibilities as `00000000000` and `11111111111` are reserved to represent to represent $0$ and $\\infty $. In combination with the sign bit, they can also represent $-0$ and $-\\infty$\n",
    "\n",
    "**Calculating the max, min,  epsilon**\n",
    "\n",
    "The code below calculates the maximum, min and epsilon. \n"
   ]
  },
  {
   "cell_type": "code",
   "execution_count": 133,
   "id": "062cb7b3",
   "metadata": {
    "ExecuteTime": {
     "end_time": "2023-09-01T14:57:53.278871Z",
     "start_time": "2023-09-01T14:57:53.273793Z"
    }
   },
   "outputs": [],
   "source": [
    "def calcdecfrombinary(F, E, signbit =0, e=2**10-1, mp =False):\n",
    "    # lets ignore the sign bit for the moment \n",
    "    # the frac is 51 bits\n",
    "    # exp is 11 bits\n",
    "    \n",
    "    def fractodec(F):\n",
    "        div = 2\n",
    "        dec =0\n",
    "        for digit in F:\n",
    "            dec += int(digit)/div\n",
    "            div = div*2\n",
    "        #print('F=',dec)\n",
    "        return(dec)\n",
    "    \n",
    "    def exptodec(E):\n",
    "        mul = 1\n",
    "        dec =0\n",
    "        for digit in list(E)[::-1]:\n",
    "            dec += int(digit)*mul\n",
    "            mul = mul*2\n",
    "        #print('E =',dec)\n",
    "        return(dec)\n",
    "    \n",
    "    M = 1+fractodec(F)\n",
    "    \n",
    "    if mp :\n",
    "        E1 =e\n",
    "    else:\n",
    "        E1 = exptodec(E)\n",
    "    m =2**(E1-e) \n",
    "    #print('m =',m,'(E1-e): ',(E1-e))\n",
    "    number = M*m\n",
    "    print(f'F =[{F}](binary), {M-1}(decimal), \\nM = 1+F ={M}(decimal) \\nE = [{E}](binary), {E1}(decimal)')\n",
    "    return(number)"
   ]
  },
  {
   "cell_type": "code",
   "execution_count": 236,
   "id": "74dc2dd5",
   "metadata": {
    "ExecuteTime": {
     "end_time": "2023-09-01T15:38:45.307401Z",
     "start_time": "2023-09-01T15:38:45.300338Z"
    }
   },
   "outputs": [
    {
     "name": "stdout",
     "output_type": "stream",
     "text": [
      "Decimal equivalent of a binary number is given by(ignoring the sign bit)\n",
      "M*2^(E-e), e is the bias, a constant(=1023)\n",
      "M = 1.F)\n",
      "\n",
      "Maximum number possible to store\n",
      "================================================================================\n",
      "F =[1111111111111111111111111111111111111111111111111111](binary), 0.9999999999999998(decimal), \n",
      "M = 1+F =1.9999999999999998(decimal) \n",
      "E = [11111111110](binary), 2046(decimal)\n",
      "Biggest number: 1.7976931348623157e+308\n",
      "\n",
      "\n",
      "Min positive number possible to store\n",
      "================================================================================\n",
      "F =[0000000000000000000000000000000000000000000000000000](binary), 0.0(decimal), \n",
      "M = 1+F =1.0(decimal) \n",
      "E = [00000000001](binary), 1(decimal)\n",
      "smallest number: 2.2250738585072014e-308\n",
      "\n",
      "\n",
      "Calculating machine precision\n",
      "================================================================================\n",
      "To represent 1, the both fraction, F, and Exponent, E-e, is all zeros \n",
      "To represent number just higher than 1, the both fraction, F, is 51x0s followed by 1 \n",
      "and Exponent, E-e, is all zeros => E=e\n",
      "F =[0000000000000000000000000000000000000000000000000001](binary), 2.220446049250313e-16(decimal), \n",
      "M = 1+F =1.0000000000000002(decimal) \n",
      "E = [1111111111](binary), 1023(decimal)\n",
      "calculated machine precision: -2.220446049250313e-16\n",
      "\n",
      "\n"
     ]
    }
   ],
   "source": [
    "print('Decimal equivalent of a binary number is given by(ignoring the sign bit)')\n",
    "print(f'M*2^(E-e), e is the bias, a constant(={2**10-1})' )\n",
    "print('M = 1.F)\\n' )\n",
    "\n",
    "print('Maximum number possible to store')\n",
    "print('='*80)\n",
    "F='1'*52\n",
    "E='1'*10+'0' # the last bit is to be 0 since 11 bits of all 1 represents infinity\n",
    "print (f'Biggest number: {calcdecfrombinary(F,E)}')\n",
    "print('\\n')\n",
    "\n",
    "print('Min positive number possible to store')\n",
    "print('='*80)\n",
    "F='0'*52 # all bits of fraction are 0\n",
    "E='0'*10+'1' # the last bit is to be 1 since 11 bits of all 0 represents one\n",
    "print (f'smallest number: {calcdecfrombinary(F,E)}')\n",
    "print('\\n')\n",
    "\n",
    "print('Calculating machine precision')\n",
    "print('='*80)\n",
    "print('To represent 1, the both fraction, F, and Exponent, E-e, is all zeros ')\n",
    "print('To represent number just higher than 1, the both fraction, F, is 51x0s followed by 1 ')\n",
    "print('and Exponent, E-e, is all zeros => E=e')\n",
    "F='0'*51+'1' \n",
    "E='1'*10 # equal to bias, e\n",
    "epsilon = 1-calcdecfrombinary(F,E)\n",
    "print (f'calculated machine precision: {epsilon}')\n",
    "print('\\n')"
   ]
  },
  {
   "cell_type": "markdown",
   "id": "e8a92be3",
   "metadata": {},
   "source": [
    "**Extra:**\n",
    "We can also show that the exponent is all 1's that we get an error OverflowError"
   ]
  },
  {
   "cell_type": "code",
   "execution_count": 235,
   "id": "1197a98a",
   "metadata": {
    "ExecuteTime": {
     "end_time": "2023-09-01T15:37:51.730189Z",
     "start_time": "2023-09-01T15:37:51.702658Z"
    }
   },
   "outputs": [
    {
     "name": "stdout",
     "output_type": "stream",
     "text": [
      "F =[1111111111111111111111111111111111111111111111111111](binary), 0.9999999999999998(decimal), \n",
      "M = 1+F =1.9999999999999998(decimal) \n",
      "E = [00000000000](binary), 0(decimal)\n",
      "Biggest number: 2.2250738585072014e-308\n",
      "\n",
      "\n"
     ]
    },
    {
     "ename": "OverflowError",
     "evalue": "int too large to convert to float",
     "output_type": "error",
     "traceback": [
      "\u001b[0;31m---------------------------------------------------------------------------\u001b[0m",
      "\u001b[0;31mOverflowError\u001b[0m                             Traceback (most recent call last)",
      "Cell \u001b[0;32mIn[235], line 9\u001b[0m\n\u001b[1;32m      7\u001b[0m F\u001b[38;5;241m=\u001b[39m\u001b[38;5;124m'\u001b[39m\u001b[38;5;124m1\u001b[39m\u001b[38;5;124m'\u001b[39m\u001b[38;5;241m*\u001b[39m\u001b[38;5;241m52\u001b[39m\n\u001b[1;32m      8\u001b[0m E\u001b[38;5;241m=\u001b[39m\u001b[38;5;124m'\u001b[39m\u001b[38;5;124m1\u001b[39m\u001b[38;5;124m'\u001b[39m\u001b[38;5;241m*\u001b[39m\u001b[38;5;241m11\u001b[39m \u001b[38;5;66;03m# the last bit is to be 0 since 11 bits of all 1 represents infinity\u001b[39;00m\n\u001b[0;32m----> 9\u001b[0m \u001b[38;5;28mprint\u001b[39m (\u001b[38;5;124mf\u001b[39m\u001b[38;5;124m'\u001b[39m\u001b[38;5;124mBiggest number: \u001b[39m\u001b[38;5;132;01m{\u001b[39;00m\u001b[43mcalcdecfrombinary\u001b[49m\u001b[43m(\u001b[49m\u001b[43mF\u001b[49m\u001b[43m,\u001b[49m\u001b[43mE\u001b[49m\u001b[43m)\u001b[49m\u001b[38;5;132;01m}\u001b[39;00m\u001b[38;5;124m'\u001b[39m)\n\u001b[1;32m     10\u001b[0m \u001b[38;5;28mprint\u001b[39m(\u001b[38;5;124m'\u001b[39m\u001b[38;5;130;01m\\n\u001b[39;00m\u001b[38;5;124m'\u001b[39m)\n",
      "Cell \u001b[0;32mIn[133], line 32\u001b[0m, in \u001b[0;36mcalcdecfrombinary\u001b[0;34m(F, E, signbit, e, mp)\u001b[0m\n\u001b[1;32m     30\u001b[0m m \u001b[38;5;241m=\u001b[39m\u001b[38;5;241m2\u001b[39m\u001b[38;5;241m*\u001b[39m\u001b[38;5;241m*\u001b[39m(E1\u001b[38;5;241m-\u001b[39me) \n\u001b[1;32m     31\u001b[0m \u001b[38;5;66;03m#print('m =',m,'(E1-e): ',(E1-e))\u001b[39;00m\n\u001b[0;32m---> 32\u001b[0m number \u001b[38;5;241m=\u001b[39m \u001b[43mM\u001b[49m\u001b[38;5;241;43m*\u001b[39;49m\u001b[43mm\u001b[49m\n\u001b[1;32m     33\u001b[0m \u001b[38;5;28mprint\u001b[39m(\u001b[38;5;124mf\u001b[39m\u001b[38;5;124m'\u001b[39m\u001b[38;5;124mF =[\u001b[39m\u001b[38;5;132;01m{\u001b[39;00mF\u001b[38;5;132;01m}\u001b[39;00m\u001b[38;5;124m](binary), \u001b[39m\u001b[38;5;132;01m{\u001b[39;00mM\u001b[38;5;241m-\u001b[39m\u001b[38;5;241m1\u001b[39m\u001b[38;5;132;01m}\u001b[39;00m\u001b[38;5;124m(decimal), \u001b[39m\u001b[38;5;130;01m\\n\u001b[39;00m\u001b[38;5;124mM = 1+F =\u001b[39m\u001b[38;5;132;01m{\u001b[39;00mM\u001b[38;5;132;01m}\u001b[39;00m\u001b[38;5;124m(decimal) \u001b[39m\u001b[38;5;130;01m\\n\u001b[39;00m\u001b[38;5;124mE = [\u001b[39m\u001b[38;5;132;01m{\u001b[39;00mE\u001b[38;5;132;01m}\u001b[39;00m\u001b[38;5;124m](binary), \u001b[39m\u001b[38;5;132;01m{\u001b[39;00mE1\u001b[38;5;132;01m}\u001b[39;00m\u001b[38;5;124m(decimal)\u001b[39m\u001b[38;5;124m'\u001b[39m)\n\u001b[1;32m     34\u001b[0m \u001b[38;5;28;01mreturn\u001b[39;00m(number)\n",
      "\u001b[0;31mOverflowError\u001b[0m: int too large to convert to float"
     ]
    }
   ],
   "source": [
    "# show that is the exponent is all 1 then we get infinite value (shown as Overflowerror)\n",
    "F='1'*52\n",
    "E='0'*11 # the last bit is to be 0 since 11 bits of all 1 represents infinity\n",
    "print (f'Biggest number: {calcdecfrombinary(F,E)}')\n",
    "\n",
    "print('\\n')\n",
    "F='1'*52\n",
    "E='1'*11 # the last bit is to be 0 since 11 bits of all 1 represents infinity\n",
    "print (f'Biggest number: {calcdecfrombinary(F,E)}')\n",
    "print('\\n')"
   ]
  },
  {
   "cell_type": "markdown",
   "id": "385f0a4f-05cc-4c32-a25f-a8d9cc051df1",
   "metadata": {},
   "source": [
    "\n",
    "## Part 3.\n",
    "\n",
    "In Python, typing 0.1+0.2 does not (typically) produce the same output as 0.3."
   ]
  },
  {
   "cell_type": "code",
   "execution_count": 35,
   "id": "55e2fc57",
   "metadata": {
    "ExecuteTime": {
     "end_time": "2023-09-01T13:03:41.832088Z",
     "start_time": "2023-09-01T13:03:41.824876Z"
    }
   },
   "outputs": [],
   "source": [
    "class binNbit():\n",
    "    '''\n",
    "    class that takes a number a and \n",
    "    1. calculates the binary equivalent\n",
    "    2. converts this binary equivalent to decimal \n",
    "    3. checks if the reverse conversion produces the same output\n",
    "    this only works with +ve numbers below 1 for now.\n",
    "    '''\n",
    "    def __init__(self, a, n=16):\n",
    "        self.n = n\n",
    "        self.a = a\n",
    "        self.bin = ''\n",
    "        self.dec = 0.0\n",
    "    def dec2bin(self):\n",
    "        '''\n",
    "        calculated the binary of number a with n bits of precision after decimal \n",
    "        (a)decimal = b(binary)\n",
    "        b is of the form 0.xxxxxx... (n number of x's)\n",
    "        n is the number of bits used for binary representation\n",
    "        '''\n",
    "        # To avoid the decimal separator, multiply the decimal number \n",
    "        # with the base raised to the power of decimals in result\n",
    "        n = self.n\n",
    "        a = int(self.a*2**n)\n",
    "        #print(a)\n",
    "        div = 2\n",
    "        quotent = a\n",
    "        reminder = ''\n",
    "\n",
    "        for i in range(n):\n",
    "            quotent = a//div\n",
    "            reminder = str(int(a%div))+reminder\n",
    "            #print(f'{a}/2',quotent, reminder, i)\n",
    "            a=quotent\n",
    "        self.bin = ('0.'+reminder)\n",
    "        return(self.bin)\n",
    "    \n",
    "    def bin2dec(self ):\n",
    "        '''\n",
    "        calculated the decimal equivalent of a binary number b  \n",
    "        (b)decimal = d(binary)\n",
    "        b  is a string of the form 0.xxxxxx \n",
    "        '''\n",
    "        # remove the decimal point\n",
    "        b = self.bin[0]+self.bin[2:]\n",
    "        div = 1\n",
    "        dec =0\n",
    "        for digit in b:\n",
    "            dec += int(digit)/div\n",
    "            div = div*2\n",
    "        self.dec = dec\n",
    "        return(self.dec)\n",
    "    \n",
    "    def __call__(self):\n",
    "        \n",
    "        self.dec2bin()\n",
    "        self.bin2dec()\n",
    "        return('there and back again : done')\n",
    "    \n",
    "    def issame(self):\n",
    "        '''\n",
    "        check the accuracy of the conversion\n",
    "        '''\n",
    "        if self.a == self.dec:\n",
    "            return(f'decimal input {self.a} is equal machine decimal representation {self.dec}')\n",
    "        else:\n",
    "            return(f'decimal input {self.a} is *NOT* equal machine decimal representation {self.dec}')     \n",
    "        \n",
    "    def __repr__(self):\n",
    "        ''' \n",
    "        represntation of the class\n",
    "        '''\n",
    "        self()\n",
    "        return(f'input: {self.a}, {self.n} bit binary equiv: {self.bin}, decimal equiv:{self.dec}')"
   ]
  },
  {
   "cell_type": "code",
   "execution_count": 36,
   "id": "8fe7056f",
   "metadata": {
    "ExecuteTime": {
     "end_time": "2023-09-01T13:04:11.332276Z",
     "start_time": "2023-09-01T13:04:11.326901Z"
    }
   },
   "outputs": [
    {
     "data": {
      "text/plain": [
       "(input: 0.2, 8 bit binary equiv: 0.00110011, decimal equiv:0.19921875,\n",
       " input: 0.2, 16 bit binary equiv: 0.0011001100110011, decimal equiv:0.1999969482421875)"
      ]
     },
     "execution_count": 36,
     "metadata": {},
     "output_type": "execute_result"
    }
   ],
   "source": [
    "p = binNbit(0.2,8)\n",
    "q = binNbit(0.2,16)\n",
    "p, q"
   ]
  },
  {
   "cell_type": "code",
   "execution_count": 37,
   "id": "040dd88c-0d28-4c3f-ab89-9175ea0f207b",
   "metadata": {
    "ExecuteTime": {
     "end_time": "2023-09-01T13:04:13.748370Z",
     "start_time": "2023-09-01T13:04:13.742450Z"
    }
   },
   "outputs": [
    {
     "data": {
      "text/plain": [
       "('decimal input 0.2 is *NOT* equal machine decimal representation 0.19921875',\n",
       " 'decimal input 0.2 is *NOT* equal machine decimal representation 0.1999969482421875')"
      ]
     },
     "execution_count": 37,
     "metadata": {},
     "output_type": "execute_result"
    }
   ],
   "source": [
    "p.issame(), q.issame()"
   ]
  },
  {
   "cell_type": "markdown",
   "id": "1bf2d2f0",
   "metadata": {},
   "source": [
    "**Discussion:**\n",
    "\n",
    "The above class takes a decimal number, $a$,  and the number of bits, $n$, that is to be used to represent in binary. It converts the *raw decimal* to its binary equivalent, $bin$, representing it in $n$ bits after decimal place. The class also converts the binary representation $bin$ back to decimal representation, $dec$. \n",
    "\n",
    "The class function `issame` tells us if the *raw decimal*  has been faithfully converted\n",
    "\n",
    "When converting 0.2 to binary we get 0.0011(0011)...(repeting). Some part of 0.2 is always lost by truncation when converting to binary. With increased number of bits used to represent the decimal the precision is increased but it is impossible to reach 0.2 with finite number of bits. Thus 0.1 + 0.2 can never be equal to 0.3."
   ]
  },
  {
   "cell_type": "markdown",
   "id": "37852d03-af5a-40a2-8796-d2b4c1ee6174",
   "metadata": {
    "jp-MarkdownHeadingCollapsed": true
   },
   "source": [
    "## Part 4.\n",
    "\n",
    "Should you use the ==-operator to test whether two floating-point numbers are equal?\n",
    "Why / why not? Can you think of alternative ways to do floating-point number comparison"
   ]
  },
  {
   "cell_type": "code",
   "execution_count": 40,
   "id": "18d2ee6c",
   "metadata": {
    "ExecuteTime": {
     "end_time": "2023-09-01T13:05:50.323949Z",
     "start_time": "2023-09-01T13:05:50.318800Z"
    }
   },
   "outputs": [
    {
     "name": "stdout",
     "output_type": "stream",
     "text": [
      "Is 0.1+0.2==0.3: False\n",
      "Difference: 0.3-(0.1+0.2) = -5.551115123125783e-17\n",
      "alternative method 1:::  Is 0.3-(0.1+0.2) < 1.52587890625e-05: True\n",
      "alternative method 2::: np.isclose(0.1+0.2, 0.3): True\n"
     ]
    }
   ],
   "source": [
    "print('Is 0.1+0.2==0.3:', 0.1+0.2 == 0.3)  # check if equality holds\n",
    "print('Difference: 0.3-(0.1+0.2) =', 0.3-(0.1+0.2))  # difference\n",
    "epsilon = 2**-16\n",
    "print(f'alternative method 1:::  Is 0.3-(0.1+0.2) < {epsilon}:', 0.3-(0.1+0.2) < epsilon) # alternative method 1\n",
    "print('alternative method 2::: np.isclose(0.1+0.2, 0.3):', np.isclose(0.1+0.2, 0.3)) # alternative method 2"
   ]
  },
  {
   "cell_type": "markdown",
   "id": "adfe5422",
   "metadata": {},
   "source": [
    "**Discussion**\n",
    "\n",
    "Since the system doesnt store 0.2  as 0.2 exactly so it is not advisable to compare with `== operator`. Two other  methods to compare 0.1+0.2 and 0.3 are shown above."
   ]
  },
  {
   "cell_type": "markdown",
   "id": "fbda0fc9",
   "metadata": {},
   "source": [
    "# Exercise 2: Get up to speed with NumPy\n",
    "\n",
    "## Part 1.\n",
    "\n",
    "The following code block gives an example of a vectorized function:"
   ]
  },
  {
   "cell_type": "code",
   "execution_count": 23,
   "id": "1511ac3a",
   "metadata": {},
   "outputs": [
    {
     "data": {
      "text/plain": [
       "(array([0.        , 0.11111111, 0.22222222, 0.33333333, 0.44444444,\n",
       "        0.55555556, 0.66666667, 0.77777778, 0.88888889, 1.        ]),\n",
       " array([1.        , 1.11751907, 1.24884887, 1.39561243, 1.5596235 ,\n",
       "        1.742909  , 1.94773404, 2.17662993, 2.43242545, 2.71828183]),\n",
       " array([1.        , 0.89483932, 0.8007374 , 0.71653131, 0.64118039,\n",
       "        0.57375342, 0.51341712, 0.45942582, 0.41111229, 0.36787944]))"
      ]
     },
     "execution_count": 23,
     "metadata": {},
     "output_type": "execute_result"
    }
   ],
   "source": [
    "x = np.linspace(0, 1, 10)\n",
    "ex=np.exp(x)  \n",
    "emx=np.exp(-x)\n",
    "x,ex,emx"
   ]
  },
  {
   "cell_type": "markdown",
   "id": "3d8d7c26",
   "metadata": {},
   "source": [
    "Notice the usage of np.exp instead of using the exponential function provided in the built-in math library; this is an example of a universal function.\n",
    "\n",
    "* Create a native Python list of the same size as x and holding the same values. Apply the same two function calls to the list. Explain what happens."
   ]
  },
  {
   "cell_type": "code",
   "execution_count": 46,
   "id": "4ac8215c",
   "metadata": {
    "ExecuteTime": {
     "end_time": "2023-09-01T13:16:18.587460Z",
     "start_time": "2023-09-01T13:16:18.580893Z"
    }
   },
   "outputs": [
    {
     "data": {
      "text/plain": [
       "([0.0,\n",
       "  0.1111111111111111,\n",
       "  0.2222222222222222,\n",
       "  0.3333333333333333,\n",
       "  0.4444444444444444,\n",
       "  0.5555555555555556,\n",
       "  0.6666666666666666,\n",
       "  0.7777777777777778,\n",
       "  0.8888888888888888,\n",
       "  1.0],\n",
       " array([1.        , 1.11751907, 1.24884887, 1.39561243, 1.5596235 ,\n",
       "        1.742909  , 1.94773404, 2.17662993, 2.43242545, 2.71828183]),\n",
       " array([], dtype=float64))"
      ]
     },
     "execution_count": 46,
     "metadata": {},
     "output_type": "execute_result"
    }
   ],
   "source": [
    "xx = [i/9 for i in range(10)]\n",
    "exx=np.exp(xx)  \n",
    "emxx=np.exp(-1*xx)\n",
    "xx,exx,emxx"
   ]
  },
  {
   "cell_type": "markdown",
   "id": "5d0165c3",
   "metadata": {},
   "source": [
    "**Explanation:** Multiplying -1(0 or lower) to a built in python array returns an empty array. "
   ]
  },
  {
   "cell_type": "code",
   "execution_count": 45,
   "id": "d7a47929",
   "metadata": {
    "ExecuteTime": {
     "end_time": "2023-09-01T13:13:21.081630Z",
     "start_time": "2023-09-01T13:13:21.065985Z"
    }
   },
   "outputs": [
    {
     "ename": "TypeError",
     "evalue": "bad operand type for unary -: 'list'",
     "output_type": "error",
     "traceback": [
      "\u001b[0;31m---------------------------------------------------------------------------\u001b[0m",
      "\u001b[0;31mTypeError\u001b[0m                                 Traceback (most recent call last)",
      "Cell \u001b[0;32mIn[45], line 3\u001b[0m\n\u001b[1;32m      1\u001b[0m xx \u001b[38;5;241m=\u001b[39m [i\u001b[38;5;241m/\u001b[39m\u001b[38;5;241m9\u001b[39m \u001b[38;5;28;01mfor\u001b[39;00m i \u001b[38;5;129;01min\u001b[39;00m \u001b[38;5;28mrange\u001b[39m(\u001b[38;5;241m10\u001b[39m)]\n\u001b[1;32m      2\u001b[0m exx\u001b[38;5;241m=\u001b[39mnp\u001b[38;5;241m.\u001b[39mexp(xx)  \n\u001b[0;32m----> 3\u001b[0m emxx\u001b[38;5;241m=\u001b[39mnp\u001b[38;5;241m.\u001b[39mexp(\u001b[38;5;241;43m-\u001b[39;49m\u001b[43mxx\u001b[49m)\n\u001b[1;32m      4\u001b[0m xx,exx,emxx\n",
      "\u001b[0;31mTypeError\u001b[0m: bad operand type for unary -: 'list'"
     ]
    }
   ],
   "source": [
    "xx = [i/9 for i in range(10)]\n",
    "exx=np.exp(xx)  \n",
    "emxx=np.exp(-xx)\n",
    "xx,exx,emxx"
   ]
  },
  {
   "cell_type": "markdown",
   "id": "93f9eef1",
   "metadata": {},
   "source": [
    "**Explanation** : the `operator +` in native python does not support addition of a list.\n",
    "\n",
    "2. How would you generally evaluate a function on all elements of a native Python list? (as opposed to a NumPy array)"
   ]
  },
  {
   "cell_type": "code",
   "execution_count": 47,
   "id": "b6c1cae1",
   "metadata": {
    "ExecuteTime": {
     "end_time": "2023-09-01T13:16:33.274322Z",
     "start_time": "2023-09-01T13:16:33.268544Z"
    }
   },
   "outputs": [
    {
     "data": {
      "text/plain": [
       "([0.0,\n",
       "  0.1111111111111111,\n",
       "  0.2222222222222222,\n",
       "  0.3333333333333333,\n",
       "  0.4444444444444444,\n",
       "  0.5555555555555556,\n",
       "  0.6666666666666666,\n",
       "  0.7777777777777778,\n",
       "  0.8888888888888888,\n",
       "  1.0],\n",
       " [1.0,\n",
       "  1.1175190687418637,\n",
       "  1.2488488690016821,\n",
       "  1.3956124250860895,\n",
       "  1.5596234976067807,\n",
       "  1.7429089986334578,\n",
       "  1.9477340410546757,\n",
       "  2.1766299317162483,\n",
       "  2.4324254542872077,\n",
       "  2.718281828459045],\n",
       " [1.0,\n",
       "  0.8948393168143698,\n",
       "  0.8007374029168081,\n",
       "  0.7165313105737893,\n",
       "  0.6411803884299546,\n",
       "  0.5737534207374327,\n",
       "  0.513417119032592,\n",
       "  0.45942582403592663,\n",
       "  0.41111229050718745,\n",
       "  0.36787944117144233])"
      ]
     },
     "execution_count": 47,
     "metadata": {},
     "output_type": "execute_result"
    }
   ],
   "source": [
    "# native implementation\n",
    "import math # math library is available in vanilla python\n",
    "\n",
    "xx = [i/9 for i in range(10)]\n",
    "exx=[math.exp(i) for i in xx]  \n",
    "emxx=[math.exp(-i) for i in xx]\n",
    "xx,exx,emxx"
   ]
  },
  {
   "cell_type": "markdown",
   "id": "6913b0a5",
   "metadata": {},
   "source": [
    "## Part 2.\n",
    "\n",
    "As already hinted at, the NumPy library comes with a plethora of useful features and functions. The code snippets below show some examples: "
   ]
  },
  {
   "cell_type": "code",
   "execution_count": 60,
   "id": "a3a87c99",
   "metadata": {},
   "outputs": [
    {
     "data": {
      "text/plain": [
       "[0, 0, 0, 0, 0, 0, 0, 0, 0, 0, 0, 0, 0, 0, 0, 0, 0, 0, 0, 0]"
      ]
     },
     "execution_count": 60,
     "metadata": {},
     "output_type": "execute_result"
    }
   ],
   "source": [
    "# Produce an array of size 20 with each element as 0\n",
    "\n",
    "# numpy\n",
    "np.zeros(20)\n",
    "\n",
    "#native\n",
    "[0]*20"
   ]
  },
  {
   "cell_type": "code",
   "execution_count": 61,
   "id": "4d177263",
   "metadata": {},
   "outputs": [
    {
     "data": {
      "text/plain": [
       "[1, 1, 1, 1, 1, 1, 1, 1, 1, 1, 1, 1, 1, 1, 1, 1, 1, 1, 1, 1]"
      ]
     },
     "execution_count": 61,
     "metadata": {},
     "output_type": "execute_result"
    }
   ],
   "source": [
    "# Produce an array of size 20 with each element as 1\n",
    "\n",
    "#numpy\n",
    "np.ones(20)\n",
    "\n",
    "#native\n",
    "[1]*20"
   ]
  },
  {
   "cell_type": "code",
   "execution_count": 63,
   "id": "15e0db17",
   "metadata": {},
   "outputs": [
    {
     "data": {
      "text/plain": [
       "[0, 1, 2, 3, 4, 5, 6, 7, 8, 9, 10]"
      ]
     },
     "execution_count": 63,
     "metadata": {},
     "output_type": "execute_result"
    }
   ],
   "source": [
    "# Produce a evenly spaced list of size 11, both the limits 0 and 10 are to be included \n",
    "\n",
    "#numpy\n",
    "np.linspace(0, 10, 11)\n",
    "\n",
    "#native\n",
    "list(range(0,11))"
   ]
  },
  {
   "cell_type": "code",
   "execution_count": 68,
   "id": "c378f65f",
   "metadata": {},
   "outputs": [
    {
     "data": {
      "text/plain": [
       "array([ 0.00000000e+00,  0.00000000e+00,  0.00000000e+00,  0.00000000e+00,\n",
       "        0.00000000e+00, -8.88178420e-16,  0.00000000e+00,  0.00000000e+00,\n",
       "        0.00000000e+00,  0.00000000e+00, -1.77635684e-15])"
      ]
     },
     "execution_count": 68,
     "metadata": {},
     "output_type": "execute_result"
    }
   ],
   "source": [
    "# from the numpy.linspace sourcecode\n",
    "# div = (num - 1) if endpoint else num\n",
    "# if endpoint is set to False, stop is excluded and \n",
    "# step is calculated by dividing by num instead of n-1\n",
    "\n",
    "#numpy\n",
    "np.linspace(0, 10, 11, endpoint=False,  retstep=True)\n",
    "\n",
    "#native\n",
    "[i*10/11 for i in range(11)]\n",
    "np.linspace(0, 10, 11, endpoint=False,  retstep=False)-[i*10/11 for i in range(11)]"
   ]
  },
  {
   "cell_type": "code",
   "execution_count": 69,
   "id": "e83072cc",
   "metadata": {},
   "outputs": [
    {
     "data": {
      "text/plain": [
       "[2, 4, 6, 8, 10]"
      ]
     },
     "execution_count": 69,
     "metadata": {},
     "output_type": "execute_result"
    }
   ],
   "source": [
    "# Produce a integer list [0,1,2,3,4], \n",
    "# add one to each element and multiply each element with 2\n",
    "\n",
    "#numpy\n",
    "vector = np.arange(5) + 1\n",
    "2*vector\n",
    "\n",
    "#native\n",
    "[(i+1)*2 for i in range(5)]"
   ]
  },
  {
   "cell_type": "markdown",
   "id": "8db003da",
   "metadata": {},
   "source": [
    "## Part 3. "
   ]
  },
  {
   "cell_type": "code",
   "execution_count": 70,
   "id": "7395c860",
   "metadata": {},
   "outputs": [
    {
     "name": "stdout",
     "output_type": "stream",
     "text": [
      "There are 7 non-zero numbers in the array.\n"
     ]
    }
   ],
   "source": [
    "array_of_numbers = np.array([4, 8, 15, 16, 23, 42,0,5])\n",
    "nnz = np.count_nonzero(array_of_numbers)\n",
    "print(f'There are {nnz} non-zero numbers in the array.')\n",
    "is_even = (array_of_numbers % 2 == 0)\n",
    "is_greater_than_17 = (array_of_numbers > 17)\n",
    "is_even_and_greater_than_17 = is_even & is_greater_than_17"
   ]
  },
  {
   "cell_type": "code",
   "execution_count": 86,
   "id": "3dc58635",
   "metadata": {},
   "outputs": [
    {
     "name": "stdout",
     "output_type": "stream",
     "text": [
      "[False False False False False  True False False]\n",
      "[False False False False False  True False False]\n"
     ]
    }
   ],
   "source": [
    "# the logical operator 'and' can only perform logical and operation between 2 elements \n",
    "# thus the first line returns an exception\n",
    "# for lists '&' can be used to perform bitwise operations\n",
    "# the second line tries to perform 'and' between '0' abd array_of numbers and fail\n",
    "# second line can be fixed by adding braces around each comparision \n",
    "\n",
    "is_even_and_greater_than_17 = is_even and is_greater_than_17\n",
    "print((array_of_numbers % 2 == 0) & (array_of_numbers > 17))\n",
    "print(np.logical_and((array_of_numbers % 2 == 0),(array_of_numbers > 17)))"
   ]
  },
  {
   "cell_type": "markdown",
   "id": "49ac7783",
   "metadata": {},
   "source": [
    "## Part 4. "
   ]
  },
  {
   "cell_type": "code",
   "execution_count": 91,
   "id": "70319bbe",
   "metadata": {},
   "outputs": [
    {
     "data": {
      "text/plain": [
       "array([ 4,  8, 15, 16, 23, 42,  0,  5])"
      ]
     },
     "execution_count": 91,
     "metadata": {},
     "output_type": "execute_result"
    }
   ],
   "source": [
    "array_of_numbers"
   ]
  },
  {
   "cell_type": "code",
   "execution_count": 99,
   "id": "35a29002",
   "metadata": {},
   "outputs": [
    {
     "data": {
      "text/plain": [
       "array([4, 5])"
      ]
     },
     "execution_count": 99,
     "metadata": {},
     "output_type": "execute_result"
    }
   ],
   "source": [
    "#return the index of the array where the condition is satisfied\n",
    "np.where(array_of_numbers > 17)[0]"
   ]
  },
  {
   "cell_type": "code",
   "execution_count": 100,
   "id": "2982b36b",
   "metadata": {},
   "outputs": [
    {
     "data": {
      "text/plain": [
       "array([0, 0, 0, 0, 1, 1, 0, 0])"
      ]
     },
     "execution_count": 100,
     "metadata": {},
     "output_type": "execute_result"
    }
   ],
   "source": [
    "# return an array with 1 where condition is true and 0 where condition is false\n",
    "np.where(array_of_numbers > 17, 1, 0)"
   ]
  },
  {
   "cell_type": "markdown",
   "id": "95472365",
   "metadata": {},
   "source": [
    "# Exercise 3, Part I: Finite Differences (FD) with Functions\n",
    "\n",
    "In scientific computing one often needs to calculate derivatives of functions. For problems encountered in practice, exact formulas may not be available, in which case numerical estimates are needed. However, to evaluate the correctness of our programmed numerical methods, it is still a very good idea to test the code on simple functions where the derivative is known.\n",
    "\n",
    "In this exercise, we consider a function that is relevant for describing wave phenomenona:\n",
    "\\begin{equation}\n",
    "f(x) = \\sin (b  x) \\cdot e ^ {-ax^2}\n",
    "\\label{eq:waveleteq} \n",
    "\\end{equation}"
   ]
  },
  {
   "cell_type": "markdown",
   "id": "88a99397",
   "metadata": {},
   "source": [
    "## Part 1.\n",
    "\n",
    "It is always a good idea to start by visualizing the function in a plot.\n",
    "\n",
    "1. Make a Python function that plots $f(x)$ from equation $\\eqref{eq:waveleteq}$ over an arbitrary closed interval.\n",
    "1. Use the function to plot $f(x)$ in the range [−10,10]. Try to make your figure similar to the one shown in figure 1\n"
   ]
  },
  {
   "cell_type": "code",
   "execution_count": 138,
   "id": "593a8a99",
   "metadata": {},
   "outputs": [],
   "source": [
    "def wavelet(x, a=0.1, b=10):\n",
    "    '''\n",
    "    the wave packet function with default paramaters a,b\n",
    "    '''\n",
    "    \n",
    "    return(np.sin(b*x)*np.exp(-a*x**2))"
   ]
  },
  {
   "cell_type": "code",
   "execution_count": 115,
   "id": "6ea11330",
   "metadata": {},
   "outputs": [
    {
     "data": {
      "text/plain": [
       "Text(0.5, 1.0, 'Fig 1. A plot of x vs $f(x)$')"
      ]
     },
     "execution_count": 115,
     "metadata": {},
     "output_type": "execute_result"
    },
    {
     "data": {
      "image/png": "[encoded data removed]",
      "text/plain": [
       "<Figure size 640x480 with 1 Axes>"
      ]
     },
     "metadata": {},
     "output_type": "display_data"
    }
   ],
   "source": [
    "fig, ax = plt.subplots()\n",
    "xll,xhl = -10,10\n",
    "x = np.linspace(xll,xhl,301)\n",
    "ax.plot(x, wavelet(x), label='Gaussian wave packet')\n",
    "ax.set_xlabel('x')\n",
    "ax.set_ylabel('$f(x)$')\n",
    "plt.legend()\n",
    "plt.title('Fig 1. A plot of x vs $f(x)$')\n"
   ]
  },
  {
   "cell_type": "markdown",
   "id": "1d3199f9",
   "metadata": {},
   "source": [
    "## Part 2.\n",
    "\n",
    "The analytical derivative of $f(x)$ is\n",
    "\n",
    "\\begin{equation}\n",
    "f'(x) = b \\cos {bx} \\cdot e ^ {-ax^2} -2ax  \\sin (b  x) \\cdot e ^ {-ax^2}\n",
    "\\label{eq:wldereq} \n",
    "\\end{equation}\n",
    "\n",
    "1. Write a Python function that calculates the derivative defined in equation $\\eqref{eq:wldereq}$ (not the numerical derivative)\n"
   ]
  },
  {
   "cell_type": "code",
   "execution_count": 139,
   "id": "d6d69a87",
   "metadata": {},
   "outputs": [],
   "source": [
    "def wldereq(x, a=0.1, b=10):\n",
    "    '''\n",
    "    this function provides the analytic solution to the derivative of the wave packet function\n",
    "    a,b:  default parameters\n",
    "    '''\n",
    "    t1 = np.exp(-a*x*x)\n",
    "    t2 = b*np.cos(b*x)\n",
    "    t3 = -2*a*x*np.sin(b*x)\n",
    "    return (t2*t1 + t3*t1)"
   ]
  },
  {
   "cell_type": "markdown",
   "id": "10efceaa",
   "metadata": {},
   "source": [
    "## Part 3.\n",
    "\n",
    "Next, you are going to write a Python function that calculates the numerical derivative of an arbitrary single-variable function $f$ at a point $x$ using finite differences.\n",
    "\n",
    "1. Write a Python function that calculates the derivative of an arbitrary function using the forward difference method (see section 3.3 in [4] ).\n",
    "1. Apply your function to the particular case of equation (1) and x=1\n",
    "\n",
    ". Use a suitable value of h, e.g. h=1e−2, and check that your estimate agrees reasonably well with the analytical solution."
   ]
  },
  {
   "cell_type": "code",
   "execution_count": 125,
   "id": "33459c5c",
   "metadata": {},
   "outputs": [],
   "source": [
    "def forwardderiv(x, f, dx, *fparams):\n",
    "    ''' \n",
    "    this func calculates derivative of an arbirary function f. \n",
    "    f takes some arbitary arguments *params\n",
    "    '''\n",
    "\n",
    "    derivative = (f(x+dx, *fparams)-f(x, *fparams))/dx\n",
    "    return (derivative)"
   ]
  },
  {
   "cell_type": "code",
   "execution_count": 142,
   "id": "6889978b",
   "metadata": {},
   "outputs": [
    {
     "name": "stdout",
     "output_type": "stream",
     "text": [
      "Numerical derivative: -3.937746 (dx= 0.1)\n",
      "Numerical derivative: -7.220097 (dx= 0.01)\n",
      "Numerical derivative: -7.467491 (dx= 0.001)\n",
      "Numerical derivative: -7.491165 (dx= 0.0001)\n",
      "Numerical derivative: -7.493521 (dx= 1e-05)\n",
      "Numerical derivative: -7.493757 (dx= 1e-06)\n",
      "Numerical derivative: -7.493780 (dx= 1e-07)\n",
      "Numerical derivative: -7.493783 (dx= 1e-08)\n",
      "Numerical derivative: -7.493784 (dx= 1e-09)\n",
      "Numerical derivative: -7.493783 (dx= 1e-10)\n",
      "Numerical derivative: -7.493789 (dx= 1e-11)\n",
      "Numerical derivative: -7.494505 (dx= 1e-12)\n",
      "Numerical derivative: -7.481793 (dx= 1e-13)\n",
      "Numerical derivative: -7.455148 (dx= 1e-14)\n",
      "Numerical derivative: -8.104628 (dx= 1e-15)\n",
      "Numerical derivative: 0.000000 (dx= 1e-16)\n",
      "Numerical derivative: 0.000000 (dx= 1e-17)\n",
      "Numerical derivative: 0.000000 (dx= 1e-18)\n",
      "Numerical derivative: 0.000000 (dx= 1e-19)\n",
      "Analytic derivative : -7.493783\n"
     ]
    }
   ],
   "source": [
    "'''\n",
    "Compare the analytical derivtive of the wave packet function with the numerical one\n",
    "Various dx values are chosen to show how the value converges with change in dx \n",
    "'''\n",
    "x = 1\n",
    "dx = 1e-2\n",
    "# find numerical derivative of f(x) at x = 1\n",
    "for ex in range(1,20):\n",
    "    dx = 10**(-ex)\n",
    "    print(f'Numerical derivative: {forwardderiv(x, wavelet, dx ):.6f} (dx= {dx})')\n",
    "\n",
    "# find analytic derivative of f(x) at x = 1 (from the derivative function)\n",
    "print(f'Analytic derivative : {wldereq(x):.6f}')"
   ]
  },
  {
   "cell_type": "code",
   "execution_count": 157,
   "id": "c3e0e5bb",
   "metadata": {},
   "outputs": [
    {
     "data": {
      "text/plain": [
       "Text(0, 0.5, \"Derivative, $f'(x)$ at $x=1$ \")"
      ]
     },
     "execution_count": 157,
     "metadata": {},
     "output_type": "execute_result"
    },
    {
     "data": {
      "image/png": "[encoded data removed]",
      "text/plain": [
       "<Figure size 640x480 with 1 Axes>"
      ]
     },
     "metadata": {},
     "output_type": "display_data"
    }
   ],
   "source": [
    "x= 1\n",
    "ana = wldereq(x)\n",
    "dxs = [10**-ex for ex in range(1,21)]\n",
    "numericalder = [forwardderiv(x, wavelet, dx ) for dx in dxs]\n",
    "\n",
    "fig, ax = plt.subplots()\n",
    "ax.plot(np.log10(dxs), numericalder, label= 'Numerical forward derivative', marker ='o')\n",
    "ax.axhline(ana, label ='Analytical solution', color='k', linestyle ='--')\n",
    "ax.set_xticks(range(-1,-20,-2))\n",
    "ax.legend()\n",
    "ax.set_title('Numerical vs Analytical forward derivative')\n",
    "ax.set_xlabel('$log_{10}(dx)$')\n",
    "ax.set_ylabel(\"Derivative, $f'(x)$ at $x=1$ \")\n"
   ]
  },
  {
   "cell_type": "markdown",
   "id": "7c2cf043",
   "metadata": {},
   "source": [
    "**Discussion:**\n",
    "1. with dx set to 1e-3 or lower (>1e-14) the approximation of the derivative of $f(x)_{x=1}$ reaches a stable value close to the analytic derivative value\n",
    "1. with dx set to 1e-15 the result is not accurate\n",
    "1. it makes sense that as the value of $dx$ is lowered one gets closer and closer to the analytic solution. But it is not clear why 1e-15 produces incorrect result\n",
    "1.  it is interesting to note that with $dx$ less than the machine precision,$\\epsilon$ (<1e-16) the results calculated is 0. this is because $f(x+dx) = f(x)$ for $dx < \\epsilon$ "
   ]
  },
  {
   "cell_type": "markdown",
   "id": "d4aae06b",
   "metadata": {},
   "source": [
    "##  Part 4.\n",
    "\n",
    "* Write another Python function that calculates $f′(x)$ with the central difference method (see section 3.4 in [4])."
   ]
  },
  {
   "cell_type": "code",
   "execution_count": 161,
   "id": "9f79601d",
   "metadata": {},
   "outputs": [],
   "source": [
    "def centralder(x, f, dx, *fparams):\n",
    "    ''' \n",
    "    this func calculates central derivative of an arbirary function f. \n",
    "    f takes some arbitary arguments *params\n",
    "    '''\n",
    "    fm = f(x-dx, *fparams)\n",
    "    fp = f(x+dx, *fparams)\n",
    "    der = (fp-fm)/2/dx\n",
    "    return(der)"
   ]
  },
  {
   "cell_type": "markdown",
   "id": "ebc6269a",
   "metadata": {},
   "source": [
    "## Part 5.\n",
    "\n",
    "Next, we wish to quantify the error in our numerical derivative approximations for the point x=1.\n",
    "\n",
    "- For each of the two derivative approximations to $f′(1)$ (forward difference and central difference), make a scatter plot that shows the absolute error of the approximation on the y-axis versus the step size, $h$, on the x-axis. Include both error curves in the same figure. The step sizes should be varied logarithmically between $h=10^{-16}$ and $h=10^0=1$.\n",
    "- Comment on what you observe in the figure you made. When is the numerical error smallest, and why? Is it what you expect from a theoretical analysis using Taylor's formula?"
   ]
  },
  {
   "cell_type": "code",
   "execution_count": 240,
   "id": "671d6345",
   "metadata": {},
   "outputs": [
    {
     "data": {
      "text/plain": [
       "<matplotlib.legend.Legend at 0x7f89e1917690>"
      ]
     },
     "execution_count": 240,
     "metadata": {},
     "output_type": "execute_result"
    },
    {
     "data": {
      "image/png": "[encoded data removed]",
      "text/plain": [
       "<Figure size 640x480 with 1 Axes>"
      ]
     },
     "metadata": {},
     "output_type": "display_data"
    }
   ],
   "source": [
    "x= 1\n",
    "ana = wldereq(x)\n",
    "dxs = [10**-ex for ex in range(0,21)]\n",
    "nforder = [forwardderiv(x, wavelet, dx ) for dx in dxs]\n",
    "ncender = [centralder(x, wavelet, dx ) for dx in dxs]\n",
    "errfwd = np.abs(nforder-ana)\n",
    "errcnt = np.abs(ncender-ana)\n",
    "\n",
    "fig, ax = plt.subplots()\n",
    "ax.plot(np.log10(dxs), np.log10(errfwd), label= 'Numerical forward derivative', marker ='o')\n",
    "ax.plot(np.log10(dxs), np.log10(errcnt), label= 'Numerical central derivative', marker ='*')\n",
    "#ax.axhline(ana, label ='Analytical solution', color='k', linestyle ='--')\n",
    "ax.set_xticks(range(0,-21,-2))\n",
    "\n",
    "ax.set_title('Abs Error in Numerical(forward and central) vs Analytical derivative')\n",
    "ax.set_xlabel('$log_{10}(dx)$')\n",
    "ax.set_ylabel(\"log of error, in $f'(x)$ at $x=1$ \")\n",
    "\n",
    "dxln = np.log10(dxs)\n",
    "alpha=0.3\n",
    "ax.fill_between(dxln,-15,2,where=dxln<-16 , alpha=alpha, label = 'dominated by machine prescision')\n",
    "ax.fill_between(dxln,-15,2,where=(dxln>-17)&(dxln<-8), alpha=alpha, label = 'dominated by roundoff err' )\n",
    "ax.fill_between(dxln,-15,2,where=(dxln>-7)&(dxln<1) , alpha=alpha, label = 'dominated by trunation err')\n",
    "ax.annotate('minimum error',(-9.5,-10.5))\n",
    "ax.legend(title= 'Errors', fontsize='small')"
   ]
  },
  {
   "cell_type": "markdown",
   "id": "4e573e3f",
   "metadata": {},
   "source": [
    "**Discussions:**\n",
    "1. tylors equation blah blah."
   ]
  },
  {
   "cell_type": "markdown",
   "id": "44aba7fc",
   "metadata": {},
   "source": [
    "# Exercise 3, Part II: FD with Classes\n",
    "\n",
    "## Part 1.\n",
    "\n",
    "* Add a function (instance method) to the class that returns the forward difference approximation to the derivative of the function f at a point x. Include both x and the step-size h as input arguments to the function.\n",
    "* Add another second function which calculates the central difference approximation.\n",
    "\n",
    "## Part 2.\n",
    "\n",
    "* Make a third class function that, for any input x, creates scatter plots showing the absolute error of the two finite difference approximations of f′(x) versus step size. As before, choose step sizes in the range from $10^{−16}$ to $1$ (with logarithmic spacing).\n",
    "\n",
    "Hint: You should re-use the first two functions when making the third one."
   ]
  },
  {
   "cell_type": "code",
   "execution_count": 255,
   "id": "30e8de5a",
   "metadata": {
    "ExecuteTime": {
     "end_time": "2023-09-01T15:52:59.627334Z",
     "start_time": "2023-09-01T15:52:59.618001Z"
    }
   },
   "outputs": [],
   "source": [
    "class WavePacket:\n",
    "    \"\"\"\n",
    "    A class representation of a wave packet-function.\n",
    "    \"\"\"\n",
    "\n",
    "    def __init__(self, a, b):\n",
    "        self.a = a\n",
    "        self.b = b\n",
    "\n",
    "    def f(self, x):\n",
    "        return np.sin(self.b*x)*np.exp(-self.a*x*x)\n",
    "\n",
    "    def dfbydx(self, x):\n",
    "        '''\n",
    "        this function provides the analytic solution to the derivative of the wave packet function\n",
    "        x: position at which derivative is to be calculated\n",
    "        '''\n",
    "        t1 = np.exp(-self.a*x*x)\n",
    "        t2 = self.b*np.cos(self.b*x)\n",
    "        t3 = -2*self.a*x*np.sin(self.b*x)\n",
    "        return (t2*t1 + t3*t1)\n",
    "\n",
    "    def fwd_diff(self, x, h):\n",
    "        '''\n",
    "        forwards difference of x with step of h\n",
    "        '''\n",
    "        res = (self.f(x+h)-self.f(x))/h\n",
    "        return res\n",
    "\n",
    "    def cent_diff(self, x, h):\n",
    "        '''\n",
    "        central difference of x with step of h\n",
    "        '''\n",
    "        res = (self.f(x+h)-self.f(x-h))/h/2\n",
    "        return res\n",
    "\n",
    "    def plot_err(self, x, h_min=-16, h_max=0):\n",
    "        '''\n",
    "        plot errors vs stepsize\n",
    "        x the value at which the error is to be evaluated\n",
    "        h_min/max: limits of the step size, to be split in log scale\n",
    "        '''\n",
    "        num = int(np.abs(h_min-h_max)+1)\n",
    "        h = np.logspace(h_max, h_min, num=num)\n",
    "        anader = self.dfbydx(x)\n",
    "        fderr = np.abs(self.fwd_diff(x, h) - anader)\n",
    "        cderr = np.abs(self.cent_diff(x, h) - anader)\n",
    "                \n",
    "        fig, ax = plt.subplots()\n",
    "        ax.scatter(h,fderr,marker='o', label ='forward diff')\n",
    "        ax.scatter(h,cderr,marker='*', label ='central diff')\n",
    "        ax.set_xscale('log')\n",
    "        ax.set_yscale('log')\n",
    "        ax.set_xlabel('step size, h')\n",
    "        ax.set_ylabel('error, h')\n",
    "        ax.set_title('Step size vs Error for function $f(x) = \\sin({bx})e^{-ax^2} $')\n",
    "        plt.legend()\n",
    "        plt.grid()\n",
    "        \n",
    "        \n",
    "\n",
    "    def plot(self, ax, x_min=-10, x_max=10, dx=0.01):\n",
    "        \"\"\"\n",
    "        A simple plotting routine for plotting f(x) in some range.\n",
    "        \"\"\"\n",
    "        x = np.arange(x_min, x_max, dx)\n",
    "        y = self.f(x)\n",
    "        ax.plot(x, y)\n",
    "        ax.grid()\n",
    "        return (ax)\n",
    "\n",
    "    def __call__(self, x):\n",
    "        return self.f(x)"
   ]
  },
  {
   "cell_type": "code",
   "execution_count": 261,
   "id": "fdae5e0c",
   "metadata": {
    "ExecuteTime": {
     "end_time": "2023-09-03T13:27:29.699529Z",
     "start_time": "2023-09-03T13:27:27.285032Z"
    }
   },
   "outputs": [
    {
     "data": {
      "text/plain": [
       "(None, None)"
      ]
     },
     "execution_count": 261,
     "metadata": {},
     "output_type": "execute_result"
    },
    {
     "data": {
      "image/png": "[encoded data removed]",
      "text/plain": [
       "<Figure size 640x480 with 1 Axes>"
      ]
     },
     "metadata": {},
     "output_type": "display_data"
    },
    {
     "data": {
      "image/png": "[encoded data removed]",
      "text/plain": [
       "<Figure size 640x480 with 1 Axes>"
      ]
     },
     "metadata": {},
     "output_type": "display_data"
    }
   ],
   "source": [
    "WP1 = WavePacket(0.1, 2)  # a=0.1, b=2\n",
    "WP2 = WavePacket(0.1, 10)  # a = 0.1, b=10\n",
    "\n",
    "WP1.plot_err(1),WP2.plot_err(1) "
   ]
  },
  {
   "cell_type": "code",
   "execution_count": null,
   "id": "f803a8b2",
   "metadata": {},
   "outputs": [],
   "source": []
  },
  {
   "cell_type": "code",
   "execution_count": null,
   "id": "1d91d86b",
   "metadata": {},
   "outputs": [],
   "source": []
  },
  {
   "cell_type": "code",
   "execution_count": null,
   "id": "70dcc741",
   "metadata": {},
   "outputs": [],
   "source": []
  },
  {
   "cell_type": "code",
   "execution_count": null,
   "id": "77cd382b",
   "metadata": {},
   "outputs": [],
   "source": []
  },
  {
   "cell_type": "code",
   "execution_count": null,
   "id": "98d0e490",
   "metadata": {},
   "outputs": [],
   "source": []
  },
  {
   "cell_type": "code",
   "execution_count": null,
   "id": "3ad1e49a",
   "metadata": {},
   "outputs": [],
   "source": []
  },
  {
   "cell_type": "code",
   "execution_count": null,
   "id": "a79a6ef0",
   "metadata": {},
   "outputs": [],
   "source": []
  },
  {
   "cell_type": "code",
   "execution_count": null,
   "id": "f83b30cf",
   "metadata": {},
   "outputs": [],
   "source": []
  },
  {
   "cell_type": "code",
   "execution_count": null,
   "id": "2c1c2678",
   "metadata": {},
   "outputs": [],
   "source": []
  },
  {
   "cell_type": "code",
   "execution_count": null,
   "id": "1d331f6d",
   "metadata": {},
   "outputs": [],
   "source": []
  },
  {
   "cell_type": "code",
   "execution_count": null,
   "id": "2c0a58da",
   "metadata": {},
   "outputs": [],
   "source": []
  },
  {
   "cell_type": "code",
   "execution_count": null,
   "id": "3f2643bd",
   "metadata": {},
   "outputs": [],
   "source": []
  },
  {
   "cell_type": "code",
   "execution_count": null,
   "id": "009940a7",
   "metadata": {},
   "outputs": [],
   "source": []
  },
  {
   "cell_type": "code",
   "execution_count": null,
   "id": "cdbb8ad8",
   "metadata": {},
   "outputs": [],
   "source": []
  },
  {
   "cell_type": "code",
   "execution_count": null,
   "id": "9144bebb",
   "metadata": {},
   "outputs": [],
   "source": []
  },
  {
   "cell_type": "code",
   "execution_count": null,
   "id": "980d6264",
   "metadata": {},
   "outputs": [],
   "source": []
  },
  {
   "cell_type": "code",
   "execution_count": null,
   "id": "6311dc53",
   "metadata": {},
   "outputs": [],
   "source": []
  },
  {
   "cell_type": "code",
   "execution_count": null,
   "id": "00f2390d",
   "metadata": {},
   "outputs": [],
   "source": []
  },
  {
   "cell_type": "code",
   "execution_count": null,
   "id": "4aa593dd",
   "metadata": {},
   "outputs": [],
   "source": []
  },
  {
   "cell_type": "code",
   "execution_count": null,
   "id": "40d57009",
   "metadata": {},
   "outputs": [],
   "source": []
  },
  {
   "cell_type": "code",
   "execution_count": null,
   "id": "31bcd9c8",
   "metadata": {},
   "outputs": [],
   "source": []
  },
  {
   "cell_type": "code",
   "execution_count": null,
   "id": "d048d1fa",
   "metadata": {},
   "outputs": [],
   "source": []
  },
  {
   "cell_type": "code",
   "execution_count": null,
   "id": "7846c21c",
   "metadata": {},
   "outputs": [],
   "source": []
  },
  {
   "cell_type": "code",
   "execution_count": null,
   "id": "fb5e2b1f",
   "metadata": {},
   "outputs": [],
   "source": []
  },
  {
   "cell_type": "code",
   "execution_count": null,
   "id": "45ac590f",
   "metadata": {},
   "outputs": [],
   "source": []
  },
  {
   "cell_type": "code",
   "execution_count": null,
   "id": "aea36681",
   "metadata": {},
   "outputs": [],
   "source": []
  },
  {
   "cell_type": "code",
   "execution_count": null,
   "id": "ead671b3",
   "metadata": {},
   "outputs": [],
   "source": []
  },
  {
   "cell_type": "code",
   "execution_count": null,
   "id": "9e71be3d",
   "metadata": {},
   "outputs": [],
   "source": []
  },
  {
   "cell_type": "code",
   "execution_count": null,
   "id": "0b6b18f7",
   "metadata": {},
   "outputs": [],
   "source": []
  },
  {
   "cell_type": "code",
   "execution_count": null,
   "id": "82a28dd7",
   "metadata": {},
   "outputs": [],
   "source": []
  },
  {
   "cell_type": "code",
   "execution_count": null,
   "id": "115b78a6",
   "metadata": {},
   "outputs": [],
   "source": []
  },
  {
   "cell_type": "code",
   "execution_count": null,
   "id": "1f4bcf11",
   "metadata": {},
   "outputs": [],
   "source": []
  },
  {
   "cell_type": "code",
   "execution_count": null,
   "id": "cc4a8b22",
   "metadata": {},
   "outputs": [],
   "source": []
  },
  {
   "cell_type": "code",
   "execution_count": 255,
   "id": "fdfb53b6",
   "metadata": {},
   "outputs": [
    {
     "name": "stdout",
     "output_type": "stream",
     "text": [
      "[ 0.82276634 -0.50729988]\n",
      "[-0.49225066  0.6119655 ]\n"
     ]
    }
   ],
   "source": [
    "WP1 = WavePacket(0.1, 2)  # a=0.1, b=2\n",
    "WP2 = WavePacket(0.1, 10)  # a = 0.1, b=10\n",
    "\n",
    "\n",
    "# Evaluate the two functions at a specific point\n",
    "x = np.array([1, 2])\n",
    "print(WP1(x))  # If WP1 had been a function, the syntax would be the same here!\n",
    "# Again, we no longer have to type \"WP2.f(x)\", we can do \"WP2(x)\".\n",
    "print(WP2(x))"
   ]
  },
  {
   "cell_type": "code",
   "execution_count": 284,
   "id": "2e071901",
   "metadata": {},
   "outputs": [
    {
     "name": "stdout",
     "output_type": "stream",
     "text": [
      "[1.e-16 1.e-15 1.e-14 1.e-13 1.e-12 1.e-11 1.e-10 1.e-09 1.e-08 1.e-07\n",
      " 1.e-06 1.e-05 1.e-04 1.e-03 1.e-02 1.e-01 1.e+00]\n"
     ]
    }
   ],
   "source": [
    "h_min=-16 \n",
    "h_max=0\n",
    "num = int(np.abs((h_min-h_max))+1)\n",
    "h = np.logspace(h_min, h_max, num=num)\n",
    "print(h)"
   ]
  },
  {
   "cell_type": "code",
   "execution_count": null,
   "id": "21341f9a",
   "metadata": {},
   "outputs": [],
   "source": [
    "np.logspace()"
   ]
  },
  {
   "cell_type": "code",
   "execution_count": 281,
   "id": "903f3ae7",
   "metadata": {},
   "outputs": [
    {
     "data": {
      "text/plain": [
       "1e-16"
      ]
     },
     "execution_count": 281,
     "metadata": {},
     "output_type": "execute_result"
    }
   ],
   "source": [
    "h_min"
   ]
  },
  {
   "cell_type": "code",
   "execution_count": 258,
   "id": "df5c2f04",
   "metadata": {},
   "outputs": [
    {
     "data": {
      "text/plain": [
       "<Axes: >"
      ]
     },
     "execution_count": 258,
     "metadata": {},
     "output_type": "execute_result"
    },
    {
     "data": {
      "image/png": "[encoded data removed]",
      "text/plain": [
       "<Figure size 640x480 with 1 Axes>"
      ]
     },
     "metadata": {},
     "output_type": "display_data"
    }
   ],
   "source": [
    "fig, ax = plt.subplots()\n",
    "WP1.plot(ax)\n",
    "WP2.plot(ax)"
   ]
  },
  {
   "cell_type": "code",
   "execution_count": 262,
   "id": "42eacba3",
   "metadata": {},
   "outputs": [
    {
     "data": {
      "text/plain": [
       "0.001"
      ]
     },
     "execution_count": 262,
     "metadata": {},
     "output_type": "execute_result"
    }
   ],
   "source": [
    "1e-3"
   ]
  },
  {
   "cell_type": "code",
   "execution_count": null,
   "id": "444ceecf",
   "metadata": {},
   "outputs": [],
   "source": []
  },
  {
   "cell_type": "code",
   "execution_count": null,
   "id": "0d284ad5",
   "metadata": {},
   "outputs": [],
   "source": []
  },
  {
   "cell_type": "code",
   "execution_count": null,
   "id": "437e23e7",
   "metadata": {},
   "outputs": [],
   "source": []
  },
  {
   "cell_type": "code",
   "execution_count": null,
   "id": "7632a6f7",
   "metadata": {},
   "outputs": [],
   "source": []
  },
  {
   "cell_type": "code",
   "execution_count": null,
   "id": "08c38b91",
   "metadata": {},
   "outputs": [],
   "source": []
  },
  {
   "cell_type": "code",
   "execution_count": null,
   "id": "e002aa3e",
   "metadata": {},
   "outputs": [],
   "source": []
  },
  {
   "cell_type": "code",
   "execution_count": null,
   "id": "bc4b9bb5",
   "metadata": {},
   "outputs": [],
   "source": []
  },
  {
   "cell_type": "code",
   "execution_count": null,
   "id": "9fff3f17",
   "metadata": {},
   "outputs": [],
   "source": []
  },
  {
   "cell_type": "code",
   "execution_count": null,
   "id": "93d15214",
   "metadata": {},
   "outputs": [],
   "source": []
  },
  {
   "cell_type": "code",
   "execution_count": null,
   "id": "538cf690",
   "metadata": {},
   "outputs": [],
   "source": []
  },
  {
   "cell_type": "code",
   "execution_count": 214,
   "id": "638f2556",
   "metadata": {},
   "outputs": [
    {
     "data": {
      "text/plain": [
       "array([0., 0., 0., 0., 0., 0., 0., 0., 0., 0., 0., 0., 0., 0., 0., 0., 0.,\n",
       "       0., 0., 0., 0.])"
      ]
     },
     "execution_count": 214,
     "metadata": {},
     "output_type": "execute_result"
    }
   ],
   "source": [
    "dxs = np.array([10**-ex for ex in range(0,21)])\n",
    "nforder1 = forwardderiv(x, wavelet, dxs )\n",
    "nforder2 = [forwardderiv(x, wavelet, dx ) for dx in dxs]\n",
    "nforder1-nforder2"
   ]
  },
  {
   "cell_type": "code",
   "execution_count": null,
   "id": "155fa593",
   "metadata": {},
   "outputs": [],
   "source": []
  },
  {
   "cell_type": "code",
   "execution_count": null,
   "id": "615477f6",
   "metadata": {},
   "outputs": [],
   "source": []
  },
  {
   "cell_type": "code",
   "execution_count": 194,
   "id": "7f48dd51",
   "metadata": {},
   "outputs": [
    {
     "name": "stdout",
     "output_type": "stream",
     "text": [
      "the error is minimum \n",
      "for forward derivative error =3.00018e-07 when dx =1e-08\n",
      "for central derivative error =3.68657e-10 when dx =1e-06\n"
     ]
    }
   ],
   "source": [
    "a = np.abs(nforder-ana) \n",
    "b = np.abs(ncender-ana)\n",
    "amin, bmin =a.min(), b.min()\n",
    "text = (f'the error is minimum: \\n'\\\n",
    "        f'for forward derivative error ={amin:0.5e} when dx ={dxs[np.where(a==amin )[0][0]]}\\n'\n",
    "        f'for central derivative error ={bmin:1.5e} when dx ={dxs[np.where(b==bmin )[0][0]]}' )\n",
    "print(text)\n"
   ]
  },
  {
   "cell_type": "markdown",
   "id": "b249e4a5",
   "metadata": {},
   "source": [
    "**Discussion:**\n",
    "In addition to the discussions above for the forward derivative graph the following should be noted.\n",
    "1. Central difference derivative approches the 'real value' of the derivative quicker than forward derivative\n",
    "1. It is interesting that the error in central derivative is much lower when $dx$ approches $\\epsilon$\n",
    "1. the absolute error (between numeric and analytic solution) is minimum at $dx = 1e-8$ for forward difference method\n",
    "1. the absolute error (between numeric and analytic solution) is minimum at $dx = 1e-6$ for central difference method.\n",
    "1. **WHY???**\n",
    "1. clearly central difference method is prefereable since we can achive higher accuracy in calculation for larger gridsize"
   ]
  },
  {
   "cell_type": "code",
   "execution_count": 195,
   "id": "c355fbf6",
   "metadata": {},
   "outputs": [],
   "source": [
    "np.sin??"
   ]
  },
  {
   "cell_type": "code",
   "execution_count": null,
   "id": "86f332c3",
   "metadata": {},
   "outputs": [],
   "source": []
  },
  {
   "cell_type": "code",
   "execution_count": null,
   "id": "728789f4",
   "metadata": {},
   "outputs": [],
   "source": []
  },
  {
   "cell_type": "code",
   "execution_count": null,
   "id": "7705819b",
   "metadata": {},
   "outputs": [],
   "source": []
  },
  {
   "cell_type": "code",
   "execution_count": null,
   "id": "f04836e9",
   "metadata": {},
   "outputs": [],
   "source": []
  },
  {
   "cell_type": "code",
   "execution_count": null,
   "id": "6e3481a4",
   "metadata": {},
   "outputs": [],
   "source": []
  },
  {
   "cell_type": "code",
   "execution_count": null,
   "id": "8f7d5880",
   "metadata": {},
   "outputs": [],
   "source": []
  },
  {
   "cell_type": "code",
   "execution_count": null,
   "id": "8bda6920",
   "metadata": {},
   "outputs": [],
   "source": []
  },
  {
   "cell_type": "code",
   "execution_count": null,
   "id": "2be1c801",
   "metadata": {},
   "outputs": [],
   "source": []
  },
  {
   "cell_type": "code",
   "execution_count": null,
   "id": "a02d4461",
   "metadata": {},
   "outputs": [],
   "source": []
  },
  {
   "cell_type": "code",
   "execution_count": null,
   "id": "48a41bc2",
   "metadata": {},
   "outputs": [],
   "source": []
  },
  {
   "cell_type": "code",
   "execution_count": null,
   "id": "c6a7d096",
   "metadata": {},
   "outputs": [],
   "source": []
  }
 ],
 "metadata": {
  "kernelspec": {
   "display_name": "Python 3 (ipykernel)",
   "language": "python",
   "name": "python3"
  },
  "language_info": {
   "codemirror_mode": {
    "name": "ipython",
    "version": 3
   },
   "file_extension": ".py",
   "mimetype": "text/x-python",
   "name": "python",
   "nbconvert_exporter": "python",
   "pygments_lexer": "ipython3",
   "version": "3.10.12"
  },
  "toc": {
   "base_numbering": 1,
   "nav_menu": {},
   "number_sections": true,
   "sideBar": true,
   "skip_h1_title": false,
   "title_cell": "Table of Contents",
   "title_sidebar": "Contents",
   "toc_cell": false,
   "toc_position": {},
   "toc_section_display": true,
   "toc_window_display": false
  }
 },
 "nbformat": 4,
 "nbformat_minor": 5
}
