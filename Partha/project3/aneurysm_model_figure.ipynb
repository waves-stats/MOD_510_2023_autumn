{
 "cells": [
  {
   "cell_type": "code",
   "execution_count": 1,
   "id": "1b2a57af",
   "metadata": {
    "ExecuteTime": {
     "end_time": "2023-10-31T13:10:46.229782Z",
     "start_time": "2023-10-31T13:10:44.594030Z"
    }
   },
   "outputs": [],
   "source": [
    "import numpy as np\n",
    "import matplotlib.pyplot as plt"
   ]
  },
  {
   "cell_type": "code",
   "execution_count": 6,
   "id": "677a0cb5",
   "metadata": {
    "ExecuteTime": {
     "end_time": "2023-10-31T13:12:12.971608Z",
     "start_time": "2023-10-31T13:12:12.966054Z"
    }
   },
   "outputs": [],
   "source": [
    "class Rectangles():\n",
    "    def __init__(self, ax, l=1, h=1):\n",
    "        '''\n",
    "        takes matplotlib ax element and plots rectangles\n",
    "        '''\n",
    "        self.ax = ax\n",
    "        self.l = l\n",
    "        self.h = h\n",
    "    \n",
    "    def make_rect(self, xg, yg, **kwargs):\n",
    "        l = self.l\n",
    "        h = self.h\n",
    "        xl = np.array([0,l,l,0,0])\n",
    "        yl = np.array([0,0,h,h,0])\n",
    "        self.ax.plot(xg+xl, yg+yl, **kwargs)\n",
    "        \n",
    "    def make_rect_array(self, xg, yg, N, color = 'k', linewidth=1, **kwargs):\n",
    "        kwargs['color'] = color\n",
    "        kwargs['linewidth']=linewidth\n",
    "        x_offset = self.l\n",
    "        \n",
    "        \n",
    "        for i in range(N):\n",
    "            self.make_rect(xg+i*x_offset, yg,**kwargs)\n",
    "            \n",
    "    def make_diffusion_arrows(self, xg, yg, color = 'k', linewidth=1, **kwargs):\n",
    "        l = self.l\n",
    "        h = self.h\n",
    "        xl1 = np.array([ 0.4, 0.4, 0.3]) + xg\n",
    "        yl1 = np.array([-0.2, 0.2, 0.1]) + yg\n",
    "        xl2 = np.array([ 0.6, 0.6, 0.7]) + xg\n",
    "        yl2 = np.array([0.2, -0.2,-0.1]) + yg\n",
    "        \n",
    "        self.ax.plot(xl1,yl1,color =color,linewidth=linewidth,**kwargs)\n",
    "        self.ax.plot(xl2,yl2,color =color,linewidth=linewidth,**kwargs)        "
   ]
  },
  {
   "cell_type": "code",
   "execution_count": 12,
   "id": "ad35ead6",
   "metadata": {
    "ExecuteTime": {
     "end_time": "2023-10-31T13:13:23.149983Z",
     "start_time": "2023-10-31T13:13:23.032836Z"
    }
   },
   "outputs": [
    {
     "data": {
      "image/png": "[encoded data removed]",
      "text/plain": [
       "<Figure size 640x480 with 1 Axes>"
      ]
     },
     "metadata": {},
     "output_type": "display_data"
    }
   ],
   "source": [
    "N = 15\n",
    "fig, ax = plt.subplots()\n",
    "ax.set(aspect = 'equal', ylim=[-1,3])\n",
    "rects = Rectangles(ax, h=1)\n",
    "rects.make_rect_array(0,0,N)\n",
    "rects.make_rect_array(9,rects.h,4,color= 'red')\n",
    "for n in range(9,13): rects.make_diffusion_arrows(n,1,color = 'grey')\n",
    "for n, txt in enumerate([0,1,2,'...','...']): ax.text(n+0.35,-0.5, txt, color = 'b')\n",
    "for n, txt in zip([13,14],['N-2', 'N-1']): ax.text(n+0.25,-0.5, txt, color = 'b')  \n",
    "for n, txt in enumerate(list(range(3))+['i']): ax.text(n+0.35,0.25, f'$C_{txt}$')\n",
    "for n in range(4): ax.text(n+0.35,1.25, f'$V$', color= 'green')\n",
    "for n, txt in zip([9,10,11,12],['$V_A$']*4): ax.text(n+0.35,2.35, txt)\n",
    "for n, txt in zip([9,10,11,12],['$C_{Aj}$']*4): ax.text(n+0.25,1.35, txt)\n",
    "\n",
    "\n",
    "txt = r'$V\\frac{dC_i}{dt} =q\\left(C_{i-1}-C_i\\right)-D(C_j-C_{Aj})$'\n",
    "ax.text(5+0.35,-1.35, txt)\n",
    "txt = r'$V_A\\frac{dC_A}{dt} =D(C_j-C_{Aj})$'\n",
    "ax.text(8.5+0.35,3., txt)\n",
    "a=ax.axis('off')"
   ]
  },
  {
   "cell_type": "code",
   "execution_count": null,
   "id": "f4584aea",
   "metadata": {},
   "outputs": [],
   "source": []
  }
 ],
 "metadata": {
  "kernelspec": {
   "display_name": "Python [conda env:MOD510] *",
   "language": "python",
   "name": "conda-env-MOD510-py"
  },
  "language_info": {
   "codemirror_mode": {
    "name": "ipython",
    "version": 3
   },
   "file_extension": ".py",
   "mimetype": "text/x-python",
   "name": "python",
   "nbconvert_exporter": "python",
   "pygments_lexer": "ipython3",
   "version": "3.11.5"
  }
 },
 "nbformat": 4,
 "nbformat_minor": 5
}
