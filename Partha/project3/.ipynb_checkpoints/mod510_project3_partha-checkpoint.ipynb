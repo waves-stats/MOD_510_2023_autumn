{
 "cells": [
  {
   "cell_type": "code",
   "execution_count": 1,
   "id": "13e8b066",
   "metadata": {
    "ExecuteTime": {
     "end_time": "2023-10-18T09:11:42.262007Z",
     "start_time": "2023-10-18T09:11:41.422354Z"
    }
   },
   "outputs": [],
   "source": [
    "import numpy as np"
   ]
  },
  {
   "cell_type": "code",
   "execution_count": null,
   "id": "8865a09f",
   "metadata": {},
   "outputs": [],
   "source": []
  }
 ],
 "metadata": {
  "kernelspec": {
   "display_name": "Python [conda env:MOD510] *",
   "language": "python",
   "name": "conda-env-MOD510-py"
  },
  "language_info": {
   "codemirror_mode": {
    "name": "ipython",
    "version": 3
   },
   "file_extension": ".py",
   "mimetype": "text/x-python",
   "name": "python",
   "nbconvert_exporter": "python",
   "pygments_lexer": "ipython3",
   "version": "3.11.5"
  }
 },
 "nbformat": 4,
 "nbformat_minor": 5
}
