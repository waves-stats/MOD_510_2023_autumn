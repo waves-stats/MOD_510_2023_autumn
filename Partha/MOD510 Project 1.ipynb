{
 "cells": [
  {
   "cell_type": "code",
   "execution_count": 12,
   "id": "338fc06f",
   "metadata": {},
   "outputs": [],
   "source": [
    "import numpy as np"
   ]
  },
  {
   "cell_type": "markdown",
   "id": "c9a02e14",
   "metadata": {},
   "source": [
    "# Exercise 1: Finite-precision arithmetic\n",
    "\n",
    "## Part 1.  Explain the output of sys.float_info.\n",
    "\n",
    "\n",
    "Run the following code snippet:"
   ]
  },
  {
   "cell_type": "code",
   "execution_count": 1,
   "id": "dedd8478",
   "metadata": {},
   "outputs": [
    {
     "data": {
      "text/plain": [
       "sys.float_info(max=1.7976931348623157e+308, max_exp=1024, max_10_exp=308, min=2.2250738585072014e-308, min_exp=-1021, min_10_exp=-307, dig=15, mant_dig=53, epsilon=2.220446049250313e-16, radix=2, rounds=1)"
      ]
     },
     "execution_count": 1,
     "metadata": {},
     "output_type": "execute_result"
    }
   ],
   "source": [
    "import sys\n",
    "sys.float_info"
   ]
  },
  {
   "cell_type": "markdown",
   "id": "50f4a0d8",
   "metadata": {},
   "source": [
    "The float_info attribute outputs the following information about floating point representation in a single byte on a 64 bit computer:\n",
    "1. **max / min**: the maximum(positive)/minimum(negative) floating point number that can be represented by a single byte\n",
    "1. **max_exp/max_10_exp** : an integer x that can produce the maximum number that can be represented by a normalized float in the following manner : radix**(1-x) or 10**(x) respectively. Note radix is 2.\n",
    "1. **min_exp/min_10_exp** : an integer x that can produce the minimum number that can be represented by a normalized float in the following manner : radix**(1-x) or 10**(x) respectively. Note radix is 2.\n",
    "1. **dig/mant_dig** : The maximum number of decimal digits that can be faithfully represented in a float.\n",
    "1. **mant_dig** : the number of base-radix(2) digits in the significand of a float.\n",
    "1. **radix** : the base used for representing the float\n",
    "1. **round** : flag for how python tries to round a floating number (nearest in this case)\n",
    "1. **epsilon** : smallest value which can be added or subtracted to 1 such that the sum is faithfully representable by the float"
   ]
  },
  {
   "attachments": {
    "64bitrepr.png": {
     "image/png": "[encoded data removed]"
    }
   },
   "cell_type": "markdown",
   "id": "7b96682a",
   "metadata": {},
   "source": [
    "## part 2:  Show how you can calculate the printed-out values max, min, epsilon yourself\n",
    "\n",
    "According to the IEEE 754-1985 standard for a 64bit computer \n",
    "1. 1 bit is reserved for the sign of the float (sign bit), say a\n",
    "1. 52 bits are used to represent the fraction of the float, say b\n",
    "1. 11 bits are used to represent exponenet  of the float, say c\n",
    "1. in addition float is represented in the normalized fashion, that is to say 1. is always assumed to be the first digit of the fraction\n",
    "![figure 64bit allocation](attachment:64bitrepr.png)\n",
    "\n",
    "Each bit can either be 0 or 1.\n",
    "\n"
   ]
  },
  {
   "cell_type": "markdown",
   "id": "1742baa3",
   "metadata": {},
   "source": [
    "For calculating the decimal number from the bit values the following formula can be used\n",
    "\n",
    "$\\pm M\\cdot2^{E-e}$\n",
    "\n",
    "$M=1.F$\n",
    "\n",
    "where M is the mantissa E is the exponent and e is the bias. Bias, e, has a fixed value $(2^{11-1}-1=1023), 0<E<2^{2^{11}-2} $\n",
    "\n",
    "### Calculating the epsilon\n",
    "\n",
    "Epsilon is defined smallest fraction that can be added to 1 to arrive at the lowest fraction greater than 1.  For calulating epsilon M will be of the form $0.(000...)1$ 51x0s\n",
    "\n",
    "What about the machine precision? The machine precision, \u000fM , is the\n",
    "smallest possible number that can be added to one, and get a number larger\n",
    "than one, i.e. 1 + \u000fM > 1. The smallest possible value of the mantissa is\n",
    "0.000 . . . 01 = 2−52, thus the lowest number must be of the form 2−52 · 2m.\n",
    "If the exponent , m, is lower than 0 then when we add this number to 1,\n",
    "we will only get 1. Thus the machine precision is \u000fM = 2−52 = 2.22 · 10−16\n",
    "(for 32 bits 2−23 = 1.19 · 10−7).\n",
    "\n",
    "Q: why is the exponent ignored???"
   ]
  },
  {
   "cell_type": "markdown",
   "id": "658ff92f",
   "metadata": {},
   "source": [
    " Part 2.\n",
    "\n",
    "    Show how you can calculate the printed-out values max, min, epsilon yourself (again, based on the IEEE standard).\n",
    "\n",
    "## Part 3.\n",
    "\n",
    "In Python, typing 0.1+0.2 does not (typically) produce the same output as 0.3.\n",
    "\n",
    "    Why not?\n",
    "\n",
    "## Part 4.\n",
    "\n",
    "    Should you use the ==-operator to test whether two floating-point numbers are equal?\n",
    "    Why / why not? Can you think of alternative ways to do floating-point number comparison"
   ]
  },
  {
   "cell_type": "markdown",
   "id": "84a40e86",
   "metadata": {},
   "source": [
    "# Exercise 2: Get up to speed with NumPy\n",
    "\n",
    "## Part 1.\n",
    "\n",
    "The following code block gives an example of a vectorized function:"
   ]
  },
  {
   "cell_type": "code",
   "execution_count": 23,
   "id": "5ac8b3da",
   "metadata": {},
   "outputs": [
    {
     "data": {
      "text/plain": [
       "(array([0.        , 0.11111111, 0.22222222, 0.33333333, 0.44444444,\n",
       "        0.55555556, 0.66666667, 0.77777778, 0.88888889, 1.        ]),\n",
       " array([1.        , 1.11751907, 1.24884887, 1.39561243, 1.5596235 ,\n",
       "        1.742909  , 1.94773404, 2.17662993, 2.43242545, 2.71828183]),\n",
       " array([1.        , 0.89483932, 0.8007374 , 0.71653131, 0.64118039,\n",
       "        0.57375342, 0.51341712, 0.45942582, 0.41111229, 0.36787944]))"
      ]
     },
     "execution_count": 23,
     "metadata": {},
     "output_type": "execute_result"
    }
   ],
   "source": [
    "x = np.linspace(0, 1, 10)\n",
    "ex=np.exp(x)  \n",
    "emx=np.exp(-x)\n",
    "x,ex,emx"
   ]
  },
  {
   "cell_type": "markdown",
   "id": "d1e103ce",
   "metadata": {},
   "source": [
    "Notice the usage of np.exp instead of using the exponential function provided in the built-in math library; this is an example of a universal function.\n",
    "\n",
    "1. Create a native Python list of the same size as x and holding the same values. Apply the same two function calls to the list. Explain what happens."
   ]
  },
  {
   "cell_type": "code",
   "execution_count": 33,
   "id": "f4cbbbb6",
   "metadata": {},
   "outputs": [
    {
     "data": {
      "text/plain": [
       "([0.0,\n",
       "  0.1111111111111111,\n",
       "  0.2222222222222222,\n",
       "  0.3333333333333333,\n",
       "  0.4444444444444444,\n",
       "  0.5555555555555556,\n",
       "  0.6666666666666666,\n",
       "  0.7777777777777778,\n",
       "  0.8888888888888888,\n",
       "  1.0],\n",
       " array([1.        , 1.11751907, 1.24884887, 1.39561243, 1.5596235 ,\n",
       "        1.742909  , 1.94773404, 2.17662993, 2.43242545, 2.71828183]),\n",
       " array([], dtype=float64))"
      ]
     },
     "execution_count": 33,
     "metadata": {},
     "output_type": "execute_result"
    }
   ],
   "source": [
    "xx = [i/9 for i in range(10)]\n",
    "exx=np.exp(xx)  \n",
    "emxx=np.exp(-1*xx)\n",
    "xx,exx,emxx"
   ]
  },
  {
   "cell_type": "markdown",
   "id": "85e039ff",
   "metadata": {},
   "source": [
    "**Explanation:** Multiplying -1(0 or lower) to a built in python array returns an empty array. "
   ]
  },
  {
   "cell_type": "code",
   "execution_count": 34,
   "id": "528c862c",
   "metadata": {},
   "outputs": [
    {
     "ename": "TypeError",
     "evalue": "bad operand type for unary -: 'list'",
     "output_type": "error",
     "traceback": [
      "\u001b[0;31m---------------------------------------------------------------------------\u001b[0m",
      "\u001b[0;31mTypeError\u001b[0m                                 Traceback (most recent call last)",
      "Cell \u001b[0;32mIn[34], line 3\u001b[0m\n\u001b[1;32m      1\u001b[0m xx \u001b[38;5;241m=\u001b[39m [i\u001b[38;5;241m/\u001b[39m\u001b[38;5;241m9\u001b[39m \u001b[38;5;28;01mfor\u001b[39;00m i \u001b[38;5;129;01min\u001b[39;00m \u001b[38;5;28mrange\u001b[39m(\u001b[38;5;241m10\u001b[39m)]\n\u001b[1;32m      2\u001b[0m exx\u001b[38;5;241m=\u001b[39mnp\u001b[38;5;241m.\u001b[39mexp(xx)  \n\u001b[0;32m----> 3\u001b[0m emxx\u001b[38;5;241m=\u001b[39mnp\u001b[38;5;241m.\u001b[39mexp(\u001b[38;5;241m-\u001b[39mxx)\n\u001b[1;32m      4\u001b[0m xx,exx,emxx\n",
      "\u001b[0;31mTypeError\u001b[0m: bad operand type for unary -: 'list'"
     ]
    }
   ],
   "source": [
    "xx = [i/9 for i in range(10)]\n",
    "exx=np.exp(xx)  \n",
    "emxx=np.exp(-xx)\n",
    "xx,exx,emxx"
   ]
  },
  {
   "cell_type": "markdown",
   "id": "1f9c9f70",
   "metadata": {},
   "source": [
    "**Explanation** : the operand '+' does not support addition of a list.\n",
    "\n",
    "2. How would you generally evaluate a function on all elements of a native Python list? (as opposed to a NumPy array)"
   ]
  },
  {
   "cell_type": "code",
   "execution_count": 35,
   "id": "7a63483c",
   "metadata": {},
   "outputs": [
    {
     "data": {
      "text/plain": [
       "([0.0,\n",
       "  0.1111111111111111,\n",
       "  0.2222222222222222,\n",
       "  0.3333333333333333,\n",
       "  0.4444444444444444,\n",
       "  0.5555555555555556,\n",
       "  0.6666666666666666,\n",
       "  0.7777777777777778,\n",
       "  0.8888888888888888,\n",
       "  1.0],\n",
       " [1.0,\n",
       "  1.1175190687418637,\n",
       "  1.2488488690016821,\n",
       "  1.3956124250860895,\n",
       "  1.5596234976067807,\n",
       "  1.7429089986334578,\n",
       "  1.9477340410546757,\n",
       "  2.1766299317162483,\n",
       "  2.4324254542872077,\n",
       "  2.718281828459045],\n",
       " [1.0,\n",
       "  0.8948393168143698,\n",
       "  0.8007374029168081,\n",
       "  0.7165313105737893,\n",
       "  0.6411803884299546,\n",
       "  0.5737534207374327,\n",
       "  0.513417119032592,\n",
       "  0.45942582403592663,\n",
       "  0.41111229050718745,\n",
       "  0.36787944117144233])"
      ]
     },
     "execution_count": 35,
     "metadata": {},
     "output_type": "execute_result"
    }
   ],
   "source": [
    "xx = [i/9 for i in range(10)]\n",
    "exx=[np.exp(i) for i in xx]  \n",
    "emxx=[np.exp(-i) for i in xx]\n",
    "xx,exx,emxx"
   ]
  },
  {
   "cell_type": "markdown",
   "id": "282ccbaf",
   "metadata": {},
   "source": [
    "## Part 2.\n",
    "\n",
    "As already hinted at, the NumPy library comes with a plethora of useful features and functions. The code snippets below show some examples: "
   ]
  },
  {
   "cell_type": "code",
   "execution_count": 60,
   "id": "f90efd05",
   "metadata": {},
   "outputs": [
    {
     "data": {
      "text/plain": [
       "[0, 0, 0, 0, 0, 0, 0, 0, 0, 0, 0, 0, 0, 0, 0, 0, 0, 0, 0, 0]"
      ]
     },
     "execution_count": 60,
     "metadata": {},
     "output_type": "execute_result"
    }
   ],
   "source": [
    "# Produce an array of size 20 with each element as 0\n",
    "\n",
    "# numpy\n",
    "np.zeros(20)\n",
    "\n",
    "#native\n",
    "[0]*20"
   ]
  },
  {
   "cell_type": "code",
   "execution_count": 61,
   "id": "1780ae4c",
   "metadata": {},
   "outputs": [
    {
     "data": {
      "text/plain": [
       "[1, 1, 1, 1, 1, 1, 1, 1, 1, 1, 1, 1, 1, 1, 1, 1, 1, 1, 1, 1]"
      ]
     },
     "execution_count": 61,
     "metadata": {},
     "output_type": "execute_result"
    }
   ],
   "source": [
    "# Produce an array of size 20 with each element as 1\n",
    "\n",
    "#numpy\n",
    "np.ones(20)\n",
    "\n",
    "#native\n",
    "[1]*20"
   ]
  },
  {
   "cell_type": "code",
   "execution_count": 63,
   "id": "3a1b23f9",
   "metadata": {},
   "outputs": [
    {
     "data": {
      "text/plain": [
       "[0, 1, 2, 3, 4, 5, 6, 7, 8, 9, 10]"
      ]
     },
     "execution_count": 63,
     "metadata": {},
     "output_type": "execute_result"
    }
   ],
   "source": [
    "# Produce a evenly spaced list of size 11, both the limits 0 and 10 are to be included \n",
    "\n",
    "#numpy\n",
    "np.linspace(0, 10, 11)\n",
    "\n",
    "#native\n",
    "list(range(0,11))"
   ]
  },
  {
   "cell_type": "code",
   "execution_count": 68,
   "id": "54c9d6d6",
   "metadata": {},
   "outputs": [
    {
     "data": {
      "text/plain": [
       "array([ 0.00000000e+00,  0.00000000e+00,  0.00000000e+00,  0.00000000e+00,\n",
       "        0.00000000e+00, -8.88178420e-16,  0.00000000e+00,  0.00000000e+00,\n",
       "        0.00000000e+00,  0.00000000e+00, -1.77635684e-15])"
      ]
     },
     "execution_count": 68,
     "metadata": {},
     "output_type": "execute_result"
    }
   ],
   "source": [
    "# from the numpy.linspace sourcecode\n",
    "# div = (num - 1) if endpoint else num\n",
    "# if endpoint is set to False, stop is excluded and \n",
    "# step is calculated by dividing by num instead of n-1\n",
    "\n",
    "#numpy\n",
    "np.linspace(0, 10, 11, endpoint=False,  retstep=True)\n",
    "\n",
    "#native\n",
    "[i*10/11 for i in range(11)]\n",
    "np.linspace(0, 10, 11, endpoint=False,  retstep=False)-[i*10/11 for i in range(11)]"
   ]
  },
  {
   "cell_type": "code",
   "execution_count": 69,
   "id": "fc79f7fa",
   "metadata": {},
   "outputs": [
    {
     "data": {
      "text/plain": [
       "[2, 4, 6, 8, 10]"
      ]
     },
     "execution_count": 69,
     "metadata": {},
     "output_type": "execute_result"
    }
   ],
   "source": [
    "# Produce a integer list [0,1,2,3,4], \n",
    "# add one to each element and multiply each element with 2\n",
    "\n",
    "#numpy\n",
    "vector = np.arange(5) + 1\n",
    "2*vector\n",
    "\n",
    "#native\n",
    "[(i+1)*2 for i in range(5)]"
   ]
  },
  {
   "cell_type": "markdown",
   "id": "67c86992",
   "metadata": {},
   "source": [
    "## Part 3. "
   ]
  },
  {
   "cell_type": "code",
   "execution_count": 70,
   "id": "78943ea5",
   "metadata": {},
   "outputs": [
    {
     "name": "stdout",
     "output_type": "stream",
     "text": [
      "There are 7 non-zero numbers in the array.\n"
     ]
    }
   ],
   "source": [
    "array_of_numbers = np.array([4, 8, 15, 16, 23, 42,0,5])\n",
    "nnz = np.count_nonzero(array_of_numbers)\n",
    "print(f'There are {nnz} non-zero numbers in the array.')\n",
    "is_even = (array_of_numbers % 2 == 0)\n",
    "is_greater_than_17 = (array_of_numbers > 17)\n",
    "is_even_and_greater_than_17 = is_even & is_greater_than_17"
   ]
  },
  {
   "cell_type": "code",
   "execution_count": 86,
   "id": "878a55fd",
   "metadata": {},
   "outputs": [
    {
     "name": "stdout",
     "output_type": "stream",
     "text": [
      "[False False False False False  True False False]\n",
      "[False False False False False  True False False]\n"
     ]
    }
   ],
   "source": [
    "# the logical operator 'and' can only perform logical and operation between 2 elements \n",
    "# thus the first line returns an exception\n",
    "# for lists '&' can be used to perform bitwise operations\n",
    "# the second line tries to perform 'and' between '0' abd array_of numbers and fail\n",
    "# second line can be fixed by adding braces around each comparision \n",
    "\n",
    "is_even_and_greater_than_17 = is_even and is_greater_than_17\n",
    "print((array_of_numbers % 2 == 0) & (array_of_numbers > 17))\n",
    "print(np.logical_and((array_of_numbers % 2 == 0),(array_of_numbers > 17)))"
   ]
  },
  {
   "cell_type": "markdown",
   "id": "ee5c003e",
   "metadata": {},
   "source": [
    "## Part 4. "
   ]
  },
  {
   "cell_type": "code",
   "execution_count": 91,
   "id": "f2731972",
   "metadata": {},
   "outputs": [
    {
     "data": {
      "text/plain": [
       "array([ 4,  8, 15, 16, 23, 42,  0,  5])"
      ]
     },
     "execution_count": 91,
     "metadata": {},
     "output_type": "execute_result"
    }
   ],
   "source": [
    "array_of_numbers"
   ]
  },
  {
   "cell_type": "code",
   "execution_count": 99,
   "id": "625b8b99",
   "metadata": {},
   "outputs": [
    {
     "data": {
      "text/plain": [
       "array([4, 5])"
      ]
     },
     "execution_count": 99,
     "metadata": {},
     "output_type": "execute_result"
    }
   ],
   "source": [
    "#return the index of the array where the condition is satisfied\n",
    "np.where(array_of_numbers > 17)[0]"
   ]
  },
  {
   "cell_type": "code",
   "execution_count": 100,
   "id": "7498646e",
   "metadata": {},
   "outputs": [
    {
     "data": {
      "text/plain": [
       "array([0, 0, 0, 0, 1, 1, 0, 0])"
      ]
     },
     "execution_count": 100,
     "metadata": {},
     "output_type": "execute_result"
    }
   ],
   "source": [
    "# return an array with 1 where condition is true and 0 where condition is false\n",
    "np.where(array_of_numbers > 17, 1, 0)"
   ]
  },
  {
   "cell_type": "markdown",
   "id": "83d0f17d",
   "metadata": {},
   "source": [
    "# Exercise 3, Part I: Finite Differences (FD) with Functions\n",
    "\n",
    "In scientific computing one often needs to calculate derivatives of functions. For problems encountered in practice, exact formulas may not be available, in which case numerical estimates are needed. However, to evaluate the correctness of our programmed numerical methods, it is still a very good idea to test the code on simple functions where the derivative is known.\n",
    "\n",
    "In this exercise, we consider a function that is relevant for describing wave phenomenona:\n",
    "\\begin{equation*}\n",
    "f(x) = \\sin (b  x) \\cdot e ^ {ax^2}\n",
    "\\label{eq:vector_ray} \\tag{1}\n",
    "\\end{equation*}\n",
    "\n",
    "Function **f** is defined by equation $\\eqref{eq:vector_ray}$\n"
   ]
  },
  {
   "cell_type": "code",
   "execution_count": 101,
   "id": "64501337",
   "metadata": {},
   "outputs": [
    {
     "ename": "SyntaxError",
     "evalue": "invalid character '⋅' (U+22C5) (1487563191.py, line 1)",
     "output_type": "error",
     "traceback": [
      "\u001b[0;36m  Cell \u001b[0;32mIn[101], line 1\u001b[0;36m\u001b[0m\n\u001b[0;31m    f(x)=sin(bx)⋅e−ax2(1)\u001b[0m\n\u001b[0m                ^\u001b[0m\n\u001b[0;31mSyntaxError\u001b[0m\u001b[0;31m:\u001b[0m invalid character '⋅' (U+22C5)\n"
     ]
    }
   ],
   "source": []
  },
  {
   "cell_type": "markdown",
   "id": "54fcfb1f",
   "metadata": {},
   "source": [
    "One way to implement the function in Python is:"
   ]
  },
  {
   "cell_type": "code",
   "execution_count": null,
   "id": "aa38bf29",
   "metadata": {},
   "outputs": [],
   "source": []
  },
  {
   "cell_type": "code",
   "execution_count": null,
   "id": "0f0c6412",
   "metadata": {},
   "outputs": [],
   "source": []
  },
  {
   "cell_type": "code",
   "execution_count": 93,
   "id": "4b4b1196",
   "metadata": {},
   "outputs": [],
   "source": [
    "np.where?"
   ]
  },
  {
   "cell_type": "code",
   "execution_count": null,
   "id": "5b960bf4",
   "metadata": {},
   "outputs": [],
   "source": []
  },
  {
   "cell_type": "code",
   "execution_count": null,
   "id": "0d17040c",
   "metadata": {},
   "outputs": [],
   "source": []
  },
  {
   "cell_type": "code",
   "execution_count": null,
   "id": "b76e8d61",
   "metadata": {},
   "outputs": [],
   "source": []
  },
  {
   "cell_type": "code",
   "execution_count": null,
   "id": "4081f982",
   "metadata": {},
   "outputs": [],
   "source": []
  },
  {
   "cell_type": "code",
   "execution_count": null,
   "id": "4afa8817",
   "metadata": {},
   "outputs": [],
   "source": []
  },
  {
   "cell_type": "code",
   "execution_count": null,
   "id": "9cbfafc3",
   "metadata": {},
   "outputs": [],
   "source": []
  },
  {
   "cell_type": "code",
   "execution_count": null,
   "id": "32309fea",
   "metadata": {},
   "outputs": [],
   "source": []
  },
  {
   "cell_type": "code",
   "execution_count": null,
   "id": "798f9dd6",
   "metadata": {},
   "outputs": [],
   "source": []
  },
  {
   "cell_type": "code",
   "execution_count": null,
   "id": "4c3d4d26",
   "metadata": {},
   "outputs": [],
   "source": []
  },
  {
   "cell_type": "code",
   "execution_count": null,
   "id": "16917683",
   "metadata": {},
   "outputs": [],
   "source": []
  },
  {
   "cell_type": "code",
   "execution_count": null,
   "id": "e21964d9",
   "metadata": {},
   "outputs": [],
   "source": []
  },
  {
   "cell_type": "code",
   "execution_count": null,
   "id": "133d51ad",
   "metadata": {},
   "outputs": [],
   "source": []
  },
  {
   "cell_type": "code",
   "execution_count": null,
   "id": "6aed8664",
   "metadata": {},
   "outputs": [],
   "source": []
  },
  {
   "cell_type": "code",
   "execution_count": null,
   "id": "ab769d68",
   "metadata": {},
   "outputs": [],
   "source": []
  },
  {
   "cell_type": "code",
   "execution_count": null,
   "id": "d6bdebd4",
   "metadata": {},
   "outputs": [],
   "source": []
  },
  {
   "cell_type": "code",
   "execution_count": null,
   "id": "7abbac41",
   "metadata": {},
   "outputs": [],
   "source": []
  },
  {
   "cell_type": "code",
   "execution_count": null,
   "id": "8a4956c8",
   "metadata": {},
   "outputs": [],
   "source": []
  },
  {
   "cell_type": "code",
   "execution_count": null,
   "id": "a3cbcada",
   "metadata": {},
   "outputs": [],
   "source": []
  },
  {
   "cell_type": "code",
   "execution_count": null,
   "id": "2eafe0b0",
   "metadata": {},
   "outputs": [],
   "source": []
  },
  {
   "cell_type": "code",
   "execution_count": null,
   "id": "5e5ebf31",
   "metadata": {},
   "outputs": [],
   "source": []
  }
 ],
 "metadata": {
  "kernelspec": {
   "display_name": "Python 3 (ipykernel)",
   "language": "python",
   "name": "python3"
  },
  "language_info": {
   "codemirror_mode": {
    "name": "ipython",
    "version": 3
   },
   "file_extension": ".py",
   "mimetype": "text/x-python",
   "name": "python",
   "nbconvert_exporter": "python",
   "pygments_lexer": "ipython3",
   "version": "3.11.4"
  }
 },
 "nbformat": 4,
 "nbformat_minor": 5
}
