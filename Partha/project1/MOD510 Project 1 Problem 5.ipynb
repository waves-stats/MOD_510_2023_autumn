{
 "cells": [
  {
   "cell_type": "code",
   "execution_count": 37,
   "id": "5b925709",
   "metadata": {
    "ExecuteTime": {
     "end_time": "2023-09-03T14:47:58.747744Z",
     "start_time": "2023-09-03T14:47:57.760132Z"
    }
   },
   "outputs": [],
   "source": [
    "import numpy as np"
   ]
  },
  {
   "cell_type": "markdown",
   "id": "c5facbd2",
   "metadata": {},
   "source": [
    "# Exercise 5: Automatic for the people?\n",
    "\n",
    "## Part 1.\n",
    "\n",
    "Add the following functions to your class, what happens when you do x+y?\n",
    "\n",
    "## Part 2.\n",
    "\n",
    "In the code above we have implemented + operator, however if you try to execute +x or -x, Python will give an error message TypeError: bad operand type for unary -: 'duple'.\n",
    "\n",
    "Extend your code to make it possible to perform those operations. (Hint: check out __neg__ and __pos__ in the documentation)\n",
    "Implement the - operator using `__sub__`, test that if you do x-y you get [-2,-2]\n"
   ]
  },
  {
   "cell_type": "code",
   "execution_count": 48,
   "id": "41b63fb1",
   "metadata": {
    "ExecuteTime": {
     "end_time": "2023-09-03T15:04:23.161223Z",
     "start_time": "2023-09-03T15:04:23.155812Z"
    }
   },
   "outputs": [],
   "source": [
    "class duple:\n",
    "    '''\n",
    "    Class for automatic differentiation\n",
    "    top: function value\n",
    "    bottom: derivative of function \n",
    "    '''\n",
    "    def __init__(self,top, bottom=0):\n",
    "        self.top = top\n",
    "        self.bottom = bottom \n",
    "    \n",
    "    def __add__(self, d): # u+v, u'+v' \n",
    "        return duple(self.top + d.top, self.bottom + d.bottom )\n",
    "    \n",
    "    def __sub__(self, d): # u-v, u'-v' \n",
    "        return self+(-d)\n",
    "\n",
    "    def __mul__(self, d): # u-v, u'-v' \n",
    "        t = self.top*d.top\n",
    "        b = self.bottom*d.top + self.top*d.bottom\n",
    "        return duple(t,b)\n",
    "    \n",
    "    def __truediv__(self, d):  \n",
    "        t = self.top/d.top\n",
    "        b = (self.bottom*d.top - self.top*d.bottom)/(d.top*d.top)\n",
    "        return duple(t,b)\n",
    "\n",
    "    def __repr__(self):\n",
    "        return \"[\"+str(self.top)+\",\"+str(self.bottom)+\"]\"\n",
    "    \n",
    "    def __str__(self):\n",
    "        return \"[\"+str(self.top)+\",\"+str(self.bottom)+\"]\"\n",
    "    \n",
    "    def __pos__(self):# u, u'\n",
    "        return (self)\n",
    "    \n",
    "    def __neg__(self):# -u, -u'\n",
    "        return ( duple(-1*self.top , -1*self.bottom))"
   ]
  },
  {
   "cell_type": "code",
   "execution_count": 53,
   "id": "ad903f25",
   "metadata": {
    "ExecuteTime": {
     "end_time": "2023-09-03T15:09:11.803536Z",
     "start_time": "2023-09-03T15:09:11.800044Z"
    }
   },
   "outputs": [],
   "source": [
    "class dfunction:\n",
    "    \n",
    "    def __init__(self, f, df):\n",
    "        self.f = f\n",
    "        self.df = df\n",
    "\n",
    "    def __call__(self,d: duple): # kernel rule sending in and returning duple\n",
    "        return duple(self.f(d.top), self.df(d.top)*d.bottom) #fill inn kernel rule here!)\n"
   ]
  },
  {
   "cell_type": "code",
   "execution_count": 49,
   "id": "0fb9b38b",
   "metadata": {
    "ExecuteTime": {
     "end_time": "2023-09-03T15:04:23.769744Z",
     "start_time": "2023-09-03T15:04:23.764168Z"
    }
   },
   "outputs": [
    {
     "name": "stdout",
     "output_type": "stream",
     "text": [
      "auto diff= [1.728,4.32]\n",
      "analytical= 1.728 4.319999999999999\n",
      "auto diff= [0.45454545454545453,-0.20661157024793386]\n",
      "analytical= 0.45454545454545453 -0.20661157024793386\n",
      "auto diff= [3.0944787419716917,4.297548854694511]\n",
      "analytical= 3.0944787419716917 4.297548854694511\n"
     ]
    }
   ],
   "source": [
    "x=1.2 # just for making it easy to use other values\n",
    "One=duple(1.,0.) # derivative of a constant is zero\n",
    "X=duple(x,1) # derivative of x with respect to x is 1\n",
    "print(\"auto diff=\",X*X*X)\n",
    "print(\"analytical=\",x*x*x, 3*x*x)\n",
    "\n",
    "print(\"auto diff=\", One/(One+X))\n",
    "print(\"analytical=\", 1/(1+x),-1/(1+x)**2)\n",
    "\n",
    "Exp=duple(np.exp(x),np.exp(x)) # derivative of exp(x) is exp(x)\n",
    "Sin=duple(np.sin(x),np.cos(x)) # derivative of sin(x) is cos(x)\n",
    "print(\"auto diff=\", Exp*Sin)\n",
    "print(\"analytical=\", np.exp(x)*np.sin(x), np.exp(x)*np.sin(x)+np.exp(x)*np.cos(x))"
   ]
  },
  {
   "cell_type": "code",
   "execution_count": 54,
   "id": "54d23b8f",
   "metadata": {
    "ExecuteTime": {
     "end_time": "2023-09-03T15:09:15.401524Z",
     "start_time": "2023-09-03T15:09:15.396067Z"
    }
   },
   "outputs": [
    {
     "name": "stdout",
     "output_type": "stream",
     "text": [
      "auto diff  [1.4632824673380311,0.7685247834990176]\n",
      "analytical  1.4632824673380311 0.7685247834990176\n"
     ]
    }
   ],
   "source": [
    "def f(x):\n",
    "    return np.log(x)\n",
    "def df(x):\n",
    "    return 1/x\n",
    "    \n",
    "Log=dfunction(f,df) #note no arguments to f - we are passing the function\n",
    "Exp=dfunction(np.exp,np.exp) # same here\n",
    "print(\"auto diff \", Log(One+Exp(X)))\n",
    "print(\"analytical \", np.log(1+np.exp(x)),np.exp(x)/(1+np.exp(x)))"
   ]
  },
  {
   "cell_type": "code",
   "execution_count": 56,
   "id": "57515e21",
   "metadata": {
    "ExecuteTime": {
     "end_time": "2023-09-03T15:14:47.540237Z",
     "start_time": "2023-09-03T15:14:47.534748Z"
    }
   },
   "outputs": [
    {
     "name": "stdout",
     "output_type": "stream",
     "text": [
      "auto diff  [-0.49225065733419177,-7.493783027703379]\n",
      "analytical  -0.49225065733419177 -7.493783027703379\n"
     ]
    }
   ],
   "source": [
    "a=0.1\n",
    "b=10\n",
    "x=1\n",
    "A=duple(a) #second argument is default 0 i.e. a constant\n",
    "B=duple(b) #second argument is default 0 i.e. a constant\n",
    "X=duple(x,1)\n",
    "Sin = dfunction(np.sin, np.cos)\n",
    "print(\"auto diff \", Sin(B*X)*Exp(-A*X*X))\n",
    "print(\"analytical \", np.sin(b*x)*np.exp(-a*x*x),b*np.cos(b*x)*np.exp(-a*x*x)\n",
    "-2*a*x*np.sin(b*x)*np.exp(-a*x*x))"
   ]
  },
  {
   "cell_type": "markdown",
   "id": "83ffb141",
   "metadata": {},
   "source": [
    "## Part 5.\n",
    "\n",
    "Write a few sentences about the use of automatic differentiation in some areas\n",
    "Make some comments about the strength and weaknesses of automatic differentiation compared to numerical differentiation\n"
   ]
  },
  {
   "cell_type": "code",
   "execution_count": null,
   "id": "a8c07b78",
   "metadata": {},
   "outputs": [],
   "source": []
  }
 ],
 "metadata": {
  "kernelspec": {
   "display_name": "Python 3 (ipykernel)",
   "language": "python",
   "name": "python3"
  },
  "language_info": {
   "codemirror_mode": {
    "name": "ipython",
    "version": 3
   },
   "file_extension": ".py",
   "mimetype": "text/x-python",
   "name": "python",
   "nbconvert_exporter": "python",
   "pygments_lexer": "ipython3",
   "version": "3.10.12"
  },
  "toc": {
   "base_numbering": 1,
   "nav_menu": {},
   "number_sections": true,
   "sideBar": true,
   "skip_h1_title": false,
   "title_cell": "Table of Contents",
   "title_sidebar": "Contents",
   "toc_cell": false,
   "toc_position": {},
   "toc_section_display": true,
   "toc_window_display": false
  }
 },
 "nbformat": 4,
 "nbformat_minor": 5
}
