{
 "cells": [
  {
   "cell_type": "markdown",
   "metadata": {},
   "source": [
    "# MOD510 The tip of the iceberg or Automatic for the people\n",
    "\n",
    "Project 1  Group number: 05  \n",
    "Group members: Jing Hou"
   ]
  },
  {
   "cell_type": "markdown",
   "metadata": {},
   "source": [
    "### Abstract: (is it accurate and informative)"
   ]
  },
  {
   "cell_type": "markdown",
   "metadata": {},
   "source": [
    "### Introduction : (status of problem and major objectives)"
   ]
  },
  {
   "cell_type": "code",
   "execution_count": 62,
   "metadata": {},
   "outputs": [],
   "source": [
    "# load libraries\n",
    "import sys\n",
    "import numpy as np\n",
    "import math\n",
    "import matplotlib.pyplot as plt"
   ]
  },
  {
   "cell_type": "markdown",
   "metadata": {},
   "source": [
    "## Exercise 1: Finite-precision arithmetic\n",
    "**Part 1**. Run the following code snippet:\n",
    "- Explain the meaning of the printed-out numbers"
   ]
  },
  {
   "cell_type": "code",
   "execution_count": 1,
   "metadata": {},
   "outputs": [
    {
     "data": {
      "text/plain": [
       "sys.float_info(max=1.7976931348623157e+308, max_exp=1024, max_10_exp=308, min=2.2250738585072014e-308, min_exp=-1021, min_10_exp=-307, dig=15, mant_dig=53, epsilon=2.220446049250313e-16, radix=2, rounds=1)"
      ]
     },
     "execution_count": 1,
     "metadata": {},
     "output_type": "execute_result"
    }
   ],
   "source": [
    "import sys\n",
    "sys.float_info"
   ]
  },
  {
   "cell_type": "markdown",
   "metadata": {},
   "source": [
    "This code provides the detailed information about float point numbers in 64-bit double-precision.\n",
    "\n",
    "max: the maximum floating point value that it can represent  \n",
    "max_exp: the maximum exponent of 2 that can be represented  \n",
    "max_10_exp: the maximum exponent of 10 that can be represented  \n",
    "min: the minimum floating point value that it can represent  \n",
    "min_exp:  the minimum exponent of 2 that can be represented  \n",
    "min_10_exp:the minimum exponent of 10 that can be represented  \n",
    "dig: maximum number of decimal digits that can be represented in a float  \n",
    "mant_dig: is maximum of significand including 1 bit of implicit value and 52 bits of fraction that can be represented  \n",
    "epsilon: is machine precision that smallest relative approximation error due to floating point arithmetic.  \n",
    "radix: \tthe base of exponent representation\n",
    "rounds: the rounding mode used for arithmetic operations.  "
   ]
  },
  {
   "cell_type": "markdown",
   "metadata": {},
   "source": [
    "**Part 2**. Show how you can calculate the printed-out values max, min, epsilon yourself (again, based on the IEEE standard)."
   ]
  },
  {
   "cell_type": "markdown",
   "metadata": {},
   "source": [
    "IEEE 754 double-precision binary floating-pint format: float64\n",
    "\n",
    "Sign bit = 1 bit\n",
    "Exponent = 11 bits\n",
    "significand precision = 53 bits (52 explicitly stored)\n",
    "\n",
    "manual calculation shown as below:\n",
    "- max: $(2-2^{-52})2^{1023}= 1.7976931348623157*10^{308}$\n",
    "- min: $2^{-1022}= 2.2250738585072014*10^{-308}$\n",
    "- epsilon= $2^{-52} = 2.220446049250313*10^{-16}$"
   ]
  },
  {
   "cell_type": "markdown",
   "metadata": {},
   "source": [
    "**Part 3**. In Python, typing 0.1+0.2 does not (typically) produce the same output as 0.3. Why not?"
   ]
  },
  {
   "cell_type": "code",
   "execution_count": 5,
   "metadata": {},
   "outputs": [
    {
     "data": {
      "text/plain": [
       "False"
      ]
     },
     "execution_count": 5,
     "metadata": {},
     "output_type": "execute_result"
    }
   ],
   "source": [
    "a = 0.1 + 0.2\n",
    "a == 0.3"
   ]
  },
  {
   "cell_type": "markdown",
   "metadata": {},
   "source": [
    "That is due to binary system the computer use where the numbers are converting from decimal into the binary first. Both 0.1 and 0.2 (1/10 and 1/5 )are not representable in binary since floating-point numbers in computers are represented with finite numbers of bits. It then ends up with tiny precision errors"
   ]
  },
  {
   "cell_type": "markdown",
   "metadata": {},
   "source": [
    "**Part 4**. Should you use the == operator to test whether two floating-point numbers are equal? Why / why not? Can you think of alternative ways to do floating-point number comparison?\n",
    "\n",
    "No, you should avoid using this operator for testing two floating-point numbers are equal. Similarly to the problem above, the two floating numbers may not be representable in binary floating format in computer as the computer has finite numbers of bits to represent floating-point values and it may lead to tiny errors.\n",
    "\n",
    "Alternative way is to check if the difference between two floating-point numbers is very small and close rather than checking for exact equality. The proposed of options are shown as below: \n",
    " \n",
    " 1. define equality function that check floating-point numbers are close enough so round-off errors become irrelevant  \n",
    " 2. Use math.isclose function  \n",
    " 3. Use decimal, fraction type\n",
    " "
   ]
  },
  {
   "cell_type": "code",
   "execution_count": 111,
   "metadata": {},
   "outputs": [
    {
     "name": "stdout",
     "output_type": "stream",
     "text": [
      "True\n"
     ]
    }
   ],
   "source": [
    "# 1. define equality function that check floating-point numbers are close enough\n",
    "epsilon = 2**-52\n",
    "\n",
    "def is_close(a, b):\n",
    "    return abs(a - b) < epsilon\n",
    "\n",
    "a = 0.1 + 0.2\n",
    "b = 0.3\n",
    "\n",
    "print(is_close(a,b))"
   ]
  },
  {
   "cell_type": "code",
   "execution_count": 108,
   "metadata": {},
   "outputs": [
    {
     "data": {
      "text/plain": [
       "True"
      ]
     },
     "execution_count": 108,
     "metadata": {},
     "output_type": "execute_result"
    }
   ],
   "source": [
    "# 2. Use math.isclose function  \n",
    "math.isclose (a,b)"
   ]
  },
  {
   "cell_type": "code",
   "execution_count": 109,
   "metadata": {},
   "outputs": [
    {
     "data": {
      "text/plain": [
       "True"
      ]
     },
     "execution_count": 109,
     "metadata": {},
     "output_type": "execute_result"
    }
   ],
   "source": [
    "# 3. Use decimal, fraction type\n",
    "import decimal \n",
    "\n",
    "a = decimal.Decimal('0.1') + decimal.Decimal('0.2')\n",
    "b = decimal.Decimal('0.3')\n",
    "a == b"
   ]
  },
  {
   "cell_type": "markdown",
   "metadata": {},
   "source": [
    "## Exercise 2: Get up to speed with NumPy"
   ]
  },
  {
   "cell_type": "markdown",
   "metadata": {},
   "source": [
    "**Part 1**. The following code block gives an example of a vectorized function:\n",
    "\n",
    "Notice the usage of np.exp instead of using the exponential function provided in the built-in math library; this is an example of a universal function.  \n",
    "- Create a native Python list of the same size as x and holding the same values. Apply the same two function calls to the list. Explain what happens.\n",
    "- How would you generally evaluate a function on all elements of a native Python list? (as opposed to a NumPy array)\n"
   ]
  },
  {
   "cell_type": "code",
   "execution_count": 119,
   "metadata": {},
   "outputs": [
    {
     "name": "stdout",
     "output_type": "stream",
     "text": [
      "[0.         0.11111111 0.22222222 0.33333333 0.44444444 0.55555556\n",
      " 0.66666667 0.77777778 0.88888889 1.        ]\n",
      "[1.         1.11751907 1.24884887 1.39561243 1.5596235  1.742909\n",
      " 1.94773404 2.17662993 2.43242545 2.71828183]\n",
      "[1.         0.89483932 0.8007374  0.71653131 0.64118039 0.57375342\n",
      " 0.51341712 0.45942582 0.41111229 0.36787944]\n"
     ]
    }
   ],
   "source": [
    "x = np.linspace(0, 1, 10)\n",
    "print(x)\n",
    "print(np.exp(x)) # Apply f(t)=exp(t) to each element in the array x.\n",
    "print(np.exp(-x)) # Apply the function f(t)=exp(-t) to each element of x."
   ]
  },
  {
   "cell_type": "code",
   "execution_count": 85,
   "metadata": {},
   "outputs": [
    {
     "name": "stdout",
     "output_type": "stream",
     "text": [
      "[0.0, 0.1111111111111111, 0.2222222222222222, 0.3333333333333333, 0.4444444444444444, 0.5555555555555556, 0.6666666666666666, 0.7777777777777778, 0.8888888888888888, 1.0]\n",
      "[1.0, 1.1175190687418637, 1.2488488690016821, 1.3956124250860895, 1.5596234976067807, 1.7429089986334578, 1.9477340410546757, 2.1766299317162483, 2.4324254542872077, 2.718281828459045]\n",
      "[1.0, 0.8948393168143698, 0.8007374029168081, 0.7165313105737893, 0.6411803884299546, 0.5737534207374327, 0.513417119032592, 0.45942582403592663, 0.41111229050718745, 0.36787944117144233]\n"
     ]
    }
   ],
   "source": [
    "# use native python list for the same output\n",
    "x1 = [i/9 for i in range(10)]\n",
    "print(x1)\n",
    "\n",
    "x2 = [math.exp(i) for i in x1]\n",
    "print(x2)\n",
    "\n",
    "x3 = [math.exp(-i) for i in x1]\n",
    "print(x3)\n"
   ]
  },
  {
   "cell_type": "markdown",
   "metadata": {},
   "source": [
    "**Part 2**. As already hinted at, the NumPy library comes with a plethora of useful features and functions. The code snippets below show some examples:  \n",
    "- Explain what each line of code does.\n",
    "- How would you produce the same output using native Python lists?"
   ]
  },
  {
   "cell_type": "code",
   "execution_count": 69,
   "metadata": {},
   "outputs": [
    {
     "name": "stdout",
     "output_type": "stream",
     "text": [
      "[0. 0. 0. 0. 0. 0. 0. 0. 0. 0. 0. 0. 0. 0. 0. 0. 0. 0. 0. 0.]\n",
      "[1. 1. 1. 1. 1. 1. 1. 1. 1. 1. 1. 1. 1. 1. 1. 1. 1. 1. 1. 1.]\n",
      "[ 0.  1.  2.  3.  4.  5.  6.  7.  8.  9. 10.]\n",
      "[0.         0.90909091 1.81818182 2.72727273 3.63636364 4.54545455\n",
      " 5.45454545 6.36363636 7.27272727 8.18181818 9.09090909]\n",
      "[1 2 3 4 5]\n",
      "[ 2  4  6  8 10]\n"
     ]
    }
   ],
   "source": [
    "print(np.zeros(20))\n",
    "print(np.ones(20))\n",
    "print(np.linspace(0, 10, 11))\n",
    "print(np.linspace(0, 10, 11, endpoint=False))\n",
    "vector = np.arange(5) + 1\n",
    "print(vector)#\n",
    "print(2*vector)"
   ]
  },
  {
   "cell_type": "markdown",
   "metadata": {},
   "source": [
    "The code by using numpy library gives us the output such below:\n",
    "\n",
    "- array with 20 elements equal to zero   \n",
    "- array with 20 elements equal to one  \n",
    "- array with evenly spaced 11 elements in the range of 0 and 10, with the endpoint value in the range is included  \n",
    "- array with evenly spaced 11 elements in the range of 0 and 10, with the endpoint value in the range is not included  \n",
    "- array in the range of 0 and 5, add up 1 respectively  \n",
    "- array with vector get multiplied by 2  \n",
    "\n",
    "The same output by using native Python list is shown as below:\n",
    "\n"
   ]
  },
  {
   "cell_type": "code",
   "execution_count": 127,
   "metadata": {},
   "outputs": [
    {
     "name": "stdout",
     "output_type": "stream",
     "text": [
      "[0, 0, 0, 0, 0, 0, 0, 0, 0, 0, 0, 0, 0, 0, 0, 0, 0, 0, 0, 0]\n",
      "[1, 1, 1, 1, 1, 1, 1, 1, 1, 1, 1, 1, 1, 1, 1, 1, 1, 1, 1, 1]\n",
      "[0, 1, 2, 3, 4, 5, 6, 7, 8, 9, 10]\n",
      "[0.0, 0.9090909090909092, 1.8181818181818183, 2.727272727272727, 3.6363636363636367, 4.545454545454545, 5.454545454545454, 6.363636363636363, 7.272727272727273, 8.181818181818182, 9.09090909090909]\n",
      "[1, 2, 3, 4, 5]\n",
      "[2, 4, 6, 8, 10]\n"
     ]
    }
   ],
   "source": [
    "print([0 for i in range(20)])\n",
    "print([1 for i in range(20)])\n",
    "print([i for i in range(11)])\n",
    "print([i/11*10 for i in range(11)])\n",
    "print([i for i in range(1,6)])\n",
    "print([i*2 for i in range(1,6)])"
   ]
  },
  {
   "cell_type": "markdown",
   "metadata": {},
   "source": [
    "**Part 3**. Frequently you will want to extract a subset of values from an array based on some kind of criterion. For example, you might want to count the number of non-zero numbers, or identify all values exceeding a certain threshold. With NumPy, such tasks are easily achieved using boolean masking, e.g."
   ]
  },
  {
   "cell_type": "code",
   "execution_count": 120,
   "metadata": {},
   "outputs": [
    {
     "name": "stdout",
     "output_type": "stream",
     "text": [
      "There are 7 non-zero numbers in the array.\n"
     ]
    }
   ],
   "source": [
    "array_of_numbers = np.array([4, 8, 15, 16, 23, 42,0,5])\n",
    "nnz = np.count_nonzero(array_of_numbers)\n",
    "print(f'There are {nnz} non-zero numbers in the array.')\n",
    "is_even = (array_of_numbers % 2 == 0)\n",
    "is_greater_than_17 = (array_of_numbers > 17)\n",
    "is_even_and_greater_than_17 = is_even & is_greater_than_17"
   ]
  },
  {
   "cell_type": "code",
   "execution_count": 121,
   "metadata": {},
   "outputs": [
    {
     "name": "stdout",
     "output_type": "stream",
     "text": [
      "[False False False False False  True False False]\n"
     ]
    }
   ],
   "source": [
    "print((array_of_numbers % 2 == 0) & (array_of_numbers > 17))"
   ]
  },
  {
   "cell_type": "markdown",
   "metadata": {},
   "source": [
    "However, neither of the following codes lines will execute:    \n",
    "is_even_and_greater_than_17 = is_even and is_greater_than_17  \n",
    "print(array_of_numbers % 2 == 0 & array_of_numbers > 17)\n",
    "\n",
    "- Explain why this code fails\n",
    "- Use np.logical_and to make the code work"
   ]
  },
  {
   "cell_type": "code",
   "execution_count": 98,
   "metadata": {},
   "outputs": [
    {
     "name": "stdout",
     "output_type": "stream",
     "text": [
      "There are 7 non-zero numbers in the array.\n"
     ]
    },
    {
     "data": {
      "text/plain": [
       "array([ True,  True, False,  True, False,  True,  True, False])"
      ]
     },
     "execution_count": 98,
     "metadata": {},
     "output_type": "execute_result"
    }
   ],
   "source": [
    "array_of_numbers = np.array([4, 8, 15, 16, 23, 42,0,5])\n",
    "nnz = np.count_nonzero(array_of_numbers)\n",
    "print(f'There are {nnz} non-zero numbers in the array.')\n",
    "is_even = (array_of_numbers % 2 == 0)\n",
    "is_greater_than_17 = (array_of_numbers > 17)\n",
    "is_even_and_greater_than_17 = is_even & is_greater_than_17"
   ]
  },
  {
   "cell_type": "code",
   "execution_count": 99,
   "metadata": {},
   "outputs": [
    {
     "data": {
      "text/plain": [
       "array([False, False, False, False,  True,  True, False, False])"
      ]
     },
     "execution_count": 99,
     "metadata": {},
     "output_type": "execute_result"
    }
   ],
   "source": [
    "is_greater_than_17 = (array_of_numbers > 17)\n",
    "is_greater_than_17"
   ]
  },
  {
   "cell_type": "code",
   "execution_count": 100,
   "metadata": {},
   "outputs": [],
   "source": [
    "is_even_and_greater_than_17 = is_even & is_greater_than_17"
   ]
  },
  {
   "cell_type": "markdown",
   "metadata": {},
   "source": [
    "The reason for the failure is due to the wrong quote symbol. "
   ]
  },
  {
   "cell_type": "markdown",
   "metadata": {},
   "source": [
    "**Part 4**. The function np.where can also be used to select elements from an array.\n",
    "- Explain the output of the following two lines of code:"
   ]
  },
  {
   "cell_type": "code",
   "execution_count": null,
   "metadata": {},
   "outputs": [],
   "source": [
    "np.where(array_of_numbers > 17)[0]"
   ]
  },
  {
   "cell_type": "code",
   "execution_count": null,
   "metadata": {},
   "outputs": [],
   "source": [
    "np.where(array_of_numbers > 17, 1, 0)"
   ]
  },
  {
   "cell_type": "markdown",
   "metadata": {},
   "source": [
    "## Exercise 3, Part I: Finite Differences (FD) with Functions"
   ]
  },
  {
   "cell_type": "markdown",
   "metadata": {},
   "source": [
    "------------"
   ]
  },
  {
   "cell_type": "markdown",
   "metadata": {},
   "source": [
    "**Reflections**:\n",
    "how did you work, what did you learn? what will you do differently next time? critical comments on the exercise itself. what did work and what did not work, and why?"
   ]
  },
  {
   "cell_type": "markdown",
   "metadata": {},
   "source": [
    "**Conclusion**: what was learned about the methods used, and from the results obtained? possible directions and future improvements? "
   ]
  },
  {
   "cell_type": "markdown",
   "metadata": {},
   "source": [
    "**References**:  \n",
    "1. [Information about sys float info 2023](https://note.nkmk.me/en/python-sys-float-info-max-min/#detailed-information-about-float-sysfloat_info)\n",
    "2. [IEEE 754 - 1985](https://en.wikipedia.org/wiki/IEEE_754-1985)\n",
    "3. [IEEE 754 standard](https://en.wikipedia.org/wiki/IEEE_754)\n",
    "4.  Aksel Hiorth. *Computational Engineering and Modeling*. https://github.com/ahiorth/CompEngineering, 2023"
   ]
  },
  {
   "cell_type": "markdown",
   "metadata": {},
   "source": [
    "additional points:  code quality, analysis"
   ]
  }
 ],
 "metadata": {
  "kernelspec": {
   "display_name": "Python 3",
   "language": "python",
   "name": "python3"
  },
  "language_info": {
   "codemirror_mode": {
    "name": "ipython",
    "version": 3
   },
   "file_extension": ".py",
   "mimetype": "text/x-python",
   "name": "python",
   "nbconvert_exporter": "python",
   "pygments_lexer": "ipython3",
   "version": "3.11.5"
  },
  "orig_nbformat": 4
 },
 "nbformat": 4,
 "nbformat_minor": 2
}
