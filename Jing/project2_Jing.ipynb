{
 "cells": [
  {
   "cell_type": "markdown",
   "metadata": {},
   "source": [
    "# Can you hear the size of a reservoir?\n",
    "\n",
    "**MOD510 - Project 2 G05**   \n",
    "- Jing Hou\n",
    "- Parthasarathi Jena\n",
    "\n",
    "Date: Oct.08.2023"
   ]
  },
  {
   "cell_type": "markdown",
   "metadata": {},
   "source": [
    "### Abstract :\n",
    "\n",
    "### Introduction :"
   ]
  },
  {
   "cell_type": "code",
   "execution_count": null,
   "metadata": {},
   "outputs": [],
   "source": [
    "# load libraries\n",
    "import sys\n",
    "import numpy as np\n",
    "import math\n",
    "import matplotlib.pyplot as plt\n",
    "\n",
    "#%matplotlib"
   ]
  },
  {
   "cell_type": "markdown",
   "metadata": {},
   "source": [
    "## Exercise 1: Steady-state solution\n",
    "\n",
    "**Part 1**. Show that the analytical solution to equations (16)(17)(18) is $$ p(y) = p_{init} + \\alpha (y-y_e) $$"
   ]
  },
  {
   "cell_type": "markdown",
   "metadata": {},
   "source": [
    "To prove this equation by integrating $$\\frac{dp^2}{dy^2}(y = y_w) = 0,\\quad\\text{for all } y\\in(y_w,y_e) $$ \n",
    "$$ \\Rightarrow \\frac{dp}{dy}= B $$\n",
    "Then again $$p(y) = B \\cdot y + C $$\n",
    "\n",
    "From the given equations(17)(18) \n",
    "$$ \\frac{dp}{dy}(y = y_w) = \\frac{Q \\mu }{2 \\pi h k} = \\alpha $$\n",
    "$$ p(y = y_e) = p_{init} $$\n",
    "\n",
    "It can be rewritten as $$ p(y = y_e) = p_{init} = B \\cdot y_e + C $$\n",
    "Therefore, it shows\n",
    "$$B =  \\alpha , C = p_{init} - \\alpha \\cdot y_e $$\n",
    "\n",
    "By inserting B and C back to $p(y)$ it shows that $$ \\Rightarrow  p(y) = p_{init} + \\alpha (y-y_e) $$"
   ]
  },
  {
   "cell_type": "markdown",
   "metadata": {},
   "source": [
    "**Part 2**.To enforce a fixed pressure $p_e = p(y_e) = p_{init}$ at the edge of the reservoir, the \"lazy\" option for the exterior reservoir boundary is to simply set $$p_N = p_e$$ Figure 5 illustrates the unknown pressure values for the case $N = 4$. \n",
    "- Let $N = 4$.  When using the \"lazy\" implementation of the boundary condition at $y = y_e$, derive the following matrix equation, starting from the general finite difference equations for any $N$.\n",
    "\n",
    "$$\\begin{pmatrix}\n",
    "-1 & 1 & 0 & 0 \\\\\n",
    "1 & -2 & 1 & 0 \\\\\n",
    "0 & 1 & -2 & 1 \\\\\n",
    "0 & 0 & 1 & -2 \n",
    "\\end{pmatrix}\n",
    "\\begin{pmatrix}p_0 \\\\ p_1 \\\\ p_2 \\\\ p_3 \\end{pmatrix} =\n",
    "\\begin{pmatrix}\n",
    "\\alpha \\Delta y \\\\ 0 \\\\ 0 \\\\ -p_e \\end{pmatrix}$$\n"
   ]
  },
  {
   "cell_type": "markdown",
   "metadata": {},
   "source": [
    "Based on Taylor's Formula $$f''(x) = \\frac{f(x+h) + f(x-h) - 2f(x)}{h^2}$$ In this case, \n",
    "$$\\frac{d^2p}{dy^2} = \\frac{p(y + \\Delta y) + p(y- \\Delta y) - 2p(y)}{{\\Delta y}^2}$$ \n",
    "Given the condition is fixed pressure $\\frac{ dp^2}{dy^2} = 0$ \n",
    "$$\\frac{d^2p}{dy^2} = \\frac{p(y + \\Delta y) + p(y- \\Delta y) - 2p(y)}{{\\Delta y}^2} = 0 $$\n",
    "since $\\frac{dp}{dy} = \\alpha$\n",
    "$$ \\frac{dp}{dy} = \\frac{p_0 - p_{-1}}{\\Delta y} = \\alpha $$ \n",
    "Therefore lazy mode, ghost position is $p_{-1} = p_0 - \\alpha \\Delta  y $ and $N = 4$, At boundary: $p_3 = p_e$\n",
    "\n",
    "$$ i= 0\\Rightarrow  -p_0 + p_1 =  \\alpha \\Delta y $$\n",
    "$$ i= 1\\Rightarrow   p_0 - 2p_1 + p_2 = 0 $$\n",
    "$$ i= 2\\Rightarrow   p_1 - 2p_2 + p_3 = 0 $$\n",
    "$$ i= 3\\Rightarrow   p_2 - 2p_3 = - p_e $$\n",
    "\n",
    "Then it can be written as \n",
    "$$\\begin{pmatrix}\n",
    "-1 & 1 & 0 & 0 \\\\\n",
    "1 & -2 & 1 & 0 \\\\\n",
    "0 & 1 & -2 & 1 \\\\\n",
    "0 & 0 & 1 & -2 \n",
    "\\end{pmatrix}\n",
    "\\begin{pmatrix}p_0 \\\\ p_1 \\\\ p_2 \\\\ p_3 \\end{pmatrix} =\n",
    "\\begin{pmatrix}\n",
    "\\alpha \\Delta y \\\\ 0 \\\\ 0 \\\\ -p_e \\end{pmatrix}$$"
   ]
  },
  {
   "cell_type": "markdown",
   "metadata": {},
   "source": [
    "**Part 3**. What is the truncation error for the finite difference approximation at interior grid points? (be as specific as you can!)\n",
    "\n"
   ]
  },
  {
   "cell_type": "markdown",
   "metadata": {},
   "source": [
    "**Part 4**. We want to investigate, theoretically, the error of the \"lazy\" approximation to the pressure boundary condition. Use Taylor’s formula to  \n",
    "<br>\n",
    "- Find how the order of the numerical error scales when using the \"lazy\" approximation.\n",
    "\n",
    "- Use Taylor’s formula to show that we can derive the following, \"not-so-lazy\" version of the boundary condition: $p_N = 2p_e − p_{N−1}$ (22)\n",
    "\n",
    "- Let $N = 4$. What is the matrix equation we now need to solve when using equation (22) for the outer boundary condition?"
   ]
  },
  {
   "cell_type": "markdown",
   "metadata": {},
   "source": [
    "**Part 5**\n",
    "- For both implementations of the boundary condition at $y = y_e$, solve the matrix equation multiple times by varying the number of grid points.\n",
    "\n",
    "- Based on your simulation results, make a scatter plot of the numerical error versus grid size. Ideally, you should evaluate the different solutions at the same physical point in space. Use the analytical formula given by equation (19) as the \"true solution\".\n",
    "\n",
    "- Does the error scale as you expect? Discuss."
   ]
  },
  {
   "cell_type": "markdown",
   "metadata": {},
   "source": [
    "## Exercise 2: Time-dependent solution\n",
    "\n",
    "**Part 1**\n",
    "- Show that for the special case N = 4, the matrix equation we need to solve each time step is:\n",
    "\n",
    "$$\\underbrace{\n",
    "\\begin{pmatrix}\n",
    "1 + \\xi_0 & -\\xi_0 & 0 & 0 \\\\\n",
    "-\\xi_1 & 1 + 2\\xi_1 & -\\xi_1 & 0 \\\\\n",
    "0 & -\\xi_2 & 1 + 2\\xi_2 & -\\xi_2 \\\\\n",
    "0 & 0 & -\\xi_3 & 1 + 3\\xi_3 \n",
    "\\end{pmatrix}}_{A} \\underbrace{\\begin{pmatrix}\n",
    "p_0^{n+1} \\\\\n",
    "p_1^{n+1} \\\\\n",
    "p_2^{n+1} \\\\\n",
    "p_3^{n+1} \n",
    "\\end{pmatrix}}_{p^{n+1}} = \\underbrace{\\begin{pmatrix}\n",
    "p_0^{n} \\\\\n",
    "p_1^{n} \\\\\n",
    "p_2^{n} \\\\\n",
    "p_3^{n} \\\\\n",
    "\\end{pmatrix}}_{p^n} + \\underbrace{\\begin{pmatrix}\n",
    "-\\beta \\xi_0 \\\\\n",
    "0 \\\\\n",
    "0 \\\\\n",
    "2p_i \\xi_3\n",
    "\\end{pmatrix}}_{d}$$\n",
    "\n",
    "where we have defined $$\\xi_i \\equiv \\frac{\\eta e^{-2y_i} \\Delta t }{r_w^2 \\Delta y^2}$$ and\n",
    "\n",
    "\n",
    "$$\\beta \\equiv \\frac{Q\\mu \\Delta y}{2 \\pi k h}$$"
   ]
  },
  {
   "cell_type": "markdown",
   "metadata": {},
   "source": [
    "**Part 2**\n",
    "\n",
    "Again let N = 4. Assume default model input parameters (see Appendix B), and that $\\Delta t = 0.01$ day\n",
    "\n",
    "- Show that the matrix is (in SI units):\n",
    "\n",
    "$$ \\begin{pmatrix} 5.28702460e + 03 & −5.28602460e + 03 & 0.00000000e + 00 & 0.00000000e + 00 \\\\\n",
    "−9.42633218e + 01 & 1.89526644e + 02 & −9.42633218e + 01 & 0.00000000e + 00 \\\\\n",
    "0.00000000e + 00 & −1.68095582e + 00 &  4.36191165e + 00  & −1.68095582e + 00 \\\\\n",
    "0.00000000e + 00 & 0.00000000e + 00 & −2.99757363e − 02 & 1.08992721e + 00 \\\\ \\end{pmatrix}$$\n"
   ]
  },
  {
   "cell_type": "markdown",
   "metadata": {},
   "source": [
    "**Part 3**\n",
    "- Implement a simulator that solves the time-dependent problem for any choice of input parameters."
   ]
  },
  {
   "cell_type": "markdown",
   "metadata": {},
   "source": [
    "## Exercise 3: Accuracy and performance of timedependent solution"
   ]
  },
  {
   "cell_type": "markdown",
   "metadata": {},
   "source": [
    "**Part 1**\n",
    "- For several values of N, compare your numerical solver implementation to the line-source solution given by equation (27). To do the comparison, you need to plot your solution in terms of the *physical coordinates*, i.e.,\n",
    "$r(y) = r_we^y$."
   ]
  },
  {
   "cell_type": "markdown",
   "metadata": {},
   "source": [
    "**Part 2** Next, we want to take advantage of the symmetry of the problem. At run-time, the simulator should be able to choose between three different matrix\n",
    "solvers:\n",
    "1. Dense, using numpy.linalg.solve.  \n",
    "2. Sparse using, scipy.sparse.linalg.spsolve.  \n",
    "3. Sparse, using the Thomas algorithm). An implementation of the Thomas algorithm can be found in appendix D.  \n",
    "4. Use the %timeit option in Jupyter to compare the speed of each solver.  \n",
    "How large must N be in order to see a difference?  "
   ]
  },
  {
   "cell_type": "markdown",
   "metadata": {},
   "source": [
    "## Exercise 4: Match model to well test data\n",
    "\n",
    "**Part 1** So far, we have calculated the pressure distribution *inside the reservoir*. The actual observable well pressure is missing from our calculations, but we can estimate it by discretizing equation (13).\n",
    "- Use a first-order finite difference approximation to find a formula for the well pressure in terms of the well block pressure, $p_0$.\n",
    "- In your final delivery, make sure that your numerical simulator includes a function to calculate the well pressure as a function of the well-block pressure.\n",
    "Hint: Use Taylor’s formula with step-size $\\Delta y/2$."
   ]
  },
  {
   "cell_type": "markdown",
   "metadata": {},
   "source": [
    "**Part 2**  Well test data are available in the text file well_bhp.dat (located in the data folder).\n",
    "- Read the well test data into Python, and make a scatter plot of well pressures versus time."
   ]
  },
  {
   "cell_type": "markdown",
   "metadata": {},
   "source": [
    "**Part 3** Towards the end of the test, we see that the well pressure stabilizes towards a constant value. This indicates that the pressure wave has reached the edge of the reservoir. For this part you may assume default model input (Appendix B) for all parameters except the following three: $k, p_i,$ and $r_e$\n",
    "\n",
    "- Fit your numerical model to the well test data by changing the values of $k, p_i,$ and $r_e$\n",
    "- Make a plot in which you compare 1) the well test data, 2) your numerical well pressure solution, and 3) the corresponding line-source solution.\n",
    "- Use a logarithmic scale on the x-axis.\n",
    "\n",
    "Hints: You may try to match the well test curve manually, but it might be easier to use automated curve-fitting."
   ]
  },
  {
   "cell_type": "markdown",
   "metadata": {},
   "source": [
    "**Part 4**\n",
    "- Based on the value you found for $r_e$, what is the total volume of water in the reservoir?"
   ]
  },
  {
   "cell_type": "markdown",
   "metadata": {},
   "source": [
    "------------------------------------\n",
    "### **Reflections**:\n",
    "- Jing:\n",
    "\n",
    "\n",
    "- Partha:\n",
    "\n",
    "### **Conclusion**: \n",
    "\n"
   ]
  },
  {
   "cell_type": "markdown",
   "metadata": {},
   "source": [
    "\n",
    "### **References**: \n",
    "\n",
    "[1]  Laurence Patrick Dake. Fundamentals of Reservoir Engineering. Elsevier, 1983.\n",
    "[2]  \n",
    "[3]\n",
    "[4] \n",
    "[5] Aksel Hiorth. *Computational Engineering and Modeling*. https://github.com/ahiorth/CompEngineering, 2023  \n",
    "[6] Robert Edwin Wengert. A simple automatic derivative evaluation program. Communications of the ACM, 7(8):463–464, 1964."
   ]
  }
 ],
 "metadata": {
  "kernelspec": {
   "display_name": "Python 3",
   "language": "python",
   "name": "python3"
  },
  "language_info": {
   "name": "python",
   "version": "3.11.5"
  },
  "orig_nbformat": 4
 },
 "nbformat": 4,
 "nbformat_minor": 2
}
