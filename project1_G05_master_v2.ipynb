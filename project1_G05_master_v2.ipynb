{
 "cells": [
  {
   "cell_type": "markdown",
   "metadata": {},
   "source": [
    "# The tip of the iceberg or Automatic for the people\n",
    "\n",
    "**MOD510 - Project 1 G05**   \n",
    "- Jing Hou\n",
    "- Parthasarathi Jena\n",
    "\n",
    "Date: Sep.08.2023"
   ]
  },
  {
   "cell_type": "markdown",
   "metadata": {},
   "source": [
    "### Abstract:\n",
    "\n",
    "Since the computer does not have infinite memory to represent the floating point, understanding floating-point numbers and taking into consideration numerical errors become vital when it comes to computational modeling. In this project, we have tested out two numerical derivatives methods approach (forward difference and central difference) in comparison to analytical derivative solution, and discovered that algorithmic and round-off errors from the scatter plot created. We noticed that algorithmic error decreases when step size gets smaller, however when step size value reach to certain point in the range($10^{-8}$ for forward difference,$10^{-6}$ for central difference), it will introduce round-off errors and absolute errors start to increase significantly. We have also used powerful Numpy libraries. It shows that Numpy library's vectorized implementation enables much more efficient execution of tasks compared to using native Python lists. Lastly, we have experimented automatic differentiation (AD) implementation and appreciated the powerful use of AD. It offers great accuracy and good efficiency. Nevertheless, it still have its own limitations for high-dimension complex problems. "
   ]
  },
  {
   "cell_type": "markdown",
   "metadata": {},
   "source": [
    "### Introduction :\n",
    "\n",
    "In this project, we aim at expanding our knowledge in limitations and introduced truncation errors of numerical algorithm; as well as enhancing our programming skills in Python such as writing loops, functions, fancy classes and utilize powerful Python libraries to visualize and manipulate data set. It shows that different strategies can have a great impact on our code efficiency. \n",
    "\n",
    "we investigated and compared two common numerical differentiation methods: the forward difference method and the central difference method. The forward difference method and the central difference method are two approaches for approximating derivatives. The forward difference method computes the derivative of a function at a point by considering the slope of a line connecting the function's values at that point and a slightly forward point. The forward difference approximation of the derivative of a function $f(x)$ is given by $(f(x+h) - f(x))/h$, where 'h' is a small step size. It is straightforward to implement and computationally efficient. However, it can introduce errors, especially when 'h' is not sufficiently small, leading to accuracy issues.\n",
    "\n",
    "Central difference method calculates the derivative by considering the slope of a line connecting points both forward and backward from the evaluation point. The central difference approximation of the derivative of a function $f(x)$ is given by $(f(x+h) - f(x-h))/(2*h)$, where 'h' is the step size. It offers higher accuracy compared to the forward difference method, as it cancels out some error terms. However, it may require more function evaluations when it is more accurate, making it slightly slower for very large datasets.\n",
    "\n",
    "The choice for picking these methods depends on the specific application's accuracy requirements and computational resources. The central difference method is often favored when higher accuracy is needed, while the forward difference method remains a simpler and quicker alternative for less demanding scenarios. Both methods serve as essential tools in numerical analysis, aiding in solving diverse mathematical and scientific problems."
   ]
  },
  {
   "cell_type": "code",
   "execution_count": 2,
   "metadata": {
    "ExecuteTime": {
     "end_time": "2023-09-07T11:15:54.203955Z",
     "start_time": "2023-09-07T11:15:51.207431Z"
    }
   },
   "outputs": [],
   "source": [
    "# load libraries\n",
    "import sys\n",
    "import numpy as np\n",
    "import math\n",
    "import matplotlib.pyplot as plt\n",
    "\n",
    "#%matplotlib"
   ]
  },
  {
   "cell_type": "markdown",
   "metadata": {},
   "source": [
    "## Exercise 1: Finite-precision arithmetic\n",
    "**Part 1**. Run the following code snippet:\n",
    "- Explain the meaning of the printed-out numbers"
   ]
  },
  {
   "cell_type": "code",
   "execution_count": 3,
   "metadata": {
    "ExecuteTime": {
     "end_time": "2023-09-07T11:45:31.507840Z",
     "start_time": "2023-09-07T11:45:31.503210Z"
    }
   },
   "outputs": [
    {
     "data": {
      "text/plain": [
       "sys.float_info(max=1.7976931348623157e+308, max_exp=1024, max_10_exp=308, min=2.2250738585072014e-308, min_exp=-1021, min_10_exp=-307, dig=15, mant_dig=53, epsilon=2.220446049250313e-16, radix=2, rounds=1)"
      ]
     },
     "execution_count": 3,
     "metadata": {},
     "output_type": "execute_result"
    }
   ],
   "source": [
    "sys.float_info"
   ]
  },
  {
   "cell_type": "markdown",
   "metadata": {},
   "source": [
    "This code provides the detailed information about float point numbers in 64-bit double-precision.\n",
    "\n",
    "**max:** the maximum floating point value that it can represent  \n",
    "**max_exp:** the maximum exponent of 2 that can be represented  \n",
    "**max_10_exp:** the maximum exponent of 10 that can be represented  \n",
    "**min:** the minimum floating point value that it can represent  \n",
    "**min_exp:**  the minimum exponent of 2 that can be represented  \n",
    "**min_10_exp:** the minimum exponent of 10 that can be represented  \n",
    "**dig:** maximum number of decimal digits that can be represented in a float  \n",
    "**mant_dig:** is maximum of significand including 1 bit of implicit value and 52 bits of fraction that can be represented  \n",
    "**epsilon:** is machine precision that smallest relative approximation error due to floating point arithmetic.  \n",
    "**radix:** \tthe base of exponent representation  \n",
    "**rounds:** the rounding mode used for arithmetic operations.  "
   ]
  },
  {
   "cell_type": "markdown",
   "metadata": {},
   "source": [
    "**Part 2**. Show how you can calculate the printed-out values max, min, epsilon yourself (again, based on the IEEE standard)."
   ]
  },
  {
   "cell_type": "markdown",
   "metadata": {},
   "source": [
    "IEEE 754 double-precision binary floating-pint format: float64\n",
    "\n",
    "Sign bit = 1 bit\n",
    "Exponent = 11 bits\n",
    "significand precision = 53 bits (52 explicitly stored)\n",
    "\n",
    "manual calculation shown as below:\n",
    "- max: $(2-2^{-52})2^{1023}= 1.7976931348623157*10^{308}$\n",
    "- min: $2^{-1022}= 2.2250738585072014*10^{-308}$\n",
    "- epsilon= $2^{-52} = 2.220446049250313*10^{-16}$\n",
    "\n",
    "Appendix A shows the code for procedurally calculating the same\n"
   ]
  },
  {
   "cell_type": "markdown",
   "metadata": {},
   "source": [
    "**Part 3**. In Python, typing 0.1+0.2 does not (typically) produce the same output as 0.3. Why not?"
   ]
  },
  {
   "cell_type": "code",
   "execution_count": 4,
   "metadata": {
    "ExecuteTime": {
     "end_time": "2023-09-07T11:45:34.922450Z",
     "start_time": "2023-09-07T11:45:34.917861Z"
    }
   },
   "outputs": [
    {
     "data": {
      "text/plain": [
       "False"
      ]
     },
     "execution_count": 4,
     "metadata": {},
     "output_type": "execute_result"
    }
   ],
   "source": [
    "a = 0.1 + 0.2\n",
    "a == 0.3"
   ]
  },
  {
   "cell_type": "markdown",
   "metadata": {},
   "source": [
    "That is due to binary system the computer use where the numbers are converting from decimal into the binary first. Both 0.1 and 0.2 (1/10 and 1/5 )are not representable in binary since floating-point numbers in computers are represented with finite numbers of bits. It then ends up with tiny precision errors\n",
    "\n",
    "Appendix B shows how this can be computed with code. \n"
   ]
  },
  {
   "cell_type": "markdown",
   "metadata": {},
   "source": [
    "**Part 4**. Should you use the == operator to test whether two floating-point numbers are equal? Why / why not? Can you think of alternative ways to do floating-point number comparison?\n",
    "\n",
    "No, you should avoid using this operator for testing two floating-point numbers are equal. Similarly to the problem above, the two floating numbers may not be representable in binary floating format in computer as the computer has finite numbers of bits to represent floating-point values and it may lead to tiny errors.\n",
    "\n",
    "Alternative way is to check if the difference between two floating-point numbers is very small and close rather than checking for exact equality. The proposed of options are shown as below: \n",
    " \n",
    " 1. define equality function that check floating-point numbers are close enough so round-off errors become irrelevant  \n",
    " 2. Use math.isclose/ np.isclose function  \n",
    " "
   ]
  },
  {
   "cell_type": "code",
   "execution_count": 5,
   "metadata": {
    "ExecuteTime": {
     "end_time": "2023-09-07T11:45:36.483190Z",
     "start_time": "2023-09-07T11:45:36.478511Z"
    }
   },
   "outputs": [
    {
     "name": "stdout",
     "output_type": "stream",
     "text": [
      "Is 0.1+0.2==0.3: False\n",
      "Difference: 0.3-(0.1+0.2) = -5.551115123125783e-17\n",
      "alternative method 1:  Is 0.3-(0.1+0.2) < 1.52587890625e-05: True\n",
      "alternative method 2: np.isclose(0.1+0.2, 0.3): True\n"
     ]
    }
   ],
   "source": [
    "print('Is 0.1+0.2==0.3:', 0.1+0.2 == 0.3)  # check if equality holds\n",
    "print('Difference: 0.3-(0.1+0.2) =', 0.3-(0.1+0.2))  # difference\n",
    "epsilon = 2**-16\n",
    "print(f'alternative method 1:  Is 0.3-(0.1+0.2) < {epsilon}:', 0.3-(0.1+0.2) < epsilon) # alternative method 1\n",
    "print('alternative method 2: np.isclose(0.1+0.2, 0.3):', np.isclose(0.1+0.2, 0.3)) # alternative method 2"
   ]
  },
  {
   "cell_type": "markdown",
   "metadata": {},
   "source": [
    "## Exercise 2: Get up to speed with NumPy"
   ]
  },
  {
   "cell_type": "markdown",
   "metadata": {},
   "source": [
    "**Part 1**. The following code block gives an example of a vectorized function:\n",
    "\n",
    "Notice the usage of np.exp instead of using the exponential function provided in the built-in math library; this is an example of a universal function.  \n",
    "- Create a native Python list of the same size as x and holding the same values. Apply the same two function calls to the list. Explain what happens.\n",
    "- How would you generally evaluate a function on all elements of a native Python list? (as opposed to a NumPy array)\n"
   ]
  },
  {
   "cell_type": "code",
   "execution_count": 6,
   "metadata": {
    "ExecuteTime": {
     "end_time": "2023-09-07T11:45:37.963187Z",
     "start_time": "2023-09-07T11:45:37.958316Z"
    }
   },
   "outputs": [
    {
     "name": "stdout",
     "output_type": "stream",
     "text": [
      "[0.         0.11111111 0.22222222 0.33333333 0.44444444 0.55555556\n",
      " 0.66666667 0.77777778 0.88888889 1.        ]\n",
      "[1.         1.11751907 1.24884887 1.39561243 1.5596235  1.742909\n",
      " 1.94773404 2.17662993 2.43242545 2.71828183]\n",
      "[1.         0.89483932 0.8007374  0.71653131 0.64118039 0.57375342\n",
      " 0.51341712 0.45942582 0.41111229 0.36787944]\n"
     ]
    }
   ],
   "source": [
    "x = np.linspace(0, 1, 10)\n",
    "print(x)\n",
    "print(np.exp(x)) # Apply f(t)=exp(t) to each element in the array x.\n",
    "print(np.exp(-x)) # Apply the function f(t)=exp(-t) to each element of x."
   ]
  },
  {
   "cell_type": "code",
   "execution_count": 7,
   "metadata": {
    "ExecuteTime": {
     "end_time": "2023-09-07T11:45:38.043325Z",
     "start_time": "2023-09-07T11:45:38.038896Z"
    }
   },
   "outputs": [
    {
     "name": "stdout",
     "output_type": "stream",
     "text": [
      "[0.0, 0.1111111111111111, 0.2222222222222222, 0.3333333333333333, 0.4444444444444444, 0.5555555555555556, 0.6666666666666666, 0.7777777777777778, 0.8888888888888888, 1.0]\n",
      "[1.0, 1.1175190687418637, 1.2488488690016821, 1.3956124250860895, 1.5596234976067807, 1.7429089986334578, 1.9477340410546757, 2.1766299317162483, 2.4324254542872077, 2.718281828459045]\n",
      "[1.0, 0.8948393168143698, 0.8007374029168081, 0.7165313105737893, 0.6411803884299546, 0.5737534207374327, 0.513417119032592, 0.45942582403592663, 0.41111229050718745, 0.36787944117144233]\n"
     ]
    }
   ],
   "source": [
    "# use native python list for the same output\n",
    "x1 = [i/9 for i in range(10)]\n",
    "print(x1)\n",
    "\n",
    "x2 = [math.exp(i) for i in x1]\n",
    "print(x2)\n",
    "\n",
    "x3 = [math.exp(-i) for i in x1]\n",
    "print(x3)\n"
   ]
  },
  {
   "cell_type": "markdown",
   "metadata": {},
   "source": [
    "**Part 2**. As already hinted at, the NumPy library comes with a plethora of useful features and functions. The code snippets below show some examples:  \n",
    "- Explain what each line of code does.\n",
    "- How would you produce the same output using native Python lists?"
   ]
  },
  {
   "cell_type": "code",
   "execution_count": 8,
   "metadata": {
    "ExecuteTime": {
     "end_time": "2023-09-07T11:45:39.483572Z",
     "start_time": "2023-09-07T11:45:39.477689Z"
    }
   },
   "outputs": [
    {
     "name": "stdout",
     "output_type": "stream",
     "text": [
      "[0. 0. 0. 0. 0. 0. 0. 0. 0. 0. 0. 0. 0. 0. 0. 0. 0. 0. 0. 0.]\n",
      "[1. 1. 1. 1. 1. 1. 1. 1. 1. 1. 1. 1. 1. 1. 1. 1. 1. 1. 1. 1.]\n",
      "[ 0.  1.  2.  3.  4.  5.  6.  7.  8.  9. 10.]\n",
      "[0.         0.90909091 1.81818182 2.72727273 3.63636364 4.54545455\n",
      " 5.45454545 6.36363636 7.27272727 8.18181818 9.09090909]\n",
      "[1 2 3 4 5]\n",
      "[ 2  4  6  8 10]\n"
     ]
    }
   ],
   "source": [
    "print(np.zeros(20))\n",
    "print(np.ones(20))\n",
    "print(np.linspace(0, 10, 11))\n",
    "print(np.linspace(0, 10, 11, endpoint=False))\n",
    "vector = np.arange(5) + 1\n",
    "print(vector)\n",
    "print(2*vector)"
   ]
  },
  {
   "cell_type": "markdown",
   "metadata": {},
   "source": [
    "The code by using numpy library gives us the output such below:\n",
    "\n",
    "- array with 20 elements equal to zero   \n",
    "- array with 20 elements equal to one  \n",
    "- array with evenly spaced 11 elements in the range of 0 and 10, with the endpoint value in the range is included  \n",
    "- array with evenly spaced 11 elements in the range of 0 and 10, with the endpoint value in the range is not included  \n",
    "- array in the range of 0 and 5, add up 1 respectively  \n",
    "- array with vector get multiplied by 2  \n",
    "\n",
    "The same output by using native Python list is shown as below:\n",
    "\n"
   ]
  },
  {
   "cell_type": "code",
   "execution_count": 9,
   "metadata": {
    "ExecuteTime": {
     "end_time": "2023-09-07T11:47:17.124058Z",
     "start_time": "2023-09-07T11:47:17.119621Z"
    }
   },
   "outputs": [
    {
     "name": "stdout",
     "output_type": "stream",
     "text": [
      "[0, 0, 0, 0, 0, 0, 0, 0, 0, 0, 0, 0, 0, 0, 0, 0, 0, 0, 0, 0]\n",
      "[1, 1, 1, 1, 1, 1, 1, 1, 1, 1, 1, 1, 1, 1, 1, 1, 1, 1, 1, 1]\n",
      "[0, 1, 2, 3, 4, 5, 6, 7, 8, 9, 10]\n",
      "[0.0, 0.9090909090909092, 1.8181818181818183, 2.727272727272727, 3.6363636363636367, 4.545454545454545, 5.454545454545454, 6.363636363636363, 7.272727272727273, 8.181818181818182, 9.09090909090909]\n",
      "[1, 2, 3, 4, 5]\n",
      "[2, 4, 6, 8, 10]\n"
     ]
    }
   ],
   "source": [
    "print([0 for i in range(20)]) # or [0]*20\n",
    "print([1 for i in range(20)]) # or [1]*20\n",
    "print([i for i in range(11)])\n",
    "print([i/11*10 for i in range(11)])\n",
    "print([i for i in range(1,6)])\n",
    "print([i*2 for i in range(1,6)])"
   ]
  },
  {
   "cell_type": "markdown",
   "metadata": {},
   "source": [
    "**Part 3**. Frequently you will want to extract a subset of values from an array based on some kind of criterion. For example, you might want to count the number of non-zero numbers, or identify all values exceeding a certain threshold. With NumPy, such tasks are easily achieved using boolean masking, e.g."
   ]
  },
  {
   "cell_type": "code",
   "execution_count": 10,
   "metadata": {
    "ExecuteTime": {
     "end_time": "2023-09-07T11:47:49.420803Z",
     "start_time": "2023-09-07T11:47:49.415390Z"
    }
   },
   "outputs": [
    {
     "name": "stdout",
     "output_type": "stream",
     "text": [
      "There are 7 non-zero numbers in the array.\n"
     ]
    }
   ],
   "source": [
    "array_of_numbers = np.array([4, 8, 15, 16, 23, 42,0,5])\n",
    "nnz = np.count_nonzero(array_of_numbers)\n",
    "print(f'There are {nnz} non-zero numbers in the array.')\n",
    "is_even = (array_of_numbers % 2 == 0)\n",
    "is_greater_than_17 = (array_of_numbers > 17)\n",
    "is_even_and_greater_than_17 = is_even & is_greater_than_17"
   ]
  },
  {
   "cell_type": "markdown",
   "metadata": {},
   "source": [
    "However, neither of the following codes lines will execute:    \n",
    "\n",
    "- Explain why this code fails\n",
    "- Use np.logical_and to make the code work"
   ]
  },
  {
   "cell_type": "code",
   "execution_count": 11,
   "metadata": {
    "ExecuteTime": {
     "end_time": "2023-09-07T11:48:01.433683Z",
     "start_time": "2023-09-07T11:48:01.430746Z"
    }
   },
   "outputs": [],
   "source": [
    "#error on executing the following codes \n",
    "#is_even_and_greater_than_17 = is_even and is_greater_than_17\n",
    "#print(array_of_numbers % 2 == 0 & array_of_numbers > 17)"
   ]
  },
  {
   "cell_type": "code",
   "execution_count": 12,
   "metadata": {
    "ExecuteTime": {
     "end_time": "2023-09-07T11:48:02.164768Z",
     "start_time": "2023-09-07T11:48:02.159783Z"
    }
   },
   "outputs": [
    {
     "name": "stdout",
     "output_type": "stream",
     "text": [
      "[False False False False False  True False False]\n",
      "[False False False False False  True False False]\n",
      "[False False False False False  True False False]\n"
     ]
    }
   ],
   "source": [
    "# suggested solutions\n",
    "is_even_and_greater_than_17 = is_even & is_greater_than_17\n",
    "print(is_even_and_greater_than_17)\n",
    "print(((array_of_numbers % 2) == 0) & (array_of_numbers > 17)) \n",
    "print(np.logical_and((array_of_numbers % 2 == 0),(array_of_numbers > 17)))\n"
   ]
  },
  {
   "cell_type": "markdown",
   "metadata": {},
   "source": [
    "The failure on this first part is due to the input is array structure and it happens when using logical operator AND on numpy array. and Bit-wise operator works fine is because numpy overloads the & operator to perform element-wise bitwise AND on arrays.\n",
    "\n",
    "The second error is due to the operators precedence and orders issues. when we use bitwise operator & it will have lower precedence. It will be fixed when we add parentheses to group the input or use np.logical_and"
   ]
  },
  {
   "cell_type": "markdown",
   "metadata": {},
   "source": [
    "**Part 4**. The function np.where can also be used to select elements from an array.\n",
    "- Explain the output of the following two lines of code:"
   ]
  },
  {
   "cell_type": "code",
   "execution_count": 13,
   "metadata": {
    "ExecuteTime": {
     "end_time": "2023-09-07T11:48:15.051539Z",
     "start_time": "2023-09-07T11:48:15.046401Z"
    }
   },
   "outputs": [
    {
     "data": {
      "text/plain": [
       "array([4, 5], dtype=int64)"
      ]
     },
     "execution_count": 13,
     "metadata": {},
     "output_type": "execute_result"
    }
   ],
   "source": [
    "np.where(array_of_numbers > 17)[0]\n",
    "#it returns the index of the array where the condition is satisfied"
   ]
  },
  {
   "cell_type": "code",
   "execution_count": 14,
   "metadata": {
    "ExecuteTime": {
     "end_time": "2023-09-07T11:48:15.750439Z",
     "start_time": "2023-09-07T11:48:15.745581Z"
    }
   },
   "outputs": [
    {
     "data": {
      "text/plain": [
       "array([0, 0, 0, 0, 1, 1, 0, 0])"
      ]
     },
     "execution_count": 14,
     "metadata": {},
     "output_type": "execute_result"
    }
   ],
   "source": [
    "np.where(array_of_numbers > 17, 1, 0)\n",
    "# it returns with an array where 1 condition is true and 0 where condition is false"
   ]
  },
  {
   "cell_type": "markdown",
   "metadata": {},
   "source": [
    "## Exercise 3, Part I: Finite Differences (FD) with Functions"
   ]
  },
  {
   "cell_type": "markdown",
   "metadata": {},
   "source": [
    "In scientific computing one often needs to calculate derivatives of functions. For problems encountered in practice, exact formulas may not be available, in which case numerical estimates are needed. However, to evaluate the correctness of our programmed numerical methods, it is still a very good idea to test the code on simple functions where the derivative is known. In this exercise, we consider a function that is relevant for describing wave phenomenona: $f(x) = sin(bx) · e^{−ax2}$ One way to implement the function in Python is:"
   ]
  },
  {
   "cell_type": "code",
   "execution_count": 15,
   "metadata": {
    "ExecuteTime": {
     "end_time": "2023-09-07T11:48:18.497092Z",
     "start_time": "2023-09-07T11:48:18.493839Z"
    }
   },
   "outputs": [],
   "source": [
    "def f(x, a=0.1, b=10):\n",
    "    return np.sin(b*x)*np.exp(-a*x*x)"
   ]
  },
  {
   "cell_type": "markdown",
   "metadata": {},
   "source": [
    "We have chosen to define a and b as default arguments, which allows us to evaluate the function at x = 1 by simply typing f(1); this is equivalent to the command f(1, 0.1, 10). If you want to change the b parameter, you can do, e.g., f(1, b=2). Note also that the function works both when x is a single number and when it is a Numpy array. This is because we use the Numpy versions of the sine (np.sin) and exponential (np.exp) functions. We will exploit this property of Python several times during this project.  \n",
    "\n",
    "**Part 1**. It is always a good idea to start by visualizing the function in a plot.\n",
    "- Make a Python function that plots f(x) from equation (1) over an arbitrary closed interval.\n",
    "- Use the function to plot f(x) in the range [−10, 10]. Try to make your figure similar to the one shown in figure 1"
   ]
  },
  {
   "cell_type": "code",
   "execution_count": 16,
   "metadata": {
    "ExecuteTime": {
     "end_time": "2023-09-07T11:48:20.084237Z",
     "start_time": "2023-09-07T11:48:20.080185Z"
    }
   },
   "outputs": [],
   "source": [
    "def plot_func(f,start,end):\n",
    "    \n",
    "    dx= 0.01 # step size\n",
    "    N = int((end-start)/dx) # number of points\n",
    "    x = np.linspace(start, end, N)\n",
    "    y = f(x)\n",
    "    \n",
    "    plt.plot(x,f(x),label='a Gaussian \\nwave packet')\n",
    "    plt.legend()\n",
    "    plt.grid()\n",
    "    plt.xlabel('x')\n",
    "    plt.ylabel('f(x)')\n",
    "    plt.title('Figure 1: A plot of $f(x)$',fontsize =10, y=-0.2)\n",
    "    "
   ]
  },
  {
   "cell_type": "code",
   "execution_count": 17,
   "metadata": {
    "ExecuteTime": {
     "end_time": "2023-09-07T11:48:21.436719Z",
     "start_time": "2023-09-07T11:48:21.006533Z"
    }
   },
   "outputs": [
    {
     "data": {
      "image/png": "[encoded data removed]",
      "text/plain": [
       "<Figure size 640x480 with 1 Axes>"
      ]
     },
     "metadata": {},
     "output_type": "display_data"
    }
   ],
   "source": [
    "plot_func(f,-10,10)"
   ]
  },
  {
   "cell_type": "markdown",
   "metadata": {},
   "source": [
    "**Part 2**. The analytical derivative of f(x) is $f'(x) = b cos(bx) · e^{−ax2} − 2ax sin(bx) · e^{−ax2}$  \n",
    "- Write a Python function that calculates the derivative defined in equation (not the numerical derivative)"
   ]
  },
  {
   "cell_type": "code",
   "execution_count": 18,
   "metadata": {
    "ExecuteTime": {
     "end_time": "2023-09-07T11:48:22.835783Z",
     "start_time": "2023-09-07T11:48:22.830453Z"
    }
   },
   "outputs": [],
   "source": [
    "def analytical_derivative(x, a=0.1, b=10):\n",
    "    return b*np.cos(b*x)*np.exp(-a*x*x)- 2*a*x*np.sin(b*x)*np.exp(-a*x*x)"
   ]
  },
  {
   "cell_type": "markdown",
   "metadata": {},
   "source": [
    "**Part 3**. Next, you are going to write a Python function that calculates the numerical derivative of an *arbitrary* single-variable function f at a point x using finite differences.  \n",
    "- Write a Python function that calculates the derivative of an arbitrary function using the forward difference method (see section 3.3 in [3] ).\n",
    "\n",
    "- Apply your function to the particular case of equation (1) and x = 1. Use a suitable value of h, e.g. $h = 1e − 2$, and check that your estimate agrees reasonably well with the analytical solution."
   ]
  },
  {
   "cell_type": "code",
   "execution_count": 19,
   "metadata": {
    "ExecuteTime": {
     "end_time": "2023-09-07T11:48:23.979642Z",
     "start_time": "2023-09-07T11:48:23.975895Z"
    }
   },
   "outputs": [],
   "source": [
    "def forward_diff(f, x, h,*args):\n",
    "    return (f(x+h,*args)-f(x,*args))/h"
   ]
  },
  {
   "cell_type": "code",
   "execution_count": 20,
   "metadata": {
    "ExecuteTime": {
     "end_time": "2023-09-07T11:48:24.922244Z",
     "start_time": "2023-09-07T11:48:24.919026Z"
    }
   },
   "outputs": [],
   "source": [
    "x = 1\n",
    "h = 1e-2\n",
    "\n",
    "estimate = forward_diff(f,x,h)\n",
    "analytical_solution = analytical_derivative(x)"
   ]
  },
  {
   "cell_type": "code",
   "execution_count": 21,
   "metadata": {
    "ExecuteTime": {
     "end_time": "2023-09-07T11:48:25.675553Z",
     "start_time": "2023-09-07T11:48:25.670734Z"
    }
   },
   "outputs": [
    {
     "name": "stdout",
     "output_type": "stream",
     "text": [
      "The given point x = 1, h = 0.01\n",
      "Numerical value: -7.220096595246589\n",
      "Analytical value: -7.493783027703379\n",
      "The difference of numerical value to the true analytical values is 0.27368643245679003\n"
     ]
    }
   ],
   "source": [
    "print(f'The given point x = {x}, h = {h}')\n",
    "print(f'Numerical value: {estimate}')\n",
    "print(f'Analytical value: {analytical_solution}')\n",
    "print(f'The difference of numerical value to the true analytical values is {np.abs(estimate-analytical_solution)}')\n",
    "# Numerical derivative is close enough to analytical derivative, yet remain with slightly difference when h is not small enough"
   ]
  },
  {
   "cell_type": "markdown",
   "metadata": {},
   "source": [
    "**Part 4**.\n",
    "- Write another Python function that calculates f'(x) with the central difference method (see section 3.4 in [3])."
   ]
  },
  {
   "cell_type": "code",
   "execution_count": 22,
   "metadata": {
    "ExecuteTime": {
     "end_time": "2023-09-07T11:48:41.754227Z",
     "start_time": "2023-09-07T11:48:41.751060Z"
    }
   },
   "outputs": [],
   "source": [
    "def central_diff(f, x, h,*args):\n",
    "    return 0.5*(f(x+h,*args)-f(x-h,*args))/h"
   ]
  },
  {
   "cell_type": "markdown",
   "metadata": {},
   "source": [
    "**Part 5**. Next, we wish to quantify the error in our numerical derivative approximations for the point x = 1.  \n",
    "- For each of the two derivative approximations to f'(1) (forward difference and central difference), make a scatter plot that shows the absolute error of the approximation on the y-axis versus the step size, h, on the x-axis. Include both error curves in the same figure. The step sizes should be varied logarithmically between $h = 10^{−16}$ and $h = 10^0 = 1$.\n",
    "- Comment on what you observe in the figure you made. When is the numerical error smallest, and why? Is it what you expect from a theoretical\n",
    "analysis using Taylor’s formula?"
   ]
  },
  {
   "cell_type": "code",
   "execution_count": 23,
   "metadata": {
    "ExecuteTime": {
     "end_time": "2023-09-07T11:48:44.371614Z",
     "start_time": "2023-09-07T11:48:44.038833Z"
    }
   },
   "outputs": [
    {
     "data": {
      "image/png": "[encoded data removed]",
      "text/plain": [
       "<Figure size 640x480 with 1 Axes>"
      ]
     },
     "metadata": {},
     "output_type": "display_data"
    }
   ],
   "source": [
    "x = 1\n",
    "h = np.logspace(-16,0) # step size\n",
    "\n",
    "abs_error_forward = np.abs(forward_diff(f,x,h)- analytical_derivative(x))\n",
    "abs_error_central = np.abs(central_diff(f,x,h)- analytical_derivative(x))\n",
    "\n",
    "plt.scatter(h,abs_error_forward,label='forward difference error', c='b', marker='.')\n",
    "plt.scatter(h,abs_error_central,label='central difference error', c='r', marker='.')\n",
    "plt.legend()\n",
    "plt.grid()\n",
    "plt.xscale('log')\n",
    "plt.yscale('log')\n",
    "plt.xlabel('step h')\n",
    "plt.ylabel('Absolute error')\n",
    "plt.title('Figure 2: Scatter plot that shows forward difference and central difference errors on step size h', fontsize =10, y=-0.2)\n",
    "plt.show()"
   ]
  },
  {
   "cell_type": "markdown",
   "metadata": {},
   "source": [
    "From the taylor expansion of arbitrary function $f(x)$\n",
    "the round off error for derivative by `forward difference` is given by  \n",
    "$$f'(x) = \\frac{f(x+h) -f(x)}{h} \\pm \\frac {2\\epsilon|f(x)|}{h}-\\frac {h}{2}f''(\\eta)$$\n",
    "$$R_2 = \\frac {2\\epsilon|f(x)|}{h}+\\frac {h}{2}|f''(\\eta)| $$\n",
    "\n",
    "to minimize $R_2$ we differentiate with $dh$ and solving for $h$, we get:\n",
    "\n",
    "$$h = \\sqrt{\\epsilon |f(x)/f''(x)|} \\approx 2.10^{-8} $$\n",
    "\n",
    "Similarly it can be shown that for `central difference` the step size $h \\approx epsilon ^{3/2} \\approx 10^{-6}$ \n",
    "\n",
    "This behavior of round-off errors is according to Taylor's expansion. As h gradually decrease, absolute error for both methods tend to decrease accordingly. However, when h decreases and then reaches to the smallest, then round-off errors are introduced and the absolute errors start to increase."
   ]
  },
  {
   "cell_type": "code",
   "execution_count": 24,
   "metadata": {
    "ExecuteTime": {
     "end_time": "2023-09-07T11:49:17.866795Z",
     "start_time": "2023-09-07T11:49:17.863074Z"
    }
   },
   "outputs": [
    {
     "name": "stdout",
     "output_type": "stream",
     "text": [
      "The smallest numerical error for forward difference is 6.184754e-08 when h = 3.237458e-09\n",
      "The smallest numerical error for central difference is 3.326468e-10 when h = 1.325711e-06\n"
     ]
    }
   ],
   "source": [
    "print(f'The smallest numerical error for forward difference is {np.min(abs_error_forward):.6e} when h = {h[np.argmin(abs_error_forward)]:.6e}')\n",
    "print(f'The smallest numerical error for central difference is {np.min(abs_error_central):.6e} when h = {h[np.argmin(abs_error_central)]:.6e}')"
   ]
  },
  {
   "cell_type": "markdown",
   "metadata": {},
   "source": [
    "## Exercise 3, Part II: FD with Classes"
   ]
  },
  {
   "cell_type": "markdown",
   "metadata": {},
   "source": [
    "**Part 1**.\n",
    "- Add a function (instance method) to the class that returns the forward difference approximation to the derivative of the function f at a point x. Include both x and the step-size h as input arguments to the function.  \n",
    "- Add another second function which calculates the central difference approximation.\n",
    "\n",
    "**Part 2**.\n",
    "- Make a third class function that, for any input x, creates scatter plots showing the absolute error of the two finite difference approximations of f'(x) versus step size. As before, choose step sizes in the range from $10^{−16}$ to $1$ (with logarithmic spacing).\n",
    "Hint: You should re-use the first two functions when making the third one."
   ]
  },
  {
   "cell_type": "code",
   "execution_count": 25,
   "metadata": {
    "ExecuteTime": {
     "end_time": "2023-09-07T11:49:34.194203Z",
     "start_time": "2023-09-07T11:49:34.183837Z"
    }
   },
   "outputs": [],
   "source": [
    "class WavePacket:\n",
    "    \"\"\" A class representation of a wave packet-function.\"\"\"\n",
    "    \n",
    "    def __init__(self, a, b):\n",
    "        self.a = a\n",
    "        self.b = b\n",
    "        \n",
    "    def __call__(self, x):\n",
    "        \"\"\"A slightly more fancy class representation of a wave packet-function.\n",
    "        In this version, we define the dunder (double-underscore) method __call__,\n",
    "        which lets us treat objects of the class as if they were real functions! \"\"\"\n",
    "        \n",
    "        return np.sin(self.b*x)*np.exp(-self.a*x*x)\n",
    "\n",
    "    def analytical_derivative(self, x):\n",
    "        return self.b *np.cos(self.b*x) * np.exp(-self.a*x*x)- 2 *self.a*x*np.sin(self.b*x)*np.exp(-self.a*x*x)\n",
    "    \n",
    "    def forward_diff(self, x, h):\n",
    "        return (self.__call__(x+h)- self.__call__(x)) / h\n",
    "    \n",
    "    def central_diff(self, x, h):\n",
    "        return 0.5*(self.__call__(x+h) - self.__call__(x-h))/ h\n",
    "\n",
    "    def plot(self, x):\n",
    "        '''scatter plot of absolute error of two difference versus step size h '''\n",
    "        \n",
    "        h = np.logspace(-16,0) # step size \n",
    "        \n",
    "        abs_error_forward = np.abs(self.forward_diff(x,h)- self.analytical_derivative(x))\n",
    "        abs_error_central = np.abs(self.central_diff(x,h)- self.analytical_derivative(x))\n",
    "        \n",
    "        plt.scatter(h,abs_error_forward,label='forward difference error', c='b', marker='.')\n",
    "        plt.scatter(h,abs_error_central,label='central difference error', c='r', marker='.')\n",
    "        plt.legend()\n",
    "        plt.grid()\n",
    "        plt.xscale('log')\n",
    "        plt.yscale('log')\n",
    "        plt.xlabel('step size h')\n",
    "        plt.ylabel('Absolute error')\n"
   ]
  },
  {
   "cell_type": "code",
   "execution_count": 26,
   "metadata": {
    "ExecuteTime": {
     "end_time": "2023-09-07T11:49:35.509674Z",
     "start_time": "2023-09-07T11:49:34.886928Z"
    }
   },
   "outputs": [
    {
     "name": "stdout",
     "output_type": "stream",
     "text": [
      "when x = 1, a = 0.1, b =2, the wavepacket value is 0.8227663359156917\n",
      "when x = 1, a = 0.1, b = 10, the wavepacket value is -0.49225065733419177\n"
     ]
    },
    {
     "data": {
      "image/png": "[encoded data removed]",
      "text/plain": [
       "<Figure size 640x480 with 1 Axes>"
      ]
     },
     "metadata": {},
     "output_type": "display_data"
    },
    {
     "data": {
      "image/png": "[encoded data removed]",
      "text/plain": [
       "<Figure size 640x480 with 1 Axes>"
      ]
     },
     "metadata": {},
     "output_type": "display_data"
    }
   ],
   "source": [
    "# Create two WavePacket objects, having their own parameter values\n",
    "WP1 = WavePacket(0.1, 2) # a=0.1, b=2\n",
    "WP2 = WavePacket(0.1, 10) # a = 0.1, b=10\n",
    "\n",
    "# Evaluate the two functions at a specific point\n",
    "x = 1\n",
    "\n",
    "print(f'when x = 1, a = 0.1, b =2, the wavepacket value is {WP1(x)}')\n",
    "print(f'when x = 1, a = 0.1, b = 10, the wavepacket value is {WP2(x)}')\n",
    "\n",
    "# Plot the two functions\n",
    "WP1.plot(x)\n",
    "plt.title ('Figure 3: Scatter plot that shows two difference errors versus step size h, when a = 0.1, b = 2', fontsize =10, y=-0.2)\n",
    "plt.show()\n",
    "WP2.plot(x)\n",
    "plt.title ('Figure 4: Scatter plot that shows two difference errors versus step size h, when a = 0.1, b = 10', fontsize =10, y=-0.2)\n",
    "plt.show()"
   ]
  },
  {
   "cell_type": "markdown",
   "metadata": {},
   "source": [
    "## Exercise 5: Automatic for the people?"
   ]
  },
  {
   "cell_type": "markdown",
   "metadata": {},
   "source": [
    "**Part 1**.\n",
    "- Add the following functions to your class, what happens when you do x+y? will allow you to get nice formatted output.\n",
    "\n",
    "**Part 2**.In the code we have implemented + operator, however if you try to execute +x or -x, Python will give an error message TypeError: bad operand type for unary -: ’duple’.\n",
    "- Extend your code to make it possible to perform those operations. (Hint:check out __neg__ and __pos__ in the documentation)\n",
    "- Implement the - operator using __sub__, test that if you do x-y you get[-2,-2]\n",
    "\n",
    "So far we have treated the function (top) and derivative (bottom) equally in terms of addition and subtraction. That is because addition and subtraction is a linear operation, i.e. $(f(x) + g(x))'= f'(x) + g'(x)$. For multiplication and division we have different rules\n",
    "\n",
    "$(f(x) · g(x))' = f'(x) · g(x) + f(x) · g'(x)$    (11)\n",
    "\n",
    "$(\\frac{f(x)}{g(x)})' = \\frac{f'(x) · g(x) − f(x) · g'(x)} {g(x)^2}$   (12)\n",
    "\n",
    "**Part 3**.\n",
    "- use the __mul__ function to implement the * operator, use normal multiplication for the top, and equation (11) for the bottom.\n",
    "- use the __truediv__ function to implement the / operator, use normal division for the top, and equation (12) for the bottom."
   ]
  },
  {
   "cell_type": "code",
   "execution_count": 27,
   "metadata": {
    "ExecuteTime": {
     "end_time": "2023-09-07T11:50:21.325391Z",
     "start_time": "2023-09-07T11:50:21.319472Z"
    }
   },
   "outputs": [],
   "source": [
    "class duple:\n",
    "    '''Class for automatic differentiation \n",
    "    top: function value \n",
    "    bottom: derivative of function  '''\n",
    "\n",
    "    def __init__(self,top, bottom=0):\n",
    "        self.top = top\n",
    "        self.bottom = bottom\n",
    "        \n",
    "    def __add__(self, d): # u+v, u'+v'\n",
    "        return duple(self.top + d.top, self.bottom + d.bottom )\n",
    "    \n",
    "    def __neg__(self):    # -u, -u'\n",
    "        return duple( -self.top,  -self.bottom)\n",
    "    \n",
    "    def __pos__(self):   # +u,  +u'\n",
    "        return duple( +self.top, +self.bottom)\n",
    "    \n",
    "    def __sub__(self, d): # u-v, u'-v'\n",
    "        return duple(self.top - d.top, self.bottom - d.bottom)\n",
    "    \n",
    "    def __mul__(self, d): # u*v,  u'*v + v'u\n",
    "        return duple(self.top * d.top, self.bottom * d.top + self.top * d.bottom)\n",
    "    \n",
    "    def __truediv__(self, d): # u/v,  (u'* v - u* v')/ v^2\n",
    "        return duple(self.top / d.top, ((self.bottom * d.top - self.top * d.bottom) / d.top**2))\n",
    "\n",
    "    def __repr__(self):\n",
    "        return \"[\"+str(self.top)+\",\"+str(self.bottom)+\"]\"\n",
    "    \n",
    "    def __str__(self):\n",
    "        return \"[\"+str(self.top)+\",\"+str(self.bottom)+\"]\""
   ]
  },
  {
   "cell_type": "code",
   "execution_count": 28,
   "metadata": {
    "ExecuteTime": {
     "end_time": "2023-09-07T11:50:24.074728Z",
     "start_time": "2023-09-07T11:50:24.070506Z"
    }
   },
   "outputs": [
    {
     "name": "stdout",
     "output_type": "stream",
     "text": [
      "Formatted x+y: [4,6]\n",
      "-x: [-1,-2];  +x :[1,2]\n",
      "x-y : [-2,-2]\n"
     ]
    }
   ],
   "source": [
    "x= duple(1,2) #f(x)=1, f'(x)=2\n",
    "y= duple(3,4) #g(x)=3, g'(x)=4\n",
    "#x+y   #f(x)+g(x)=4, f'(x)+g'(x)=6\n",
    "\n",
    "z = x+y\n",
    "\n",
    "print('Formatted x+y:',z) # formatted output\n",
    "print(f'-x: {-x};  +x :{+x}')\n",
    "print('x-y :',x-y)"
   ]
  },
  {
   "cell_type": "markdown",
   "metadata": {},
   "source": [
    "Test of code. Before proceeding to more advanced functions, we can actually do quite a lot with our small code and calculate derivatives of simple functions"
   ]
  },
  {
   "cell_type": "code",
   "execution_count": 29,
   "metadata": {
    "ExecuteTime": {
     "end_time": "2023-09-07T11:50:55.685463Z",
     "start_time": "2023-09-07T11:50:55.679089Z"
    }
   },
   "outputs": [
    {
     "name": "stdout",
     "output_type": "stream",
     "text": [
      "auto diff= [1.728,4.32]\n",
      "analytical= 1.728 4.319999999999999\n",
      "auto diff= [0.45454545454545453,-0.20661157024793386]\n",
      "analytical= 0.45454545454545453 -0.20661157024793386\n",
      "auto diff= [3.0944787419716917,4.297548854694511]\n",
      "analytical= 3.0944787419716917 4.297548854694511\n"
     ]
    }
   ],
   "source": [
    "x=1.2 # just for making it easy to use other values\n",
    "One=duple(1.,0.) # derivative of a constant is zero\n",
    "X=duple(x,1) # derivative of x with respect to x is 1\n",
    "print(\"auto diff=\",X*X*X)\n",
    "print(\"analytical=\",x*x*x, 3*x*x)\n",
    "print(\"auto diff=\", One/(One+X))\n",
    "print(\"analytical=\", 1/(1+x),-1/(1+x)**2)\n",
    "Exp=duple(np.exp(x),np.exp(x)) # derivative of exp(x) is exp(x)\n",
    "Sin=duple(np.sin(x),np.cos(x)) # derivative of sin(x) is cos(x)\n",
    "print(\"auto diff=\", Exp*Sin)\n",
    "print(\"analytical=\", np.exp(x)*np.sin(x), np.exp(x)*np.sin(x)+np.exp(x)*np.cos(x))"
   ]
  },
  {
   "cell_type": "markdown",
   "metadata": {},
   "source": [
    "So far we have only implemented functions where we explicitly know the derivative, but it would be more convenient if we could implement more complicated functions, such as $ln(1+ex)$, without explicitly calculating the derivatives. Actually the only thing we need to do is to implement the kernel rule for the bottom part $f(g(x))' = f'(g(x)) · g'(x)$ (13)"
   ]
  },
  {
   "cell_type": "markdown",
   "metadata": {},
   "source": [
    "**Part 4**. Finish the code below"
   ]
  },
  {
   "cell_type": "code",
   "execution_count": 30,
   "metadata": {
    "ExecuteTime": {
     "end_time": "2023-09-07T11:51:10.387125Z",
     "start_time": "2023-09-07T11:51:10.383316Z"
    }
   },
   "outputs": [],
   "source": [
    "class dfunction:\n",
    "    \n",
    "    def __init__(self, f, df):\n",
    "        self.f = f\n",
    "        self.df = df\n",
    "        \n",
    "    def __call__(self,d: duple): # kernel rule sending in and returning duple\n",
    "        return duple(self.f(d.top), self.df(d.top)*d.bottom)\n",
    "    "
   ]
  },
  {
   "cell_type": "code",
   "execution_count": 31,
   "metadata": {
    "ExecuteTime": {
     "end_time": "2023-09-07T11:51:11.540769Z",
     "start_time": "2023-09-07T11:51:11.535716Z"
    }
   },
   "outputs": [
    {
     "name": "stdout",
     "output_type": "stream",
     "text": [
      "auto diff  [1.4632824673380311,0.7685247834990176]\n",
      "analytical  1.4632824673380311 0.7685247834990176\n"
     ]
    }
   ],
   "source": [
    "def f(x):\n",
    "    return np.log(x)\n",
    "def df(x):\n",
    "    return 1/x\n",
    "    \n",
    "Log=dfunction(f,df) #note no arguments to f - we are passing the function\n",
    "Exp=dfunction(np.exp,np.exp) # same here\n",
    "print(\"auto diff \", Log(One+Exp(X)))\n",
    "print(\"analytical \", np.log(1+np.exp(x)),np.exp(x)/(1+np.exp(x)))"
   ]
  },
  {
   "cell_type": "code",
   "execution_count": 32,
   "metadata": {
    "ExecuteTime": {
     "end_time": "2023-09-07T11:51:22.502273Z",
     "start_time": "2023-09-07T11:51:22.496712Z"
    }
   },
   "outputs": [
    {
     "name": "stdout",
     "output_type": "stream",
     "text": [
      "auto diff  [-0.49225065733419177,-7.493783027703379]\n",
      "analytical  -0.49225065733419177 -7.493783027703379\n"
     ]
    }
   ],
   "source": [
    "a=0.1\n",
    "b=10\n",
    "x=1\n",
    "A=duple(a) #second argument is default 0 i.e. a constant\n",
    "B=duple(b) #second argument is default 0 i.e. a constant\n",
    "X=duple(x,1)\n",
    "\n",
    "Sin = dfunction(np.sin, np.cos)\n",
    "print(\"auto diff \", Sin(B*X)*Exp(-A*X*X))\n",
    "print(\"analytical \", np.sin(b*x)*np.exp(-a*x*x),b*np.cos(b*x)*np.exp(-a*x*x)\n",
    "-2*a*x*np.sin(b*x)*np.exp(-a*x*x))"
   ]
  },
  {
   "cell_type": "markdown",
   "metadata": {},
   "source": [
    "**Part 5**.\n",
    "- Write a few sentences about the use of automatic differentiation in some areas\n",
    "- Make some comments about the strength and weaknesses of automatic differentiation compared to numerical differentiation"
   ]
  },
  {
   "cell_type": "markdown",
   "metadata": {},
   "source": [
    "Areas of application:\n",
    "The automatic differentiation tool can be useful wherever gradient of a function needs to be computed. this can be useful in various fields such as: Climate modelling, machine learning/ deep learning, finance and risk assessment \n",
    "\n",
    "The implementation of automatic differentiation strengths :\n",
    "1. Good accuracy: the results arrived at from the automatic differentiation (AD) which is a very close match to the analytical solution. This was achieved using very basic operations. Finding the differential of a function is independent of the step size chosen, in contrast to Taylor's expansion where the derivative is dependent on step size and also gives an error proportional to step size\n",
    "2. Efficiency: The calculation time for computing differentials using AD is much less than those from first principals (for example using Taylor's expansion)\n",
    "3. Universal: We were able to implement differentiation of arbitrary nested functions using our simple algorithm without needing to customize it. \n",
    "\n",
    "\n",
    "Weakness:\n",
    "1. Non-intuitive: Though the implementation of the AD algorithm was very simple, the formulation of the algorithm needs quite a bit of thinking and is not intuitive to understand\n",
    "2. Complexity for high dimensional problems: In this exercise, we implemented basic functions (log, exp, sin, cos). It is possible the ease of implementation is not so straightforward when considering very complex and nested functions in a higher dimensions"
   ]
  },
  {
   "cell_type": "markdown",
   "metadata": {},
   "source": [
    "---------------"
   ]
  },
  {
   "cell_type": "markdown",
   "metadata": {},
   "source": [
    "**Reflections**:\n",
    "how did you work, what did you learn? what will you do differently next time? critical comments on the exercise itself. what did work and what did not work, and why?\n",
    "\n",
    "- Jing: Both of us have successfully completed all the tasks within this project. I found it valuable to explore the information of floating-point data type and gain a deep understanding of how algorithmic errors and round-off errors can impact model-building. This project has provided us with a valuable and comprehensive introduction, equipping us with the knowledge and skills necessary for future modeling projects. Additionally, I get to practice during Exercise 5, where I learned how to implement automatic differentiation. However, Exercise 4 required an older version of Python to run, which posed a minor inconvenience.\n",
    "\n",
    "- Partha:"
   ]
  },
  {
   "cell_type": "markdown",
   "metadata": {},
   "source": [
    "**Conclusion**: what was learned about the methods used, and from the results obtained? possible directions and future improvements? "
   ]
  },
  {
   "cell_type": "markdown",
   "metadata": {},
   "source": [
    "# APPENDIX 1"
   ]
  },
  {
   "attachments": {
    "64bitrepr.png": {
     "image/png": "[encoded data removed]"
    }
   },
   "cell_type": "markdown",
   "metadata": {},
   "source": [
    "Show how you can calculate the printed-out values max, min, epsilon yourself\n",
    "\n",
    "According to the IEEE 754-1985 standard for a 64bit computer \n",
    "1. 1 bit is reserved for the sign of the float (sign bit), say a\n",
    "1. 52 bits are used to represent the fraction of the float, say b\n",
    "1. 11 bits are used to represent exponenet  of the float, say c\n",
    "1. in addition float is represented in the normalized fashion, that is to say 1. is always assumed to be the first digit of the fraction\n",
    "![fig, 64bit allocation](attachment:64bitrepr.png)\n",
    "\n",
    "Each bit can either be 0 or 1.\n",
    "\n",
    "For calculating the decimal number from the bit values the following formula can be used\n",
    "\n",
    "$\\pm M\\cdot2^{E-e}$\n",
    "\n",
    "$M=1.F$\n",
    "\n",
    "where M is the mantissa E is the exponent and e is the bias. Bias, e, has a fixed value $(2^{11-1}-1=1023), 0<E<2^{2^{11}-2}$. Ehe exponenet $E$ has two less possibilities as `00000000000` and `11111111111` are reserved to represent to represent $0$ and $\\infty $. In combination with the sign bit, they can also represent $-0$ and $-\\infty$\n",
    "\n",
    "**Calculating the max, min,  epsilon**\n",
    "\n",
    "The code below calculates the maximum, min and epsilon. \n"
   ]
  },
  {
   "cell_type": "code",
   "execution_count": 33,
   "metadata": {
    "ExecuteTime": {
     "end_time": "2023-09-07T11:06:21.087965Z",
     "start_time": "2023-09-07T11:06:21.083267Z"
    }
   },
   "outputs": [],
   "source": [
    "def calcdecfrombinary(F, E, signbit =0, e=2**10-1, mp =False):\n",
    "    # lets ignore the sign bit for the moment \n",
    "    # the frac is 51 bits\n",
    "    # exp is 11 bits\n",
    "    \n",
    "    def fractodec(F):\n",
    "        div = 2\n",
    "        dec =0\n",
    "        for digit in F:\n",
    "            dec += int(digit)/div\n",
    "            div = div*2\n",
    "        #print('F=',dec)\n",
    "        return(dec)\n",
    "    \n",
    "    def exptodec(E):\n",
    "        mul = 1\n",
    "        dec =0\n",
    "        for digit in list(E)[::-1]:\n",
    "            dec += int(digit)*mul\n",
    "            mul = mul*2\n",
    "        #print('E =',dec)\n",
    "        return(dec)\n",
    "    \n",
    "    M = 1+fractodec(F)\n",
    "    \n",
    "    if mp :\n",
    "        E1 =e\n",
    "    else:\n",
    "        E1 = exptodec(E)\n",
    "    m =2**(E1-e) \n",
    "    #print('m =',m,'(E1-e): ',(E1-e))\n",
    "    number = M*m\n",
    "    print(f'F =[{F}](binary), {M-1}(decimal), \\nM = 1+F ={M}(decimal) \\nE = [{E}](binary), {E1}(decimal)')\n",
    "    return(number)"
   ]
  },
  {
   "cell_type": "code",
   "execution_count": 34,
   "metadata": {
    "ExecuteTime": {
     "end_time": "2023-09-07T11:06:25.622193Z",
     "start_time": "2023-09-07T11:06:25.615757Z"
    }
   },
   "outputs": [
    {
     "name": "stdout",
     "output_type": "stream",
     "text": [
      "Decimal equivalent of a binary number is given by(ignoring the sign bit)\n",
      "M*2^(E-e), e is the bias, a constant(=1023)\n",
      "M = 1.F)\n",
      "\n",
      "Maximum number possible to store\n",
      "================================================================================\n",
      "F =[1111111111111111111111111111111111111111111111111111](binary), 0.9999999999999998(decimal), \n",
      "M = 1+F =1.9999999999999998(decimal) \n",
      "E = [11111111110](binary), 2046(decimal)\n",
      "Biggest number: 1.7976931348623157e+308\n",
      "\n",
      "\n",
      "Min positive number possible to store\n",
      "================================================================================\n",
      "F =[0000000000000000000000000000000000000000000000000000](binary), 0.0(decimal), \n",
      "M = 1+F =1.0(decimal) \n",
      "E = [00000000001](binary), 1(decimal)\n",
      "smallest number: 2.2250738585072014e-308\n",
      "\n",
      "\n",
      "Calculating machine precision\n",
      "================================================================================\n",
      "To represent 1, the both fraction, F, and Exponent, E-e, is all zeros \n",
      "To represent number just higher than 1, the both fraction, F, is 51x0s followed by 1 \n",
      "and Exponent, E-e, is all zeros => E=e\n",
      "F =[0000000000000000000000000000000000000000000000000001](binary), 2.220446049250313e-16(decimal), \n",
      "M = 1+F =1.0000000000000002(decimal) \n",
      "E = [1111111111](binary), 1023(decimal)\n",
      "calculated machine precision: -2.220446049250313e-16\n",
      "\n",
      "\n"
     ]
    }
   ],
   "source": [
    "print('Decimal equivalent of a binary number is given by(ignoring the sign bit)')\n",
    "print(f'M*2^(E-e), e is the bias, a constant(={2**10-1})' )\n",
    "print('M = 1.F)\\n' )\n",
    "\n",
    "print('Maximum number possible to store')\n",
    "print('='*80)\n",
    "F='1'*52\n",
    "E='1'*10+'0' # the last bit is to be 0 since 11 bits of all 1 represents infinity\n",
    "print (f'Biggest number: {calcdecfrombinary(F,E)}')\n",
    "print('\\n')\n",
    "\n",
    "print('Min positive number possible to store')\n",
    "print('='*80)\n",
    "F='0'*52 # all bits of fraction are 0\n",
    "E='0'*10+'1' # the last bit is to be 1 since 11 bits of all 0 represents one\n",
    "print (f'smallest number: {calcdecfrombinary(F,E)}')\n",
    "print('\\n')\n",
    "\n",
    "print('Calculating machine precision')\n",
    "print('='*80)\n",
    "print('To represent 1, the both fraction, F, and Exponent, E-e, is all zeros ')\n",
    "print('To represent number just higher than 1, the both fraction, F, is 51x0s followed by 1 ')\n",
    "print('and Exponent, E-e, is all zeros => E=e')\n",
    "F='0'*51+'1' \n",
    "E='1'*10 # equal to bias, e\n",
    "epsilon = 1-calcdecfrombinary(F,E)\n",
    "print (f'calculated machine precision: {epsilon}')\n",
    "print('\\n')"
   ]
  },
  {
   "cell_type": "markdown",
   "metadata": {},
   "source": [
    "# Appendix B\n",
    "\n"
   ]
  },
  {
   "cell_type": "code",
   "execution_count": 35,
   "metadata": {
    "ExecuteTime": {
     "end_time": "2023-09-07T11:08:29.034015Z",
     "start_time": "2023-09-07T11:08:29.027388Z"
    }
   },
   "outputs": [],
   "source": [
    "class binNbit():\n",
    "    '''\n",
    "    class that takes a number a and \n",
    "    1. calculates the binary equivalent\n",
    "    2. converts this binary equivalent to decimal \n",
    "    3. checks if the reverse conversion produces the same output\n",
    "    this only works with +ve numbers below 1 for now.\n",
    "    '''\n",
    "    def __init__(self, a, n=16):\n",
    "        self.n = n\n",
    "        self.a = a\n",
    "        self.bin = ''\n",
    "        self.dec = 0.0\n",
    "    def dec2bin(self):\n",
    "        '''\n",
    "        calculated the binary of number a with n bits of precision after decimal \n",
    "        (a)decimal = b(binary)\n",
    "        b is of the form 0.xxxxxx... (n number of x's)\n",
    "        n is the number of bits used for binary representation\n",
    "        '''\n",
    "        # To avoid the decimal separator, multiply the decimal number \n",
    "        # with the base raised to the power of decimals in result\n",
    "        n = self.n\n",
    "        a = int(self.a*2**n)\n",
    "        #print(a)\n",
    "        div = 2\n",
    "        quotent = a\n",
    "        reminder = ''\n",
    "\n",
    "        for i in range(n):\n",
    "            quotent = a//div\n",
    "            reminder = str(int(a%div))+reminder\n",
    "            #print(f'{a}/2',quotent, reminder, i)\n",
    "            a=quotent\n",
    "        self.bin = ('0.'+reminder)\n",
    "        return(self.bin)\n",
    "    \n",
    "    def bin2dec(self ):\n",
    "        '''\n",
    "        calculated the decimal equivalent of a binary number b  \n",
    "        (b)decimal = d(binary)\n",
    "        b  is a string of the form 0.xxxxxx \n",
    "        '''\n",
    "        # remove the decimal point\n",
    "        b = self.bin[0]+self.bin[2:]\n",
    "        div = 1\n",
    "        dec =0\n",
    "        for digit in b:\n",
    "            dec += int(digit)/div\n",
    "            div = div*2\n",
    "        self.dec = dec\n",
    "        return(self.dec)\n",
    "    \n",
    "    def __call__(self):\n",
    "        \n",
    "        self.dec2bin()\n",
    "        self.bin2dec()\n",
    "        return('there and back again : done')\n",
    "    \n",
    "    def issame(self):\n",
    "        '''\n",
    "        check the accuracy of the conversion\n",
    "        '''\n",
    "        if self.a == self.dec:\n",
    "            return(f'decimal input {self.a} is equal machine decimal representation {self.dec}')\n",
    "        else:\n",
    "            return(f'decimal input {self.a} is *NOT* equal machine decimal representation {self.dec}')     \n",
    "        \n",
    "    def __repr__(self):\n",
    "        ''' \n",
    "        represntation of the class\n",
    "        '''\n",
    "        self()\n",
    "        return(f'input: {self.a}, {self.n} bit binary equiv: {self.bin}, decimal equiv:{self.dec}')"
   ]
  },
  {
   "cell_type": "code",
   "execution_count": 36,
   "metadata": {
    "ExecuteTime": {
     "end_time": "2023-09-07T11:14:39.725232Z",
     "start_time": "2023-09-07T11:14:39.720281Z"
    }
   },
   "outputs": [
    {
     "data": {
      "text/plain": [
       "(input: 0.2, 8 bit binary equiv: 0.00110011, decimal equiv:0.19921875,\n",
       " input: 0.2, 16 bit binary equiv: 0.0011001100110011, decimal equiv:0.1999969482421875)"
      ]
     },
     "execution_count": 36,
     "metadata": {},
     "output_type": "execute_result"
    }
   ],
   "source": [
    "p = binNbit(0.2,8)\n",
    "q = binNbit(0.2,16)\n",
    "\n",
    "p, q"
   ]
  },
  {
   "cell_type": "code",
   "execution_count": 37,
   "metadata": {
    "ExecuteTime": {
     "end_time": "2023-09-07T11:08:44.499540Z",
     "start_time": "2023-09-07T11:08:44.494407Z"
    }
   },
   "outputs": [
    {
     "data": {
      "text/plain": [
       "('decimal input 0.2 is *NOT* equal machine decimal representation 0.19921875',\n",
       " 'decimal input 0.2 is *NOT* equal machine decimal representation 0.1999969482421875')"
      ]
     },
     "execution_count": 37,
     "metadata": {},
     "output_type": "execute_result"
    }
   ],
   "source": [
    "p.issame(), q.issame()"
   ]
  },
  {
   "cell_type": "markdown",
   "metadata": {},
   "source": [
    "**Discussion:**\n",
    "\n",
    "The above class takes a decimal number, $a$,  and the number of bits, $n$, that is to be used to represent in binary. It converts the *raw decimal* to its binary equivalent, $bin$, representing it in $n$ bits after decimal place. The class also converts the binary representation $bin$ back to decimal representation, $dec$. \n",
    "\n",
    "The class function `issame` tells us if the *raw decimal*  has been faithfully converted\n",
    "\n",
    "When converting 0.2 to binary we get 0.0011(0011)...(repeting). Some part of 0.2 is always lost by truncation when converting to binary. With increased number of bits used to represent the decimal the precision is increased but it is impossible to reach 0.2 with finite number of bits. Thus 0.1 + 0.2 can never be equal to 0.3."
   ]
  },
  {
   "cell_type": "markdown",
   "metadata": {},
   "source": [
    "**References**:  \n",
    "[1] [Information about sys float info 2023](https://note.nkmk.me/en/python-sys-float-info-max-min/#detailed-information-about-float-sysfloat_info)  \n",
    "[2] [IEEE 754 - 1985](https://en.wikipedia.org/wiki/IEEE_754-1985)  \n",
    "[3] [IEEE 754 standard](https://en.wikipedia.org/wiki/IEEE_754)  \n",
    "[4]  Aksel Hiorth. *Computational Engineering and Modeling*. https://github.com/ahiorth/CompEngineering, 2023  \n",
    "[5] Peter Fretwell, Hamish D. Pritchard, David G. Vaughan, Jonathan L. Bamber, Nicholas E. Barrand, R. Bell, C. Bianchi, RG Bingham, Donald D.  \n",
    "Blankenship, and G. Casassa. Bedmap2: Improved ice bed, surface and thickness datasets for antarctica. The Cryosphere, 7(1):375–393, 2013.  \n",
    "\n",
    "[6] Peter D. Noerdlinger and Kay R. Brower. The melting of floating ice raises the ocean level. *Geophysical Journal International*, 170(1):145–150, 2007.\n",
    "\n",
    "[7] Robert Edwin Wengert. A simple automatic derivative evaluation program. Communications of the ACM, 7(8):463–464, 1964."
   ]
  }
 ],
 "metadata": {
  "kernelspec": {
   "display_name": "Python 3 (ipykernel)",
   "language": "python",
   "name": "python3"
  },
  "language_info": {
   "codemirror_mode": {
    "name": "ipython",
    "version": 3
   },
   "file_extension": ".py",
   "mimetype": "text/x-python",
   "name": "python",
   "nbconvert_exporter": "python",
   "pygments_lexer": "ipython3",
   "version": "3.11.5"
  },
  "toc": {
   "base_numbering": 1,
   "nav_menu": {},
   "number_sections": true,
   "sideBar": true,
   "skip_h1_title": false,
   "title_cell": "Table of Contents",
   "title_sidebar": "Contents",
   "toc_cell": false,
   "toc_position": {},
   "toc_section_display": true,
   "toc_window_display": false
  }
 },
 "nbformat": 4,
 "nbformat_minor": 2
}
